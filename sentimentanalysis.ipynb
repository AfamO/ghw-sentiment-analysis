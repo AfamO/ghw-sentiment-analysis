{
  "cells": [
    {
      "cell_type": "markdown",
      "metadata": {
        "colab_type": "text",
        "id": "view-in-github"
      },
      "source": [
        "<a href=\"https://colab.research.google.com/github/AfamO/ghw-sentiment-analysis/blob/main/sentimentanalysis.ipynb\" target=\"_parent\"><img src=\"https://colab.research.google.com/assets/colab-badge.svg\" alt=\"Open In Colab\"/></a>"
      ]
    },
    {
      "cell_type": "code",
      "execution_count": 11,
      "metadata": {
        "_cell_guid": "b1076dfc-b9ad-4769-8c92-a6c4dae69d19",
        "_uuid": "8f2839f25d086af736a60e9eeb907d3b93b6e0e5",
        "execution": {
          "iopub.execute_input": "2024-02-12T13:32:04.320140Z",
          "iopub.status.busy": "2024-02-12T13:32:04.318914Z",
          "iopub.status.idle": "2024-02-12T13:32:04.330050Z",
          "shell.execute_reply": "2024-02-12T13:32:04.328998Z",
          "shell.execute_reply.started": "2024-02-12T13:32:04.320101Z"
        },
        "id": "8c-KU13AyYSR",
        "trusted": true
      },
      "outputs": [],
      "source": [
        "# This Python 3 environment comes with many helpful analytics libraries installed\n",
        "# It is defined by the kaggle/python Docker image: https://github.com/kaggle/docker-python\n",
        "# For example, here's several helpful packages to load\n",
        "\n",
        "import numpy as np # linear algebra\n",
        "import pandas as pd # data processing, CSV file I/O (e.g. pd.read_csv)\n",
        "\n",
        "\n",
        "# Input data files are available in the read-only \"../input/\" directory\n",
        "# For example, running this (by clicking run or pressing Shift+Enter) will list all files under the input directory\n",
        "\n",
        "import os\n",
        "for dirname, _, filenames in os.walk('/kaggle/input'):\n",
        "    for filename in filenames:\n",
        "        print(os.path.join(dirname, filename))\n",
        "\n",
        "# You can write up to 20GB to the current directory (/kaggle/working/) that gets preserved as output when you create a version using \"Save & Run All\"\n",
        "# You can also write temporary files to /kaggle/temp/, but they won't be saved outside of the current session"
      ]
    },
    {
      "cell_type": "markdown",
      "metadata": {
        "id": "aJLLCFsOyYSU"
      },
      "source": [
        "# Sentiment Analysis Using Spacy and  Amazon Product  Review Dataset"
      ]
    },
    {
      "cell_type": "markdown",
      "metadata": {
        "id": "J8w15NHYyYSV"
      },
      "source": [
        "**Import some other libraries not already imported by kaggle**"
      ]
    },
    {
      "cell_type": "code",
      "execution_count": 12,
      "metadata": {
        "execution": {
          "iopub.execute_input": "2024-02-12T13:32:04.332859Z",
          "iopub.status.busy": "2024-02-12T13:32:04.332067Z",
          "iopub.status.idle": "2024-02-12T13:32:04.341950Z",
          "shell.execute_reply": "2024-02-12T13:32:04.340847Z",
          "shell.execute_reply.started": "2024-02-12T13:32:04.332810Z"
        },
        "id": "mgkjvrS1yYSV",
        "trusted": true
      },
      "outputs": [],
      "source": [
        "import string\n",
        "import re\n",
        "import math\n",
        "import matplotlib.pyplot as plt"
      ]
    },
    {
      "cell_type": "markdown",
      "metadata": {
        "id": "i9Jrw93gyYSW"
      },
      "source": [
        "**Now import Amazon product review dataset and display the dataset subsequently**"
      ]
    },
    {
      "cell_type": "code",
      "execution_count": 13,
      "metadata": {
        "colab": {
          "base_uri": "https://localhost:8080/",
          "height": 1000
        },
        "execution": {
          "iopub.execute_input": "2024-02-12T13:32:04.344518Z",
          "iopub.status.busy": "2024-02-12T13:32:04.344081Z",
          "iopub.status.idle": "2024-02-12T13:32:05.056926Z",
          "shell.execute_reply": "2024-02-12T13:32:05.055786Z",
          "shell.execute_reply.started": "2024-02-12T13:32:04.344479Z"
        },
        "id": "hOpL0s98yYSW",
        "outputId": "fc90decf-146c-4933-9319-ca512843e3fe",
        "trusted": true
      },
      "outputs": [
        {
          "name": "stderr",
          "output_type": "stream",
          "text": [
            "/tmp/ipykernel_25568/2392011624.py:8: DtypeWarning: Columns (1,10) have mixed types. Specify dtype option on import or set low_memory=False.\n",
            "  review = pd.read_csv(\"Amazon Review.csv\");\n"
          ]
        },
        {
          "data": {
            "text/html": [
              "<div>\n",
              "<style scoped>\n",
              "    .dataframe tbody tr th:only-of-type {\n",
              "        vertical-align: middle;\n",
              "    }\n",
              "\n",
              "    .dataframe tbody tr th {\n",
              "        vertical-align: top;\n",
              "    }\n",
              "\n",
              "    .dataframe thead th {\n",
              "        text-align: right;\n",
              "    }\n",
              "</style>\n",
              "<table border=\"1\" class=\"dataframe\">\n",
              "  <thead>\n",
              "    <tr style=\"text-align: right;\">\n",
              "      <th></th>\n",
              "      <th>id</th>\n",
              "      <th>name</th>\n",
              "      <th>asins</th>\n",
              "      <th>brand</th>\n",
              "      <th>categories</th>\n",
              "      <th>keys</th>\n",
              "      <th>manufacturer</th>\n",
              "      <th>reviews.date</th>\n",
              "      <th>reviews.dateAdded</th>\n",
              "      <th>reviews.dateSeen</th>\n",
              "      <th>...</th>\n",
              "      <th>reviews.doRecommend</th>\n",
              "      <th>reviews.id</th>\n",
              "      <th>reviews.numHelpful</th>\n",
              "      <th>reviews.rating</th>\n",
              "      <th>reviews.sourceURLs</th>\n",
              "      <th>reviews.text</th>\n",
              "      <th>reviews.title</th>\n",
              "      <th>reviews.userCity</th>\n",
              "      <th>reviews.userProvince</th>\n",
              "      <th>reviews.username</th>\n",
              "    </tr>\n",
              "  </thead>\n",
              "  <tbody>\n",
              "    <tr>\n",
              "      <th>0</th>\n",
              "      <td>AVqkIhwDv8e3D1O-lebb</td>\n",
              "      <td>All-New Fire HD 8 Tablet, 8 HD Display, Wi-Fi,...</td>\n",
              "      <td>B01AHB9CN2</td>\n",
              "      <td>Amazon</td>\n",
              "      <td>Electronics,iPad &amp; Tablets,All Tablets,Fire Ta...</td>\n",
              "      <td>841667104676,amazon/53004484,amazon/b01ahb9cn2...</td>\n",
              "      <td>Amazon</td>\n",
              "      <td>2017-01-13T00:00:00.000Z</td>\n",
              "      <td>2017-07-03T23:33:15Z</td>\n",
              "      <td>2017-06-07T09:04:00.000Z,2017-04-30T00:45:00.000Z</td>\n",
              "      <td>...</td>\n",
              "      <td>True</td>\n",
              "      <td>NaN</td>\n",
              "      <td>0.0</td>\n",
              "      <td>5.0</td>\n",
              "      <td>http://reviews.bestbuy.com/3545/5620406/review...</td>\n",
              "      <td>This product so far has not disappointed. My c...</td>\n",
              "      <td>Kindle</td>\n",
              "      <td>NaN</td>\n",
              "      <td>NaN</td>\n",
              "      <td>Adapter</td>\n",
              "    </tr>\n",
              "    <tr>\n",
              "      <th>1</th>\n",
              "      <td>AVqkIhwDv8e3D1O-lebb</td>\n",
              "      <td>All-New Fire HD 8 Tablet, 8 HD Display, Wi-Fi,...</td>\n",
              "      <td>B01AHB9CN2</td>\n",
              "      <td>Amazon</td>\n",
              "      <td>Electronics,iPad &amp; Tablets,All Tablets,Fire Ta...</td>\n",
              "      <td>841667104676,amazon/53004484,amazon/b01ahb9cn2...</td>\n",
              "      <td>Amazon</td>\n",
              "      <td>2017-01-13T00:00:00.000Z</td>\n",
              "      <td>2017-07-03T23:33:15Z</td>\n",
              "      <td>2017-06-07T09:04:00.000Z,2017-04-30T00:45:00.000Z</td>\n",
              "      <td>...</td>\n",
              "      <td>True</td>\n",
              "      <td>NaN</td>\n",
              "      <td>0.0</td>\n",
              "      <td>5.0</td>\n",
              "      <td>http://reviews.bestbuy.com/3545/5620406/review...</td>\n",
              "      <td>great for beginner or experienced person. Boug...</td>\n",
              "      <td>very fast</td>\n",
              "      <td>NaN</td>\n",
              "      <td>NaN</td>\n",
              "      <td>truman</td>\n",
              "    </tr>\n",
              "    <tr>\n",
              "      <th>2</th>\n",
              "      <td>AVqkIhwDv8e3D1O-lebb</td>\n",
              "      <td>All-New Fire HD 8 Tablet, 8 HD Display, Wi-Fi,...</td>\n",
              "      <td>B01AHB9CN2</td>\n",
              "      <td>Amazon</td>\n",
              "      <td>Electronics,iPad &amp; Tablets,All Tablets,Fire Ta...</td>\n",
              "      <td>841667104676,amazon/53004484,amazon/b01ahb9cn2...</td>\n",
              "      <td>Amazon</td>\n",
              "      <td>2017-01-13T00:00:00.000Z</td>\n",
              "      <td>2017-07-03T23:33:15Z</td>\n",
              "      <td>2017-06-07T09:04:00.000Z,2017-04-30T00:45:00.000Z</td>\n",
              "      <td>...</td>\n",
              "      <td>True</td>\n",
              "      <td>NaN</td>\n",
              "      <td>0.0</td>\n",
              "      <td>5.0</td>\n",
              "      <td>http://reviews.bestbuy.com/3545/5620406/review...</td>\n",
              "      <td>Inexpensive tablet for him to use and learn on...</td>\n",
              "      <td>Beginner tablet for our 9 year old son.</td>\n",
              "      <td>NaN</td>\n",
              "      <td>NaN</td>\n",
              "      <td>DaveZ</td>\n",
              "    </tr>\n",
              "    <tr>\n",
              "      <th>3</th>\n",
              "      <td>AVqkIhwDv8e3D1O-lebb</td>\n",
              "      <td>All-New Fire HD 8 Tablet, 8 HD Display, Wi-Fi,...</td>\n",
              "      <td>B01AHB9CN2</td>\n",
              "      <td>Amazon</td>\n",
              "      <td>Electronics,iPad &amp; Tablets,All Tablets,Fire Ta...</td>\n",
              "      <td>841667104676,amazon/53004484,amazon/b01ahb9cn2...</td>\n",
              "      <td>Amazon</td>\n",
              "      <td>2017-01-13T00:00:00.000Z</td>\n",
              "      <td>2017-07-03T23:33:15Z</td>\n",
              "      <td>2017-06-07T09:04:00.000Z,2017-04-30T00:45:00.000Z</td>\n",
              "      <td>...</td>\n",
              "      <td>True</td>\n",
              "      <td>NaN</td>\n",
              "      <td>0.0</td>\n",
              "      <td>4.0</td>\n",
              "      <td>http://reviews.bestbuy.com/3545/5620406/review...</td>\n",
              "      <td>I've had my Fire HD 8 two weeks now and I love...</td>\n",
              "      <td>Good!!!</td>\n",
              "      <td>NaN</td>\n",
              "      <td>NaN</td>\n",
              "      <td>Shacks</td>\n",
              "    </tr>\n",
              "    <tr>\n",
              "      <th>4</th>\n",
              "      <td>AVqkIhwDv8e3D1O-lebb</td>\n",
              "      <td>All-New Fire HD 8 Tablet, 8 HD Display, Wi-Fi,...</td>\n",
              "      <td>B01AHB9CN2</td>\n",
              "      <td>Amazon</td>\n",
              "      <td>Electronics,iPad &amp; Tablets,All Tablets,Fire Ta...</td>\n",
              "      <td>841667104676,amazon/53004484,amazon/b01ahb9cn2...</td>\n",
              "      <td>Amazon</td>\n",
              "      <td>2017-01-12T00:00:00.000Z</td>\n",
              "      <td>2017-07-03T23:33:15Z</td>\n",
              "      <td>2017-06-07T09:04:00.000Z,2017-04-30T00:45:00.000Z</td>\n",
              "      <td>...</td>\n",
              "      <td>True</td>\n",
              "      <td>NaN</td>\n",
              "      <td>0.0</td>\n",
              "      <td>5.0</td>\n",
              "      <td>http://reviews.bestbuy.com/3545/5620406/review...</td>\n",
              "      <td>I bought this for my grand daughter when she c...</td>\n",
              "      <td>Fantastic Tablet for kids</td>\n",
              "      <td>NaN</td>\n",
              "      <td>NaN</td>\n",
              "      <td>explore42</td>\n",
              "    </tr>\n",
              "    <tr>\n",
              "      <th>...</th>\n",
              "      <td>...</td>\n",
              "      <td>...</td>\n",
              "      <td>...</td>\n",
              "      <td>...</td>\n",
              "      <td>...</td>\n",
              "      <td>...</td>\n",
              "      <td>...</td>\n",
              "      <td>...</td>\n",
              "      <td>...</td>\n",
              "      <td>...</td>\n",
              "      <td>...</td>\n",
              "      <td>...</td>\n",
              "      <td>...</td>\n",
              "      <td>...</td>\n",
              "      <td>...</td>\n",
              "      <td>...</td>\n",
              "      <td>...</td>\n",
              "      <td>...</td>\n",
              "      <td>...</td>\n",
              "      <td>...</td>\n",
              "      <td>...</td>\n",
              "    </tr>\n",
              "    <tr>\n",
              "      <th>34655</th>\n",
              "      <td>AVpfiBlyLJeJML43-4Tp</td>\n",
              "      <td>NaN</td>\n",
              "      <td>B006GWO5WK</td>\n",
              "      <td>Amazon</td>\n",
              "      <td>Computers/Tablets &amp; Networking,Tablet &amp; eBook ...</td>\n",
              "      <td>newamazonkindlefirehd9wpowerfastadaptercharger...</td>\n",
              "      <td>Amazon Digital Services, Inc</td>\n",
              "      <td>2012-09-18T00:00:00Z</td>\n",
              "      <td>NaN</td>\n",
              "      <td>2015-08-29T00:00:00Z</td>\n",
              "      <td>...</td>\n",
              "      <td>NaN</td>\n",
              "      <td>NaN</td>\n",
              "      <td>NaN</td>\n",
              "      <td>3.0</td>\n",
              "      <td>http://www.amazon.com/Amazon-PowerFast-Adapter...</td>\n",
              "      <td>This is not appreciably faster than any other ...</td>\n",
              "      <td>Not appreciably faster than any other 1.8A cha...</td>\n",
              "      <td>NaN</td>\n",
              "      <td>NaN</td>\n",
              "      <td>Kris</td>\n",
              "    </tr>\n",
              "    <tr>\n",
              "      <th>34656</th>\n",
              "      <td>AVpfiBlyLJeJML43-4Tp</td>\n",
              "      <td>NaN</td>\n",
              "      <td>B006GWO5WK</td>\n",
              "      <td>Amazon</td>\n",
              "      <td>Computers/Tablets &amp; Networking,Tablet &amp; eBook ...</td>\n",
              "      <td>newamazonkindlefirehd9wpowerfastadaptercharger...</td>\n",
              "      <td>Amazon Digital Services, Inc</td>\n",
              "      <td>2012-11-21T00:00:00Z</td>\n",
              "      <td>NaN</td>\n",
              "      <td>2015-09-02T00:00:00Z</td>\n",
              "      <td>...</td>\n",
              "      <td>NaN</td>\n",
              "      <td>NaN</td>\n",
              "      <td>NaN</td>\n",
              "      <td>1.0</td>\n",
              "      <td>http://www.amazon.com/Amazon-PowerFast-Adapter...</td>\n",
              "      <td>Amazon should include this charger with the Ki...</td>\n",
              "      <td>Should be included</td>\n",
              "      <td>NaN</td>\n",
              "      <td>NaN</td>\n",
              "      <td>Jonathan Stewart</td>\n",
              "    </tr>\n",
              "    <tr>\n",
              "      <th>34657</th>\n",
              "      <td>AVpfiBlyLJeJML43-4Tp</td>\n",
              "      <td>NaN</td>\n",
              "      <td>B006GWO5WK</td>\n",
              "      <td>Amazon</td>\n",
              "      <td>Computers/Tablets &amp; Networking,Tablet &amp; eBook ...</td>\n",
              "      <td>newamazonkindlefirehd9wpowerfastadaptercharger...</td>\n",
              "      <td>Amazon Digital Services, Inc</td>\n",
              "      <td>2012-10-19T00:00:00Z</td>\n",
              "      <td>NaN</td>\n",
              "      <td>2015-09-04T00:00:00Z</td>\n",
              "      <td>...</td>\n",
              "      <td>NaN</td>\n",
              "      <td>NaN</td>\n",
              "      <td>NaN</td>\n",
              "      <td>1.0</td>\n",
              "      <td>http://www.amazon.com/Amazon-PowerFast-Adapter...</td>\n",
              "      <td>Love my Kindle Fire but I am really disappoint...</td>\n",
              "      <td>Disappointing Charger</td>\n",
              "      <td>NaN</td>\n",
              "      <td>NaN</td>\n",
              "      <td>J Lawson</td>\n",
              "    </tr>\n",
              "    <tr>\n",
              "      <th>34658</th>\n",
              "      <td>AVpfiBlyLJeJML43-4Tp</td>\n",
              "      <td>NaN</td>\n",
              "      <td>B006GWO5WK</td>\n",
              "      <td>Amazon</td>\n",
              "      <td>Computers/Tablets &amp; Networking,Tablet &amp; eBook ...</td>\n",
              "      <td>newamazonkindlefirehd9wpowerfastadaptercharger...</td>\n",
              "      <td>Amazon Digital Services, Inc</td>\n",
              "      <td>2012-10-31T00:00:00Z</td>\n",
              "      <td>NaN</td>\n",
              "      <td>2015-09-01T00:00:00Z</td>\n",
              "      <td>...</td>\n",
              "      <td>NaN</td>\n",
              "      <td>NaN</td>\n",
              "      <td>NaN</td>\n",
              "      <td>1.0</td>\n",
              "      <td>http://www.amazon.com/Amazon-PowerFast-Adapter...</td>\n",
              "      <td>I was surprised to find it did not come with a...</td>\n",
              "      <td>Not worth the money</td>\n",
              "      <td>NaN</td>\n",
              "      <td>NaN</td>\n",
              "      <td>Just the Buyer</td>\n",
              "    </tr>\n",
              "    <tr>\n",
              "      <th>34659</th>\n",
              "      <td>AVpfiBlyLJeJML43-4Tp</td>\n",
              "      <td>NaN</td>\n",
              "      <td>B006GWO5WK</td>\n",
              "      <td>Amazon</td>\n",
              "      <td>Computers/Tablets &amp; Networking,Tablet &amp; eBook ...</td>\n",
              "      <td>newamazonkindlefirehd9wpowerfastadaptercharger...</td>\n",
              "      <td>Amazon Digital Services, Inc</td>\n",
              "      <td>2012-12-23T00:00:00Z</td>\n",
              "      <td>NaN</td>\n",
              "      <td>2015-11-01T00:00:00Z</td>\n",
              "      <td>...</td>\n",
              "      <td>NaN</td>\n",
              "      <td>NaN</td>\n",
              "      <td>NaN</td>\n",
              "      <td>1.0</td>\n",
              "      <td>http://www.amazon.com/Amazon-PowerFast-Adapter...</td>\n",
              "      <td>to spite the fact that i have nothing but good...</td>\n",
              "      <td>as with everyone else</td>\n",
              "      <td>NaN</td>\n",
              "      <td>NaN</td>\n",
              "      <td>sandi</td>\n",
              "    </tr>\n",
              "  </tbody>\n",
              "</table>\n",
              "<p>34660 rows × 21 columns</p>\n",
              "</div>"
            ],
            "text/plain": [
              "                         id  \\\n",
              "0      AVqkIhwDv8e3D1O-lebb   \n",
              "1      AVqkIhwDv8e3D1O-lebb   \n",
              "2      AVqkIhwDv8e3D1O-lebb   \n",
              "3      AVqkIhwDv8e3D1O-lebb   \n",
              "4      AVqkIhwDv8e3D1O-lebb   \n",
              "...                     ...   \n",
              "34655  AVpfiBlyLJeJML43-4Tp   \n",
              "34656  AVpfiBlyLJeJML43-4Tp   \n",
              "34657  AVpfiBlyLJeJML43-4Tp   \n",
              "34658  AVpfiBlyLJeJML43-4Tp   \n",
              "34659  AVpfiBlyLJeJML43-4Tp   \n",
              "\n",
              "                                                    name       asins   brand  \\\n",
              "0      All-New Fire HD 8 Tablet, 8 HD Display, Wi-Fi,...  B01AHB9CN2  Amazon   \n",
              "1      All-New Fire HD 8 Tablet, 8 HD Display, Wi-Fi,...  B01AHB9CN2  Amazon   \n",
              "2      All-New Fire HD 8 Tablet, 8 HD Display, Wi-Fi,...  B01AHB9CN2  Amazon   \n",
              "3      All-New Fire HD 8 Tablet, 8 HD Display, Wi-Fi,...  B01AHB9CN2  Amazon   \n",
              "4      All-New Fire HD 8 Tablet, 8 HD Display, Wi-Fi,...  B01AHB9CN2  Amazon   \n",
              "...                                                  ...         ...     ...   \n",
              "34655                                                NaN  B006GWO5WK  Amazon   \n",
              "34656                                                NaN  B006GWO5WK  Amazon   \n",
              "34657                                                NaN  B006GWO5WK  Amazon   \n",
              "34658                                                NaN  B006GWO5WK  Amazon   \n",
              "34659                                                NaN  B006GWO5WK  Amazon   \n",
              "\n",
              "                                              categories  \\\n",
              "0      Electronics,iPad & Tablets,All Tablets,Fire Ta...   \n",
              "1      Electronics,iPad & Tablets,All Tablets,Fire Ta...   \n",
              "2      Electronics,iPad & Tablets,All Tablets,Fire Ta...   \n",
              "3      Electronics,iPad & Tablets,All Tablets,Fire Ta...   \n",
              "4      Electronics,iPad & Tablets,All Tablets,Fire Ta...   \n",
              "...                                                  ...   \n",
              "34655  Computers/Tablets & Networking,Tablet & eBook ...   \n",
              "34656  Computers/Tablets & Networking,Tablet & eBook ...   \n",
              "34657  Computers/Tablets & Networking,Tablet & eBook ...   \n",
              "34658  Computers/Tablets & Networking,Tablet & eBook ...   \n",
              "34659  Computers/Tablets & Networking,Tablet & eBook ...   \n",
              "\n",
              "                                                    keys  \\\n",
              "0      841667104676,amazon/53004484,amazon/b01ahb9cn2...   \n",
              "1      841667104676,amazon/53004484,amazon/b01ahb9cn2...   \n",
              "2      841667104676,amazon/53004484,amazon/b01ahb9cn2...   \n",
              "3      841667104676,amazon/53004484,amazon/b01ahb9cn2...   \n",
              "4      841667104676,amazon/53004484,amazon/b01ahb9cn2...   \n",
              "...                                                  ...   \n",
              "34655  newamazonkindlefirehd9wpowerfastadaptercharger...   \n",
              "34656  newamazonkindlefirehd9wpowerfastadaptercharger...   \n",
              "34657  newamazonkindlefirehd9wpowerfastadaptercharger...   \n",
              "34658  newamazonkindlefirehd9wpowerfastadaptercharger...   \n",
              "34659  newamazonkindlefirehd9wpowerfastadaptercharger...   \n",
              "\n",
              "                       manufacturer              reviews.date  \\\n",
              "0                            Amazon  2017-01-13T00:00:00.000Z   \n",
              "1                            Amazon  2017-01-13T00:00:00.000Z   \n",
              "2                            Amazon  2017-01-13T00:00:00.000Z   \n",
              "3                            Amazon  2017-01-13T00:00:00.000Z   \n",
              "4                            Amazon  2017-01-12T00:00:00.000Z   \n",
              "...                             ...                       ...   \n",
              "34655  Amazon Digital Services, Inc      2012-09-18T00:00:00Z   \n",
              "34656  Amazon Digital Services, Inc      2012-11-21T00:00:00Z   \n",
              "34657  Amazon Digital Services, Inc      2012-10-19T00:00:00Z   \n",
              "34658  Amazon Digital Services, Inc      2012-10-31T00:00:00Z   \n",
              "34659  Amazon Digital Services, Inc      2012-12-23T00:00:00Z   \n",
              "\n",
              "          reviews.dateAdded  \\\n",
              "0      2017-07-03T23:33:15Z   \n",
              "1      2017-07-03T23:33:15Z   \n",
              "2      2017-07-03T23:33:15Z   \n",
              "3      2017-07-03T23:33:15Z   \n",
              "4      2017-07-03T23:33:15Z   \n",
              "...                     ...   \n",
              "34655                   NaN   \n",
              "34656                   NaN   \n",
              "34657                   NaN   \n",
              "34658                   NaN   \n",
              "34659                   NaN   \n",
              "\n",
              "                                        reviews.dateSeen  ...  \\\n",
              "0      2017-06-07T09:04:00.000Z,2017-04-30T00:45:00.000Z  ...   \n",
              "1      2017-06-07T09:04:00.000Z,2017-04-30T00:45:00.000Z  ...   \n",
              "2      2017-06-07T09:04:00.000Z,2017-04-30T00:45:00.000Z  ...   \n",
              "3      2017-06-07T09:04:00.000Z,2017-04-30T00:45:00.000Z  ...   \n",
              "4      2017-06-07T09:04:00.000Z,2017-04-30T00:45:00.000Z  ...   \n",
              "...                                                  ...  ...   \n",
              "34655                               2015-08-29T00:00:00Z  ...   \n",
              "34656                               2015-09-02T00:00:00Z  ...   \n",
              "34657                               2015-09-04T00:00:00Z  ...   \n",
              "34658                               2015-09-01T00:00:00Z  ...   \n",
              "34659                               2015-11-01T00:00:00Z  ...   \n",
              "\n",
              "      reviews.doRecommend reviews.id  reviews.numHelpful  reviews.rating  \\\n",
              "0                    True        NaN                 0.0             5.0   \n",
              "1                    True        NaN                 0.0             5.0   \n",
              "2                    True        NaN                 0.0             5.0   \n",
              "3                    True        NaN                 0.0             4.0   \n",
              "4                    True        NaN                 0.0             5.0   \n",
              "...                   ...        ...                 ...             ...   \n",
              "34655                 NaN        NaN                 NaN             3.0   \n",
              "34656                 NaN        NaN                 NaN             1.0   \n",
              "34657                 NaN        NaN                 NaN             1.0   \n",
              "34658                 NaN        NaN                 NaN             1.0   \n",
              "34659                 NaN        NaN                 NaN             1.0   \n",
              "\n",
              "                                      reviews.sourceURLs  \\\n",
              "0      http://reviews.bestbuy.com/3545/5620406/review...   \n",
              "1      http://reviews.bestbuy.com/3545/5620406/review...   \n",
              "2      http://reviews.bestbuy.com/3545/5620406/review...   \n",
              "3      http://reviews.bestbuy.com/3545/5620406/review...   \n",
              "4      http://reviews.bestbuy.com/3545/5620406/review...   \n",
              "...                                                  ...   \n",
              "34655  http://www.amazon.com/Amazon-PowerFast-Adapter...   \n",
              "34656  http://www.amazon.com/Amazon-PowerFast-Adapter...   \n",
              "34657  http://www.amazon.com/Amazon-PowerFast-Adapter...   \n",
              "34658  http://www.amazon.com/Amazon-PowerFast-Adapter...   \n",
              "34659  http://www.amazon.com/Amazon-PowerFast-Adapter...   \n",
              "\n",
              "                                            reviews.text  \\\n",
              "0      This product so far has not disappointed. My c...   \n",
              "1      great for beginner or experienced person. Boug...   \n",
              "2      Inexpensive tablet for him to use and learn on...   \n",
              "3      I've had my Fire HD 8 two weeks now and I love...   \n",
              "4      I bought this for my grand daughter when she c...   \n",
              "...                                                  ...   \n",
              "34655  This is not appreciably faster than any other ...   \n",
              "34656  Amazon should include this charger with the Ki...   \n",
              "34657  Love my Kindle Fire but I am really disappoint...   \n",
              "34658  I was surprised to find it did not come with a...   \n",
              "34659  to spite the fact that i have nothing but good...   \n",
              "\n",
              "                                           reviews.title reviews.userCity  \\\n",
              "0                                                 Kindle              NaN   \n",
              "1                                              very fast              NaN   \n",
              "2                Beginner tablet for our 9 year old son.              NaN   \n",
              "3                                                Good!!!              NaN   \n",
              "4                              Fantastic Tablet for kids              NaN   \n",
              "...                                                  ...              ...   \n",
              "34655  Not appreciably faster than any other 1.8A cha...              NaN   \n",
              "34656                                 Should be included              NaN   \n",
              "34657                              Disappointing Charger              NaN   \n",
              "34658                                Not worth the money              NaN   \n",
              "34659                              as with everyone else              NaN   \n",
              "\n",
              "       reviews.userProvince  reviews.username  \n",
              "0                       NaN           Adapter  \n",
              "1                       NaN            truman  \n",
              "2                       NaN             DaveZ  \n",
              "3                       NaN            Shacks  \n",
              "4                       NaN         explore42  \n",
              "...                     ...               ...  \n",
              "34655                   NaN              Kris  \n",
              "34656                   NaN  Jonathan Stewart  \n",
              "34657                   NaN          J Lawson  \n",
              "34658                   NaN    Just the Buyer  \n",
              "34659                   NaN             sandi  \n",
              "\n",
              "[34660 rows x 21 columns]"
            ]
          },
          "execution_count": 13,
          "metadata": {},
          "output_type": "execute_result"
        }
      ],
      "source": [
        "url = \"https://drive.google.com/file/d/1I3j01ASl4PmXqqt5GhBDjSV6vfP5Nhvq/view?usp=sharing\";\n",
        "#review = pd.read_csv('https://drive.google.com/file/d/1I3j01ASl4PmXqqt5GhBDjSV6vfP5Nhvq/view?usp=sharing')\n",
        "file_id=url.split('/')[-2]\n",
        "#print(\"file array list==\",url.split('/'))\n",
        "dwn_url='https://drive.google.com/uc?id=' + file_id\n",
        "#print(\"My dwn_url==\",dwn_url,\"file_id==\",file_id)\n",
        "\n",
        "review = pd.read_csv(\"Amazon Review.csv\");\n",
        "\n",
        "review"
      ]
    },
    {
      "cell_type": "markdown",
      "metadata": {
        "id": "2MV6u5gYyYSW"
      },
      "source": [
        "## Let's do some initial Exploaratory Data Analysis (EDA) before data cleaning."
      ]
    },
    {
      "cell_type": "markdown",
      "metadata": {},
      "source": [
        "**We will check for missing values, check for the distribution of the target variable and also check for the distribution of the length of the reviews.**"
      ]
    },
    {
      "cell_type": "markdown",
      "metadata": {
        "id": "GKBiOpb2yYSW"
      },
      "source": [
        "**check the shape**"
      ]
    },
    {
      "cell_type": "code",
      "execution_count": 14,
      "metadata": {
        "colab": {
          "base_uri": "https://localhost:8080/"
        },
        "execution": {
          "iopub.execute_input": "2024-02-12T13:32:05.059804Z",
          "iopub.status.busy": "2024-02-12T13:32:05.059484Z",
          "iopub.status.idle": "2024-02-12T13:32:05.066723Z",
          "shell.execute_reply": "2024-02-12T13:32:05.065939Z",
          "shell.execute_reply.started": "2024-02-12T13:32:05.059776Z"
        },
        "id": "pRUZZNIfyYSW",
        "outputId": "5b0edc3d-94f5-4faa-c984-101176864445",
        "trusted": true
      },
      "outputs": [
        {
          "name": "stdout",
          "output_type": "stream",
          "text": [
            "(34660, 21)\n"
          ]
        }
      ],
      "source": [
        "review.shape\n",
        "print(review.shape)"
      ]
    },
    {
      "cell_type": "markdown",
      "metadata": {
        "id": "9ACB8bcvyYSX"
      },
      "source": [
        "**check the columns**"
      ]
    },
    {
      "cell_type": "code",
      "execution_count": 15,
      "metadata": {
        "colab": {
          "base_uri": "https://localhost:8080/"
        },
        "execution": {
          "iopub.execute_input": "2024-02-12T13:32:05.068530Z",
          "iopub.status.busy": "2024-02-12T13:32:05.067815Z",
          "iopub.status.idle": "2024-02-12T13:32:05.082590Z",
          "shell.execute_reply": "2024-02-12T13:32:05.081273Z",
          "shell.execute_reply.started": "2024-02-12T13:32:05.068499Z"
        },
        "id": "oubWksdQyYSX",
        "outputId": "54a18987-59c4-45d6-9672-656758e02273",
        "trusted": true
      },
      "outputs": [
        {
          "data": {
            "text/plain": [
              "Index(['id', 'name', 'asins', 'brand', 'categories', 'keys', 'manufacturer',\n",
              "       'reviews.date', 'reviews.dateAdded', 'reviews.dateSeen',\n",
              "       'reviews.didPurchase', 'reviews.doRecommend', 'reviews.id',\n",
              "       'reviews.numHelpful', 'reviews.rating', 'reviews.sourceURLs',\n",
              "       'reviews.text', 'reviews.title', 'reviews.userCity',\n",
              "       'reviews.userProvince', 'reviews.username'],\n",
              "      dtype='object')"
            ]
          },
          "execution_count": 15,
          "metadata": {},
          "output_type": "execute_result"
        }
      ],
      "source": [
        "review.columns"
      ]
    },
    {
      "cell_type": "markdown",
      "metadata": {
        "id": "XI4x5LpiyYSX"
      },
      "source": [
        "**It is ovbious that we are not going to make use of all the 21 columns. So we will simply select useful ones**"
      ]
    },
    {
      "cell_type": "code",
      "execution_count": 16,
      "metadata": {
        "colab": {
          "base_uri": "https://localhost:8080/",
          "height": 962
        },
        "execution": {
          "iopub.execute_input": "2024-02-12T13:32:05.084829Z",
          "iopub.status.busy": "2024-02-12T13:32:05.084491Z",
          "iopub.status.idle": "2024-02-12T13:32:05.105113Z",
          "shell.execute_reply": "2024-02-12T13:32:05.103660Z",
          "shell.execute_reply.started": "2024-02-12T13:32:05.084800Z"
        },
        "id": "FZfdt8X5yYSX",
        "outputId": "4f98700d-b763-4659-a0a8-ca25dfdeb35f",
        "trusted": true
      },
      "outputs": [
        {
          "data": {
            "text/html": [
              "<div>\n",
              "<style scoped>\n",
              "    .dataframe tbody tr th:only-of-type {\n",
              "        vertical-align: middle;\n",
              "    }\n",
              "\n",
              "    .dataframe tbody tr th {\n",
              "        vertical-align: top;\n",
              "    }\n",
              "\n",
              "    .dataframe thead th {\n",
              "        text-align: right;\n",
              "    }\n",
              "</style>\n",
              "<table border=\"1\" class=\"dataframe\">\n",
              "  <thead>\n",
              "    <tr style=\"text-align: right;\">\n",
              "      <th></th>\n",
              "      <th>name</th>\n",
              "      <th>reviews.text</th>\n",
              "      <th>reviews.doRecommend</th>\n",
              "      <th>reviews.numHelpful</th>\n",
              "    </tr>\n",
              "  </thead>\n",
              "  <tbody>\n",
              "    <tr>\n",
              "      <th>0</th>\n",
              "      <td>All-New Fire HD 8 Tablet, 8 HD Display, Wi-Fi,...</td>\n",
              "      <td>This product so far has not disappointed. My c...</td>\n",
              "      <td>True</td>\n",
              "      <td>0.0</td>\n",
              "    </tr>\n",
              "    <tr>\n",
              "      <th>1</th>\n",
              "      <td>All-New Fire HD 8 Tablet, 8 HD Display, Wi-Fi,...</td>\n",
              "      <td>great for beginner or experienced person. Boug...</td>\n",
              "      <td>True</td>\n",
              "      <td>0.0</td>\n",
              "    </tr>\n",
              "    <tr>\n",
              "      <th>2</th>\n",
              "      <td>All-New Fire HD 8 Tablet, 8 HD Display, Wi-Fi,...</td>\n",
              "      <td>Inexpensive tablet for him to use and learn on...</td>\n",
              "      <td>True</td>\n",
              "      <td>0.0</td>\n",
              "    </tr>\n",
              "    <tr>\n",
              "      <th>3</th>\n",
              "      <td>All-New Fire HD 8 Tablet, 8 HD Display, Wi-Fi,...</td>\n",
              "      <td>I've had my Fire HD 8 two weeks now and I love...</td>\n",
              "      <td>True</td>\n",
              "      <td>0.0</td>\n",
              "    </tr>\n",
              "    <tr>\n",
              "      <th>4</th>\n",
              "      <td>All-New Fire HD 8 Tablet, 8 HD Display, Wi-Fi,...</td>\n",
              "      <td>I bought this for my grand daughter when she c...</td>\n",
              "      <td>True</td>\n",
              "      <td>0.0</td>\n",
              "    </tr>\n",
              "    <tr>\n",
              "      <th>...</th>\n",
              "      <td>...</td>\n",
              "      <td>...</td>\n",
              "      <td>...</td>\n",
              "      <td>...</td>\n",
              "    </tr>\n",
              "    <tr>\n",
              "      <th>34655</th>\n",
              "      <td>NaN</td>\n",
              "      <td>This is not appreciably faster than any other ...</td>\n",
              "      <td>NaN</td>\n",
              "      <td>NaN</td>\n",
              "    </tr>\n",
              "    <tr>\n",
              "      <th>34656</th>\n",
              "      <td>NaN</td>\n",
              "      <td>Amazon should include this charger with the Ki...</td>\n",
              "      <td>NaN</td>\n",
              "      <td>NaN</td>\n",
              "    </tr>\n",
              "    <tr>\n",
              "      <th>34657</th>\n",
              "      <td>NaN</td>\n",
              "      <td>Love my Kindle Fire but I am really disappoint...</td>\n",
              "      <td>NaN</td>\n",
              "      <td>NaN</td>\n",
              "    </tr>\n",
              "    <tr>\n",
              "      <th>34658</th>\n",
              "      <td>NaN</td>\n",
              "      <td>I was surprised to find it did not come with a...</td>\n",
              "      <td>NaN</td>\n",
              "      <td>NaN</td>\n",
              "    </tr>\n",
              "    <tr>\n",
              "      <th>34659</th>\n",
              "      <td>NaN</td>\n",
              "      <td>to spite the fact that i have nothing but good...</td>\n",
              "      <td>NaN</td>\n",
              "      <td>NaN</td>\n",
              "    </tr>\n",
              "  </tbody>\n",
              "</table>\n",
              "<p>34660 rows × 4 columns</p>\n",
              "</div>"
            ],
            "text/plain": [
              "                                                    name  \\\n",
              "0      All-New Fire HD 8 Tablet, 8 HD Display, Wi-Fi,...   \n",
              "1      All-New Fire HD 8 Tablet, 8 HD Display, Wi-Fi,...   \n",
              "2      All-New Fire HD 8 Tablet, 8 HD Display, Wi-Fi,...   \n",
              "3      All-New Fire HD 8 Tablet, 8 HD Display, Wi-Fi,...   \n",
              "4      All-New Fire HD 8 Tablet, 8 HD Display, Wi-Fi,...   \n",
              "...                                                  ...   \n",
              "34655                                                NaN   \n",
              "34656                                                NaN   \n",
              "34657                                                NaN   \n",
              "34658                                                NaN   \n",
              "34659                                                NaN   \n",
              "\n",
              "                                            reviews.text reviews.doRecommend  \\\n",
              "0      This product so far has not disappointed. My c...                True   \n",
              "1      great for beginner or experienced person. Boug...                True   \n",
              "2      Inexpensive tablet for him to use and learn on...                True   \n",
              "3      I've had my Fire HD 8 two weeks now and I love...                True   \n",
              "4      I bought this for my grand daughter when she c...                True   \n",
              "...                                                  ...                 ...   \n",
              "34655  This is not appreciably faster than any other ...                 NaN   \n",
              "34656  Amazon should include this charger with the Ki...                 NaN   \n",
              "34657  Love my Kindle Fire but I am really disappoint...                 NaN   \n",
              "34658  I was surprised to find it did not come with a...                 NaN   \n",
              "34659  to spite the fact that i have nothing but good...                 NaN   \n",
              "\n",
              "       reviews.numHelpful  \n",
              "0                     0.0  \n",
              "1                     0.0  \n",
              "2                     0.0  \n",
              "3                     0.0  \n",
              "4                     0.0  \n",
              "...                   ...  \n",
              "34655                 NaN  \n",
              "34656                 NaN  \n",
              "34657                 NaN  \n",
              "34658                 NaN  \n",
              "34659                 NaN  \n",
              "\n",
              "[34660 rows x 4 columns]"
            ]
          },
          "execution_count": 16,
          "metadata": {},
          "output_type": "execute_result"
        }
      ],
      "source": [
        "review= review[['name','reviews.text','reviews.doRecommend','reviews.numHelpful']]\n",
        "review"
      ]
    },
    {
      "cell_type": "markdown",
      "metadata": {
        "id": "1m7lmbQiyYSY"
      },
      "source": [
        "### Data Cleaning"
      ]
    },
    {
      "cell_type": "markdown",
      "metadata": {
        "id": "IGrC-DuDyYSY"
      },
      "source": [
        "**Now, we have columns we want, let's check for missing values**"
      ]
    },
    {
      "cell_type": "code",
      "execution_count": 17,
      "metadata": {
        "colab": {
          "base_uri": "https://localhost:8080/"
        },
        "execution": {
          "iopub.execute_input": "2024-02-12T13:32:05.107244Z",
          "iopub.status.busy": "2024-02-12T13:32:05.106826Z",
          "iopub.status.idle": "2024-02-12T13:32:05.129358Z",
          "shell.execute_reply": "2024-02-12T13:32:05.127898Z",
          "shell.execute_reply.started": "2024-02-12T13:32:05.107214Z"
        },
        "id": "UUQRIiBhyYSY",
        "outputId": "ec28b554-6132-4322-ae98-8d0ac700d742",
        "trusted": true
      },
      "outputs": [
        {
          "data": {
            "text/plain": [
              "name                   6760\n",
              "reviews.text              1\n",
              "reviews.doRecommend     594\n",
              "reviews.numHelpful      529\n",
              "dtype: int64"
            ]
          },
          "execution_count": 17,
          "metadata": {},
          "output_type": "execute_result"
        }
      ],
      "source": [
        "review.isna().sum()"
      ]
    },
    {
      "cell_type": "markdown",
      "metadata": {
        "id": "nGBLmIBYyYSY"
      },
      "source": [
        "**Since we still have a sizable number of dataset, let's drop the missing values, moreover replacing them wouldn't be practical, among other reasons due to time factor.**"
      ]
    },
    {
      "cell_type": "code",
      "execution_count": 18,
      "metadata": {
        "colab": {
          "base_uri": "https://localhost:8080/"
        },
        "execution": {
          "iopub.execute_input": "2024-02-12T13:32:05.131282Z",
          "iopub.status.busy": "2024-02-12T13:32:05.130890Z",
          "iopub.status.idle": "2024-02-12T13:32:05.172424Z",
          "shell.execute_reply": "2024-02-12T13:32:05.171242Z",
          "shell.execute_reply.started": "2024-02-12T13:32:05.131253Z"
        },
        "id": "eaMTXLg3yYSY",
        "outputId": "e0ceb1d0-15bc-4d6d-a973-6b0e06963632",
        "trusted": true
      },
      "outputs": [
        {
          "name": "stderr",
          "output_type": "stream",
          "text": [
            "/tmp/ipykernel_25568/1158372996.py:1: SettingWithCopyWarning: \n",
            "A value is trying to be set on a copy of a slice from a DataFrame\n",
            "\n",
            "See the caveats in the documentation: https://pandas.pydata.org/pandas-docs/stable/user_guide/indexing.html#returning-a-view-versus-a-copy\n",
            "  review.dropna(inplace=True)\n"
          ]
        },
        {
          "data": {
            "text/plain": [
              "name                   0\n",
              "reviews.text           0\n",
              "reviews.doRecommend    0\n",
              "reviews.numHelpful     0\n",
              "dtype: int64"
            ]
          },
          "execution_count": 18,
          "metadata": {},
          "output_type": "execute_result"
        }
      ],
      "source": [
        "review.dropna(inplace=True)\n",
        "#Now check to ensure the missing values have been droped.\n",
        "review.isnull().sum()"
      ]
    },
    {
      "cell_type": "markdown",
      "metadata": {
        "id": "Rvm9ZYrtyYSY"
      },
      "source": [
        "#### For relevance and efficiency, we will be considering the products that have atleast 500 reviews"
      ]
    },
    {
      "cell_type": "code",
      "execution_count": 19,
      "metadata": {
        "colab": {
          "base_uri": "https://localhost:8080/",
          "height": 962
        },
        "execution": {
          "iopub.execute_input": "2024-02-12T13:32:05.176448Z",
          "iopub.status.busy": "2024-02-12T13:32:05.176083Z",
          "iopub.status.idle": "2024-02-12T13:32:05.208790Z",
          "shell.execute_reply": "2024-02-12T13:32:05.207583Z",
          "shell.execute_reply.started": "2024-02-12T13:32:05.176419Z"
        },
        "id": "sHs00hzryYSY",
        "outputId": "d5223234-d9b1-438f-90e1-79a7f5588cf3",
        "trusted": true
      },
      "outputs": [
        {
          "data": {
            "text/html": [
              "<div>\n",
              "<style scoped>\n",
              "    .dataframe tbody tr th:only-of-type {\n",
              "        vertical-align: middle;\n",
              "    }\n",
              "\n",
              "    .dataframe tbody tr th {\n",
              "        vertical-align: top;\n",
              "    }\n",
              "\n",
              "    .dataframe thead th {\n",
              "        text-align: right;\n",
              "    }\n",
              "</style>\n",
              "<table border=\"1\" class=\"dataframe\">\n",
              "  <thead>\n",
              "    <tr style=\"text-align: right;\">\n",
              "      <th></th>\n",
              "      <th>name</th>\n",
              "      <th>reviews.text</th>\n",
              "      <th>reviews.doRecommend</th>\n",
              "      <th>reviews.numHelpful</th>\n",
              "    </tr>\n",
              "  </thead>\n",
              "  <tbody>\n",
              "    <tr>\n",
              "      <th>0</th>\n",
              "      <td>All-New Fire HD 8 Tablet, 8 HD Display, Wi-Fi,...</td>\n",
              "      <td>This product so far has not disappointed. My c...</td>\n",
              "      <td>True</td>\n",
              "      <td>0.0</td>\n",
              "    </tr>\n",
              "    <tr>\n",
              "      <th>1</th>\n",
              "      <td>All-New Fire HD 8 Tablet, 8 HD Display, Wi-Fi,...</td>\n",
              "      <td>great for beginner or experienced person. Boug...</td>\n",
              "      <td>True</td>\n",
              "      <td>0.0</td>\n",
              "    </tr>\n",
              "    <tr>\n",
              "      <th>2</th>\n",
              "      <td>All-New Fire HD 8 Tablet, 8 HD Display, Wi-Fi,...</td>\n",
              "      <td>Inexpensive tablet for him to use and learn on...</td>\n",
              "      <td>True</td>\n",
              "      <td>0.0</td>\n",
              "    </tr>\n",
              "    <tr>\n",
              "      <th>3</th>\n",
              "      <td>All-New Fire HD 8 Tablet, 8 HD Display, Wi-Fi,...</td>\n",
              "      <td>I've had my Fire HD 8 two weeks now and I love...</td>\n",
              "      <td>True</td>\n",
              "      <td>0.0</td>\n",
              "    </tr>\n",
              "    <tr>\n",
              "      <th>4</th>\n",
              "      <td>All-New Fire HD 8 Tablet, 8 HD Display, Wi-Fi,...</td>\n",
              "      <td>I bought this for my grand daughter when she c...</td>\n",
              "      <td>True</td>\n",
              "      <td>0.0</td>\n",
              "    </tr>\n",
              "    <tr>\n",
              "      <th>...</th>\n",
              "      <td>...</td>\n",
              "      <td>...</td>\n",
              "      <td>...</td>\n",
              "      <td>...</td>\n",
              "    </tr>\n",
              "    <tr>\n",
              "      <th>27874</th>\n",
              "      <td>Amazon Fire Tv,,,\\r\\nAmazon Fire Tv,,,</td>\n",
              "      <td>It has many uses. You can listen to music, che...</td>\n",
              "      <td>True</td>\n",
              "      <td>0.0</td>\n",
              "    </tr>\n",
              "    <tr>\n",
              "      <th>27875</th>\n",
              "      <td>Amazon Fire Tv,,,\\r\\nAmazon Fire Tv,,,</td>\n",
              "      <td>Cost is not outrageous. Easy setup, fun to use...</td>\n",
              "      <td>True</td>\n",
              "      <td>0.0</td>\n",
              "    </tr>\n",
              "    <tr>\n",
              "      <th>27876</th>\n",
              "      <td>Amazon Fire Tv,,,\\r\\nAmazon Fire Tv,,,</td>\n",
              "      <td>I knew about this from its crowd funding start...</td>\n",
              "      <td>True</td>\n",
              "      <td>1.0</td>\n",
              "    </tr>\n",
              "    <tr>\n",
              "      <th>27877</th>\n",
              "      <td>Amazon Fire Tv,,,\\r\\nAmazon Fire Tv,,,</td>\n",
              "      <td>This is a neat product but did not fit my need...</td>\n",
              "      <td>False</td>\n",
              "      <td>0.0</td>\n",
              "    </tr>\n",
              "    <tr>\n",
              "      <th>27878</th>\n",
              "      <td>Amazon Fire Tv,,,\\r\\nAmazon Fire Tv,,,</td>\n",
              "      <td>Responses well and there are lots of skills to...</td>\n",
              "      <td>True</td>\n",
              "      <td>0.0</td>\n",
              "    </tr>\n",
              "  </tbody>\n",
              "</table>\n",
              "<p>26068 rows × 4 columns</p>\n",
              "</div>"
            ],
            "text/plain": [
              "                                                    name  \\\n",
              "0      All-New Fire HD 8 Tablet, 8 HD Display, Wi-Fi,...   \n",
              "1      All-New Fire HD 8 Tablet, 8 HD Display, Wi-Fi,...   \n",
              "2      All-New Fire HD 8 Tablet, 8 HD Display, Wi-Fi,...   \n",
              "3      All-New Fire HD 8 Tablet, 8 HD Display, Wi-Fi,...   \n",
              "4      All-New Fire HD 8 Tablet, 8 HD Display, Wi-Fi,...   \n",
              "...                                                  ...   \n",
              "27874             Amazon Fire Tv,,,\\r\\nAmazon Fire Tv,,,   \n",
              "27875             Amazon Fire Tv,,,\\r\\nAmazon Fire Tv,,,   \n",
              "27876             Amazon Fire Tv,,,\\r\\nAmazon Fire Tv,,,   \n",
              "27877             Amazon Fire Tv,,,\\r\\nAmazon Fire Tv,,,   \n",
              "27878             Amazon Fire Tv,,,\\r\\nAmazon Fire Tv,,,   \n",
              "\n",
              "                                            reviews.text reviews.doRecommend  \\\n",
              "0      This product so far has not disappointed. My c...                True   \n",
              "1      great for beginner or experienced person. Boug...                True   \n",
              "2      Inexpensive tablet for him to use and learn on...                True   \n",
              "3      I've had my Fire HD 8 two weeks now and I love...                True   \n",
              "4      I bought this for my grand daughter when she c...                True   \n",
              "...                                                  ...                 ...   \n",
              "27874  It has many uses. You can listen to music, che...                True   \n",
              "27875  Cost is not outrageous. Easy setup, fun to use...                True   \n",
              "27876  I knew about this from its crowd funding start...                True   \n",
              "27877  This is a neat product but did not fit my need...               False   \n",
              "27878  Responses well and there are lots of skills to...                True   \n",
              "\n",
              "       reviews.numHelpful  \n",
              "0                     0.0  \n",
              "1                     0.0  \n",
              "2                     0.0  \n",
              "3                     0.0  \n",
              "4                     0.0  \n",
              "...                   ...  \n",
              "27874                 0.0  \n",
              "27875                 0.0  \n",
              "27876                 1.0  \n",
              "27877                 0.0  \n",
              "27878                 0.0  \n",
              "\n",
              "[26068 rows x 4 columns]"
            ]
          },
          "execution_count": 19,
          "metadata": {},
          "output_type": "execute_result"
        }
      ],
      "source": [
        "review = review.groupby('name').filter(lambda r: len(r)>=500);\n",
        "review"
      ]
    },
    {
      "cell_type": "markdown",
      "metadata": {
        "id": "8nCoikUlyYSZ"
      },
      "source": [
        "### Let's find unique products and get the count"
      ]
    },
    {
      "cell_type": "code",
      "execution_count": 20,
      "metadata": {
        "colab": {
          "base_uri": "https://localhost:8080/"
        },
        "execution": {
          "iopub.execute_input": "2024-02-12T13:32:05.210796Z",
          "iopub.status.busy": "2024-02-12T13:32:05.210335Z",
          "iopub.status.idle": "2024-02-12T13:32:05.223173Z",
          "shell.execute_reply": "2024-02-12T13:32:05.221669Z",
          "shell.execute_reply.started": "2024-02-12T13:32:05.210750Z"
        },
        "id": "0uhAQfYGyYSZ",
        "outputId": "6af8f256-4b13-40fd-f2a9-abed51260bc2",
        "trusted": true
      },
      "outputs": [
        {
          "data": {
            "text/plain": [
              "array(['All-New Fire HD 8 Tablet, 8 HD Display, Wi-Fi, 16 GB - Includes Special Offers, Magenta',\n",
              "       'Fire Tablet, 7 Display, Wi-Fi, 8 GB - Includes Special Offers, Magenta',\n",
              "       'Brand New Amazon Kindle Fire 16gb 7 Ips Display Tablet Wifi 16 Gb Blue,,,',\n",
              "       'Fire Kids Edition Tablet, 7 Display, Wi-Fi, 16 GB, Green Kid-Proof Case',\n",
              "       'Amazon Kindle Paperwhite - eBook reader - 4 GB - 6 monochrome Paperwhite - touchscreen - Wi-Fi - black,,,',\n",
              "       'Kindle Voyage E-reader, 6 High-Resolution Display (300 ppi) with Adaptive Built-in Light, PagePress Sensors, Wi-Fi - Includes Special Offers,',\n",
              "       'Echo (White),,,\\r\\nEcho (White),,,',\n",
              "       'Amazon Fire Tv,,,\\r\\nAmazon Fire Tv,,,'], dtype=object)"
            ]
          },
          "execution_count": 20,
          "metadata": {},
          "output_type": "execute_result"
        }
      ],
      "source": [
        "\n",
        "review['name'].unique()"
      ]
    },
    {
      "cell_type": "code",
      "execution_count": 21,
      "metadata": {
        "colab": {
          "base_uri": "https://localhost:8080/"
        },
        "execution": {
          "iopub.execute_input": "2024-02-12T13:32:05.225694Z",
          "iopub.status.busy": "2024-02-12T13:32:05.224880Z",
          "iopub.status.idle": "2024-02-12T13:32:05.238255Z",
          "shell.execute_reply": "2024-02-12T13:32:05.237080Z",
          "shell.execute_reply.started": "2024-02-12T13:32:05.225649Z"
        },
        "id": "EVeNs38IyYSZ",
        "outputId": "6548c270-a61a-44b3-f0b2-f3fc51080e05",
        "trusted": true
      },
      "outputs": [
        {
          "data": {
            "text/plain": [
              "8"
            ]
          },
          "execution_count": 21,
          "metadata": {},
          "output_type": "execute_result"
        }
      ],
      "source": [
        "len(review['name'].unique())"
      ]
    },
    {
      "cell_type": "markdown",
      "metadata": {
        "id": "g4xHc9wuyYSZ"
      },
      "source": [
        "### Since `review.doRecommend` is a categorical variable, let's convert it to integer. Likewise, convert `review.numHelpful` from float to integer."
      ]
    },
    {
      "cell_type": "code",
      "execution_count": 22,
      "metadata": {
        "colab": {
          "base_uri": "https://localhost:8080/",
          "height": 962
        },
        "execution": {
          "iopub.execute_input": "2024-02-12T13:32:05.240371Z",
          "iopub.status.busy": "2024-02-12T13:32:05.240016Z",
          "iopub.status.idle": "2024-02-12T13:32:05.260377Z",
          "shell.execute_reply": "2024-02-12T13:32:05.259106Z",
          "shell.execute_reply.started": "2024-02-12T13:32:05.240340Z"
        },
        "id": "ahOW5V8yyYSZ",
        "outputId": "775fac2e-989b-4f59-96f1-7423b6a9c535",
        "trusted": true
      },
      "outputs": [
        {
          "data": {
            "text/html": [
              "<div>\n",
              "<style scoped>\n",
              "    .dataframe tbody tr th:only-of-type {\n",
              "        vertical-align: middle;\n",
              "    }\n",
              "\n",
              "    .dataframe tbody tr th {\n",
              "        vertical-align: top;\n",
              "    }\n",
              "\n",
              "    .dataframe thead th {\n",
              "        text-align: right;\n",
              "    }\n",
              "</style>\n",
              "<table border=\"1\" class=\"dataframe\">\n",
              "  <thead>\n",
              "    <tr style=\"text-align: right;\">\n",
              "      <th></th>\n",
              "      <th>name</th>\n",
              "      <th>reviews.text</th>\n",
              "      <th>reviews.doRecommend</th>\n",
              "      <th>reviews.numHelpful</th>\n",
              "    </tr>\n",
              "  </thead>\n",
              "  <tbody>\n",
              "    <tr>\n",
              "      <th>0</th>\n",
              "      <td>All-New Fire HD 8 Tablet, 8 HD Display, Wi-Fi,...</td>\n",
              "      <td>This product so far has not disappointed. My c...</td>\n",
              "      <td>1</td>\n",
              "      <td>0</td>\n",
              "    </tr>\n",
              "    <tr>\n",
              "      <th>1</th>\n",
              "      <td>All-New Fire HD 8 Tablet, 8 HD Display, Wi-Fi,...</td>\n",
              "      <td>great for beginner or experienced person. Boug...</td>\n",
              "      <td>1</td>\n",
              "      <td>0</td>\n",
              "    </tr>\n",
              "    <tr>\n",
              "      <th>2</th>\n",
              "      <td>All-New Fire HD 8 Tablet, 8 HD Display, Wi-Fi,...</td>\n",
              "      <td>Inexpensive tablet for him to use and learn on...</td>\n",
              "      <td>1</td>\n",
              "      <td>0</td>\n",
              "    </tr>\n",
              "    <tr>\n",
              "      <th>3</th>\n",
              "      <td>All-New Fire HD 8 Tablet, 8 HD Display, Wi-Fi,...</td>\n",
              "      <td>I've had my Fire HD 8 two weeks now and I love...</td>\n",
              "      <td>1</td>\n",
              "      <td>0</td>\n",
              "    </tr>\n",
              "    <tr>\n",
              "      <th>4</th>\n",
              "      <td>All-New Fire HD 8 Tablet, 8 HD Display, Wi-Fi,...</td>\n",
              "      <td>I bought this for my grand daughter when she c...</td>\n",
              "      <td>1</td>\n",
              "      <td>0</td>\n",
              "    </tr>\n",
              "    <tr>\n",
              "      <th>...</th>\n",
              "      <td>...</td>\n",
              "      <td>...</td>\n",
              "      <td>...</td>\n",
              "      <td>...</td>\n",
              "    </tr>\n",
              "    <tr>\n",
              "      <th>27874</th>\n",
              "      <td>Amazon Fire Tv,,,\\r\\nAmazon Fire Tv,,,</td>\n",
              "      <td>It has many uses. You can listen to music, che...</td>\n",
              "      <td>1</td>\n",
              "      <td>0</td>\n",
              "    </tr>\n",
              "    <tr>\n",
              "      <th>27875</th>\n",
              "      <td>Amazon Fire Tv,,,\\r\\nAmazon Fire Tv,,,</td>\n",
              "      <td>Cost is not outrageous. Easy setup, fun to use...</td>\n",
              "      <td>1</td>\n",
              "      <td>0</td>\n",
              "    </tr>\n",
              "    <tr>\n",
              "      <th>27876</th>\n",
              "      <td>Amazon Fire Tv,,,\\r\\nAmazon Fire Tv,,,</td>\n",
              "      <td>I knew about this from its crowd funding start...</td>\n",
              "      <td>1</td>\n",
              "      <td>1</td>\n",
              "    </tr>\n",
              "    <tr>\n",
              "      <th>27877</th>\n",
              "      <td>Amazon Fire Tv,,,\\r\\nAmazon Fire Tv,,,</td>\n",
              "      <td>This is a neat product but did not fit my need...</td>\n",
              "      <td>0</td>\n",
              "      <td>0</td>\n",
              "    </tr>\n",
              "    <tr>\n",
              "      <th>27878</th>\n",
              "      <td>Amazon Fire Tv,,,\\r\\nAmazon Fire Tv,,,</td>\n",
              "      <td>Responses well and there are lots of skills to...</td>\n",
              "      <td>1</td>\n",
              "      <td>0</td>\n",
              "    </tr>\n",
              "  </tbody>\n",
              "</table>\n",
              "<p>26068 rows × 4 columns</p>\n",
              "</div>"
            ],
            "text/plain": [
              "                                                    name  \\\n",
              "0      All-New Fire HD 8 Tablet, 8 HD Display, Wi-Fi,...   \n",
              "1      All-New Fire HD 8 Tablet, 8 HD Display, Wi-Fi,...   \n",
              "2      All-New Fire HD 8 Tablet, 8 HD Display, Wi-Fi,...   \n",
              "3      All-New Fire HD 8 Tablet, 8 HD Display, Wi-Fi,...   \n",
              "4      All-New Fire HD 8 Tablet, 8 HD Display, Wi-Fi,...   \n",
              "...                                                  ...   \n",
              "27874             Amazon Fire Tv,,,\\r\\nAmazon Fire Tv,,,   \n",
              "27875             Amazon Fire Tv,,,\\r\\nAmazon Fire Tv,,,   \n",
              "27876             Amazon Fire Tv,,,\\r\\nAmazon Fire Tv,,,   \n",
              "27877             Amazon Fire Tv,,,\\r\\nAmazon Fire Tv,,,   \n",
              "27878             Amazon Fire Tv,,,\\r\\nAmazon Fire Tv,,,   \n",
              "\n",
              "                                            reviews.text  reviews.doRecommend  \\\n",
              "0      This product so far has not disappointed. My c...                    1   \n",
              "1      great for beginner or experienced person. Boug...                    1   \n",
              "2      Inexpensive tablet for him to use and learn on...                    1   \n",
              "3      I've had my Fire HD 8 two weeks now and I love...                    1   \n",
              "4      I bought this for my grand daughter when she c...                    1   \n",
              "...                                                  ...                  ...   \n",
              "27874  It has many uses. You can listen to music, che...                    1   \n",
              "27875  Cost is not outrageous. Easy setup, fun to use...                    1   \n",
              "27876  I knew about this from its crowd funding start...                    1   \n",
              "27877  This is a neat product but did not fit my need...                    0   \n",
              "27878  Responses well and there are lots of skills to...                    1   \n",
              "\n",
              "       reviews.numHelpful  \n",
              "0                       0  \n",
              "1                       0  \n",
              "2                       0  \n",
              "3                       0  \n",
              "4                       0  \n",
              "...                   ...  \n",
              "27874                   0  \n",
              "27875                   0  \n",
              "27876                   1  \n",
              "27877                   0  \n",
              "27878                   0  \n",
              "\n",
              "[26068 rows x 4 columns]"
            ]
          },
          "execution_count": 22,
          "metadata": {},
          "output_type": "execute_result"
        }
      ],
      "source": [
        "review['reviews.doRecommend'] = review['reviews.doRecommend'].astype(int);\n",
        "review['reviews.numHelpful']= review['reviews.numHelpful'].astype(int);\n",
        "review"
      ]
    },
    {
      "cell_type": "markdown",
      "metadata": {
        "id": "ZeoO0zmCyYSZ"
      },
      "source": [
        "### Let's clean the text data"
      ]
    },
    {
      "cell_type": "code",
      "execution_count": 23,
      "metadata": {
        "colab": {
          "base_uri": "https://localhost:8080/"
        },
        "execution": {
          "iopub.execute_input": "2024-02-12T13:32:05.264800Z",
          "iopub.status.busy": "2024-02-12T13:32:05.264445Z",
          "iopub.status.idle": "2024-02-12T13:32:05.276656Z",
          "shell.execute_reply": "2024-02-12T13:32:05.275191Z",
          "shell.execute_reply.started": "2024-02-12T13:32:05.264771Z"
        },
        "id": "S8MoeM-gyYSZ",
        "outputId": "9f119ad7-0ef7-408b-91e3-57b31156b6e1",
        "trusted": true
      },
      "outputs": [
        {
          "data": {
            "text/plain": [
              "array(['All-New Fire HD 8 Tablet, 8 HD Display, Wi-Fi, 16 GB - Includes Special Offers, Magenta',\n",
              "       'Fire Tablet, 7 Display, Wi-Fi, 8 GB - Includes Special Offers, Magenta',\n",
              "       'Brand New Amazon Kindle Fire 16gb 7 Ips Display Tablet Wifi 16 Gb Blue,,,',\n",
              "       'Fire Kids Edition Tablet, 7 Display, Wi-Fi, 16 GB, Green Kid-Proof Case',\n",
              "       'Amazon Kindle Paperwhite - eBook reader - 4 GB - 6 monochrome Paperwhite - touchscreen - Wi-Fi - black,,,',\n",
              "       'Kindle Voyage E-reader, 6 High-Resolution Display (300 ppi) with Adaptive Built-in Light, PagePress Sensors, Wi-Fi - Includes Special Offers,',\n",
              "       'Echo (White),,,\\r\\nEcho (White),,,',\n",
              "       'Amazon Fire Tv,,,\\r\\nAmazon Fire Tv,,,'], dtype=object)"
            ]
          },
          "execution_count": 23,
          "metadata": {},
          "output_type": "execute_result"
        }
      ],
      "source": [
        "review['name'].unique()"
      ]
    },
    {
      "cell_type": "markdown",
      "metadata": {
        "id": "vyLjnItByYSZ"
      },
      "source": [
        "#### Some product names seem to containg repeating words separated by triple comma. Let's remove the triple comma"
      ]
    },
    {
      "cell_type": "code",
      "execution_count": 24,
      "metadata": {
        "colab": {
          "base_uri": "https://localhost:8080/"
        },
        "execution": {
          "iopub.execute_input": "2024-02-12T13:32:05.279089Z",
          "iopub.status.busy": "2024-02-12T13:32:05.278635Z",
          "iopub.status.idle": "2024-02-12T13:32:05.308657Z",
          "shell.execute_reply": "2024-02-12T13:32:05.307470Z",
          "shell.execute_reply.started": "2024-02-12T13:32:05.279056Z"
        },
        "id": "bmzK5X_2yYSZ",
        "outputId": "4d3c198e-40b0-4ac5-b8b8-08cb8ed2131f",
        "trusted": true
      },
      "outputs": [
        {
          "data": {
            "text/plain": [
              "array(['All-New Fire HD 8 Tablet, 8 HD Display, Wi-Fi, 16 GB - Includes Special Offers, Magenta',\n",
              "       'Fire Tablet, 7 Display, Wi-Fi, 8 GB - Includes Special Offers, Magenta',\n",
              "       'Brand New Amazon Kindle Fire 16gb 7 Ips Display Tablet Wifi 16 Gb Blue',\n",
              "       'Fire Kids Edition Tablet, 7 Display, Wi-Fi, 16 GB, Green Kid-Proof Case',\n",
              "       'Amazon Kindle Paperwhite - eBook reader - 4 GB - 6 monochrome Paperwhite - touchscreen - Wi-Fi - black',\n",
              "       'Kindle Voyage E-reader, 6 High-Resolution Display (300 ppi) with Adaptive Built-in Light, PagePress Sensors, Wi-Fi - Includes Special Offers,',\n",
              "       'Echo (White)', 'Amazon Fire Tv'], dtype=object)"
            ]
          },
          "execution_count": 24,
          "metadata": {},
          "output_type": "execute_result"
        }
      ],
      "source": [
        "review['name'] = review['name'].apply(lambda name: name.split(',,,')[0]);\n",
        "review['name'].unique()"
      ]
    },
    {
      "cell_type": "markdown",
      "metadata": {
        "id": "yxRx58DLyYSa"
      },
      "source": [
        "#### Let's clean `reviews.text`"
      ]
    },
    {
      "cell_type": "code",
      "execution_count": 25,
      "metadata": {
        "colab": {
          "base_uri": "https://localhost:8080/"
        },
        "execution": {
          "iopub.execute_input": "2024-02-12T13:32:05.310696Z",
          "iopub.status.busy": "2024-02-12T13:32:05.310334Z",
          "iopub.status.idle": "2024-02-12T13:32:05.317457Z",
          "shell.execute_reply": "2024-02-12T13:32:05.316286Z",
          "shell.execute_reply.started": "2024-02-12T13:32:05.310666Z"
        },
        "id": "GRw-IyHeyYSa",
        "outputId": "9f5d7077-440c-474c-f4c7-15a20f00d13b",
        "trusted": true
      },
      "outputs": [
        {
          "name": "stdout",
          "output_type": "stream",
          "text": [
            "At 0\n",
            " Review Text:I love everything about this tablet! The imaging is sharp and clear. It's fast and light weight. Love it!\n",
            "At 1\n",
            " Review Text:Overall a nice product for traveling purposes Value for money\n",
            "At 2\n",
            " Review Text:My children love this table great quality of pictures, excellent camera\n",
            "At 3\n",
            " Review Text:I bought 3 tablets and my family was not disappointed.\n",
            "At 4\n",
            " Review Text:Great tablet fast screen good size never gives me problem\n",
            "At 5\n",
            " Review Text:Bought this for my 87 year old grandmother who wanted to be able to play games and read books from the library. My aunt lives with her and can help her use it so its perfect for that type of user. After playing with It, I would consider it for just about anyone other than a hardcore user that wants the latest and greatest tech. if you are tech saavy, you can do more with these Fire tablets than advertised.\n",
            "At 6\n",
            " Review Text:This is exactly what the person wanted as a gift and she enjoys using it.\n",
            "At 7\n",
            " Review Text:Does all basic functions of a tablet. Hardcore users may want an iPad.\n",
            "At 8\n",
            " Review Text:Works great for a simple tablet. Not a huge fan of the silk browser but it could be worse! I am very happy with my purchase!\n",
            "At 9\n",
            " Review Text:It's fast and easy to use. This is my second kindle fire .\n",
            "At 10\n",
            " Review Text:More flexibility than a Kindle and bigger screen. Like it because I can surf the web and download and read books.\n",
            "At 11\n",
            " Review Text:For the money you cannot beat this tablet. Full of features, picture quality is great, and very fast speed while using the internet.\n",
            "At 12\n",
            " Review Text:Easy to use, solid build, sharp HP screen for movies. Who needs more?\n",
            "At 13\n",
            " Review Text:Tablet is perfect for beginners who just want basic\n",
            "At 14\n",
            " Review Text:this is my first tablet .. love it .. actually read my first e-book on it .. large screen, easy to read & play games .. fits nicely in my purse\n"
          ]
        }
      ],
      "source": [
        "for index, text in enumerate(review['reviews.text'][35:50]):\n",
        "    print(f\"At {index}\\n Review Text:{text}\")"
      ]
    },
    {
      "cell_type": "markdown",
      "metadata": {
        "id": "n_YmkcD5yYSa"
      },
      "source": [
        "**It is obious we have some contractions such as 'it's' numbers such as '3' and '87' and ellipses such as .. as well as . present in the review text**"
      ]
    },
    {
      "cell_type": "markdown",
      "metadata": {
        "id": "Q0MJwzwGyYSa"
      },
      "source": [
        "**Let's pre-define some custom contractions**"
      ]
    },
    {
      "cell_type": "code",
      "execution_count": 26,
      "metadata": {
        "execution": {
          "iopub.execute_input": "2024-02-12T13:32:05.319978Z",
          "iopub.status.busy": "2024-02-12T13:32:05.319292Z",
          "iopub.status.idle": "2024-02-12T13:32:05.338780Z",
          "shell.execute_reply": "2024-02-12T13:32:05.337395Z",
          "shell.execute_reply.started": "2024-02-12T13:32:05.319916Z"
        },
        "id": "wnTuGn38yYSa",
        "trusted": true
      },
      "outputs": [],
      "source": [
        "contractions_dict = { \"ain't\": \"are not\",\"'s\":\" is\",\"aren't\": \"are not\",\n",
        "                     \"can't\": \"cannot\",\"can't've\": \"cannot have\",\n",
        "                     \"'cause\": \"because\",\"could've\": \"could have\",\"couldn't\": \"could not\",\n",
        "                     \"couldn't've\": \"could not have\", \"didn't\": \"did not\",\"doesn't\": \"does not\",\n",
        "                     \"don't\": \"do not\",\"hadn't\": \"had not\",\"hadn't've\": \"had not have\",\n",
        "                     \"hasn't\": \"has not\",\"haven't\": \"have not\",\"he'd\": \"he would\",\n",
        "                     \"he'd've\": \"he would have\",\"he'll\": \"he will\", \"he'll've\": \"he will have\",\n",
        "                     \"how'd\": \"how did\",\"how'd'y\": \"how do you\",\"how'll\": \"how will\",\n",
        "                     \"I'd\": \"I would\", \"I'd've\": \"I would have\",\"I'll\": \"I will\",\n",
        "                     \"I'll've\": \"I will have\",\"I'm\": \"I am\",\"I've\": \"I have\", \"isn't\": \"is not\",\n",
        "                     \"it'd\": \"it would\",\"it'd've\": \"it would have\",\"it'll\": \"it will\",\n",
        "                     \"it'll've\": \"it will have\", \"let's\": \"let us\",\"ma'am\": \"madam\",\n",
        "                     \"mayn't\": \"may not\",\"might've\": \"might have\",\"mightn't\": \"might not\",\n",
        "                     \"mightn't've\": \"might not have\",\"must've\": \"must have\",\"mustn't\": \"must not\",\n",
        "                     \"mustn't've\": \"must not have\", \"needn't\": \"need not\",\n",
        "                     \"needn't've\": \"need not have\",\"o'clock\": \"of the clock\",\"oughtn't\": \"ought not\",\n",
        "                     \"oughtn't've\": \"ought not have\",\"shan't\": \"shall not\",\"sha'n't\": \"shall not\",\n",
        "                     \"shan't've\": \"shall not have\",\"she'd\": \"she would\",\"she'd've\": \"she would have\",\n",
        "                     \"she'll\": \"she will\", \"she'll've\": \"she will have\",\"should've\": \"should have\",\n",
        "                     \"shouldn't\": \"should not\", \"shouldn't've\": \"should not have\",\"so've\": \"so have\",\n",
        "                     \"that'd\": \"that would\",\"that'd've\": \"that would have\", \"there'd\": \"there would\",\n",
        "                     \"there'd've\": \"there would have\", \"they'd\": \"they would\",\n",
        "                     \"they'd've\": \"they would have\",\"they'll\": \"they will\",\n",
        "                     \"they'll've\": \"they will have\", \"they're\": \"they are\",\"they've\": \"they have\",\n",
        "                     \"to've\": \"to have\",\"wasn't\": \"was not\",\"we'd\": \"we would\",\n",
        "                     \"we'd've\": \"we would have\",\"we'll\": \"we will\",\"we'll've\": \"we will have\",\n",
        "                     \"we're\": \"we are\",\"we've\": \"we have\", \"weren't\": \"were not\",\"what'll\": \"what will\",\n",
        "                     \"what'll've\": \"what will have\",\"what're\": \"what are\", \"what've\": \"what have\",\n",
        "                     \"when've\": \"when have\",\"where'd\": \"where did\", \"where've\": \"where have\",\n",
        "                     \"who'll\": \"who will\",\"who'll've\": \"who will have\",\"who've\": \"who have\",\n",
        "                     \"why've\": \"why have\",\"will've\": \"will have\",\"won't\": \"will not\",\n",
        "                     \"won't've\": \"will not have\", \"would've\": \"would have\",\"wouldn't\": \"would not\",\n",
        "                     \"wouldn't've\": \"would not have\",\"y'all\": \"you all\", \"y'all'd\": \"you all would\",\n",
        "                     \"y'all'd've\": \"you all would have\",\"y'all're\": \"you all are\",\n",
        "                     \"y'all've\": \"you all have\", \"you'd\": \"you would\",\"you'd've\": \"you would have\",\n",
        "                     \"you'll\": \"you will\",\"you'll've\": \"you will have\", \"you're\": \"you are\",\n",
        "                     \"you've\": \"you have\"}"
      ]
    },
    {
      "cell_type": "markdown",
      "metadata": {
        "id": "8uT8QxizyYSa"
      },
      "source": [
        "### compile these contractions using regualar expression we imported earlier"
      ]
    },
    {
      "cell_type": "code",
      "execution_count": 27,
      "metadata": {
        "colab": {
          "base_uri": "https://localhost:8080/"
        },
        "execution": {
          "iopub.execute_input": "2024-02-12T13:32:05.341522Z",
          "iopub.status.busy": "2024-02-12T13:32:05.340905Z",
          "iopub.status.idle": "2024-02-12T13:32:05.360602Z",
          "shell.execute_reply": "2024-02-12T13:32:05.359414Z",
          "shell.execute_reply.started": "2024-02-12T13:32:05.341479Z"
        },
        "id": "sMc6khelyYSa",
        "outputId": "41ec1019-7607-44dd-9f2b-d276a9c2495a",
        "trusted": true
      },
      "outputs": [
        {
          "data": {
            "text/plain": [
              "re.compile(r\"(ain't|'s|aren't|can't|can't've|'cause|could've|couldn't|couldn't've|didn't|doesn't|don't|hadn't|hadn't've|hasn't|haven't|he'd|he'd've|he'll|he'll've|how'd|how'd'y|how'll|I'd|I'd've|I'll|I'll've|I'm|I've|isn't|it'd|it'd've|it'll|it'll've|let's|ma'am|mayn't|might've|mightn't|mightn't've|must've|mustn't|mustn't've|needn't|needn't've|o'clock|oughtn't|oughtn't've|shan't|sha'n't|shan't've|she'd|she'd've|she'll|she'll've|should've|shouldn't|shouldn't've|so've|that'd|that'd've|there'd|there'd've|they'd|they'd've|they'll|they'll've|they're|they've|to've|wasn't|we'd|we'd've|we'll|we'll've|we're|we've|weren't|what'll|what'll've|what're|what've|when've|where'd|where've|who'll|who'll've|who've|why've|will've|won't|won't've|would've|wouldn't|wouldn't've|y'all|y'all'd|y'all'd've|y'all're|y'all've|you'd|you'd've|you'll|you'll've|you're|you've)\",\n",
              "           re.UNICODE)"
            ]
          },
          "execution_count": 27,
          "metadata": {},
          "output_type": "execute_result"
        }
      ],
      "source": [
        "contraction_re = re.compile('({})'.format('|'.join(contractions_dict.keys())));\n",
        "contraction_re"
      ]
    },
    {
      "cell_type": "markdown",
      "metadata": {
        "id": "VVGTXNplyYSa"
      },
      "source": [
        "#### Declare a custom function to expand the contractions"
      ]
    },
    {
      "cell_type": "code",
      "execution_count": 28,
      "metadata": {
        "execution": {
          "iopub.execute_input": "2024-02-12T13:32:05.363171Z",
          "iopub.status.busy": "2024-02-12T13:32:05.361937Z",
          "iopub.status.idle": "2024-02-12T13:32:05.375270Z",
          "shell.execute_reply": "2024-02-12T13:32:05.373954Z",
          "shell.execute_reply.started": "2024-02-12T13:32:05.363128Z"
        },
        "id": "ayLuzq69yYSa",
        "trusted": true
      },
      "outputs": [],
      "source": [
        "def expand_contractions(text, contraction_dicts=contractions_dict):\n",
        "\n",
        "    def replace(match):\n",
        "        #print(f\"contraction dict mactch=={contractions_dict[match.group]}\")\n",
        "        return contractions_dict[match.group(0)]\n",
        "    return contraction_re.sub(replace, text)"
      ]
    },
    {
      "cell_type": "markdown",
      "metadata": {
        "id": "w52zUy03yYSa"
      },
      "source": [
        "### Now let's use lambda to apply our new function to the reviews.text"
      ]
    },
    {
      "cell_type": "code",
      "execution_count": 29,
      "metadata": {
        "execution": {
          "iopub.execute_input": "2024-02-12T13:32:05.378053Z",
          "iopub.status.busy": "2024-02-12T13:32:05.377193Z",
          "iopub.status.idle": "2024-02-12T13:32:06.364648Z",
          "shell.execute_reply": "2024-02-12T13:32:06.363650Z",
          "shell.execute_reply.started": "2024-02-12T13:32:05.378020Z"
        },
        "id": "V0n-VqWIyYSb",
        "trusted": true
      },
      "outputs": [],
      "source": [
        "review['reviews.text']= review['reviews.text'].apply(lambda text:expand_contractions(text))\n"
      ]
    },
    {
      "cell_type": "markdown",
      "metadata": {
        "id": "xv0aRXOMyYSb"
      },
      "source": [
        "### Converts the review to lowercase"
      ]
    },
    {
      "cell_type": "code",
      "execution_count": 30,
      "metadata": {
        "execution": {
          "iopub.execute_input": "2024-02-12T13:32:06.366371Z",
          "iopub.status.busy": "2024-02-12T13:32:06.366017Z",
          "iopub.status.idle": "2024-02-12T13:32:06.392228Z",
          "shell.execute_reply": "2024-02-12T13:32:06.390890Z",
          "shell.execute_reply.started": "2024-02-12T13:32:06.366340Z"
        },
        "id": "rlhseeNxyYSb",
        "trusted": true
      },
      "outputs": [],
      "source": [
        "review['cleaned'] = review['reviews.text'].apply(lambda text:text.lower())"
      ]
    },
    {
      "cell_type": "code",
      "execution_count": 31,
      "metadata": {
        "colab": {
          "base_uri": "https://localhost:8080/"
        },
        "execution": {
          "iopub.execute_input": "2024-02-12T13:32:43.390977Z",
          "iopub.status.busy": "2024-02-12T13:32:43.390454Z",
          "iopub.status.idle": "2024-02-12T13:32:43.399067Z",
          "shell.execute_reply": "2024-02-12T13:32:43.397536Z",
          "shell.execute_reply.started": "2024-02-12T13:32:43.390918Z"
        },
        "id": "Q9QSwm8ayYSb",
        "outputId": "5e982e5f-bcd6-4aa3-e472-9eb64bdd1e0c",
        "trusted": true
      },
      "outputs": [
        {
          "name": "stdout",
          "output_type": "stream",
          "text": [
            "At index 0\n",
            " Review Text:i love everything about this tablet! the imaging is sharp and clear. it is fast and light weight. love it!\n",
            "At index 1\n",
            " Review Text:overall a nice product for traveling purposes value for money\n",
            "At index 2\n",
            " Review Text:my children love this table great quality of pictures, excellent camera\n",
            "At index 3\n",
            " Review Text:i bought 3 tablets and my family was not disappointed.\n",
            "At index 4\n",
            " Review Text:great tablet fast screen good size never gives me problem\n",
            "At index 5\n",
            " Review Text:bought this for my 87 year old grandmother who wanted to be able to play games and read books from the library. my aunt lives with her and can help her use it so its perfect for that type of user. after playing with it, i would consider it for just about anyone other than a hardcore user that wants the latest and greatest tech. if you are tech saavy, you can do more with these fire tablets than advertised.\n",
            "At index 6\n",
            " Review Text:this is exactly what the person wanted as a gift and she enjoys using it.\n",
            "At index 7\n",
            " Review Text:does all basic functions of a tablet. hardcore users may want an ipad.\n",
            "At index 8\n",
            " Review Text:works great for a simple tablet. not a huge fan of the silk browser but it could be worse! i am very happy with my purchase!\n",
            "At index 9\n",
            " Review Text:it is fast and easy to use. this is my second kindle fire .\n",
            "At index 10\n",
            " Review Text:more flexibility than a kindle and bigger screen. like it because i can surf the web and download and read books.\n",
            "At index 11\n",
            " Review Text:for the money you cannot beat this tablet. full of features, picture quality is great, and very fast speed while using the internet.\n",
            "At index 12\n",
            " Review Text:easy to use, solid build, sharp hp screen for movies. who needs more?\n",
            "At index 13\n",
            " Review Text:tablet is perfect for beginners who just want basic\n",
            "At index 14\n",
            " Review Text:this is my first tablet .. love it .. actually read my first e-book on it .. large screen, easy to read & play games .. fits nicely in my purse\n"
          ]
        }
      ],
      "source": [
        "for index, text in enumerate(review['cleaned'][35:50]):\n",
        "    print(f\"At index {index}\\n Review Text:{text}\")"
      ]
    },
    {
      "cell_type": "markdown",
      "metadata": {
        "id": "vl772Rw5yYSb"
      },
      "source": [
        "**Let's display the whole dataframe to see the different in the two colums**"
      ]
    },
    {
      "cell_type": "code",
      "execution_count": 32,
      "metadata": {
        "colab": {
          "base_uri": "https://localhost:8080/",
          "height": 1000
        },
        "execution": {
          "iopub.execute_input": "2024-02-12T13:33:00.254830Z",
          "iopub.status.busy": "2024-02-12T13:33:00.254413Z",
          "iopub.status.idle": "2024-02-12T13:33:00.273481Z",
          "shell.execute_reply": "2024-02-12T13:33:00.272261Z",
          "shell.execute_reply.started": "2024-02-12T13:33:00.254799Z"
        },
        "id": "f1xXcHPAyYSb",
        "outputId": "a29cf7b1-781a-430e-c065-2d77bea01262",
        "trusted": true
      },
      "outputs": [
        {
          "data": {
            "text/html": [
              "<div>\n",
              "<style scoped>\n",
              "    .dataframe tbody tr th:only-of-type {\n",
              "        vertical-align: middle;\n",
              "    }\n",
              "\n",
              "    .dataframe tbody tr th {\n",
              "        vertical-align: top;\n",
              "    }\n",
              "\n",
              "    .dataframe thead th {\n",
              "        text-align: right;\n",
              "    }\n",
              "</style>\n",
              "<table border=\"1\" class=\"dataframe\">\n",
              "  <thead>\n",
              "    <tr style=\"text-align: right;\">\n",
              "      <th></th>\n",
              "      <th>name</th>\n",
              "      <th>reviews.text</th>\n",
              "      <th>reviews.doRecommend</th>\n",
              "      <th>reviews.numHelpful</th>\n",
              "      <th>cleaned</th>\n",
              "    </tr>\n",
              "  </thead>\n",
              "  <tbody>\n",
              "    <tr>\n",
              "      <th>0</th>\n",
              "      <td>All-New Fire HD 8 Tablet, 8 HD Display, Wi-Fi,...</td>\n",
              "      <td>This product so far has not disappointed. My c...</td>\n",
              "      <td>1</td>\n",
              "      <td>0</td>\n",
              "      <td>this product so far has not disappointed. my c...</td>\n",
              "    </tr>\n",
              "    <tr>\n",
              "      <th>1</th>\n",
              "      <td>All-New Fire HD 8 Tablet, 8 HD Display, Wi-Fi,...</td>\n",
              "      <td>great for beginner or experienced person. Boug...</td>\n",
              "      <td>1</td>\n",
              "      <td>0</td>\n",
              "      <td>great for beginner or experienced person. boug...</td>\n",
              "    </tr>\n",
              "    <tr>\n",
              "      <th>2</th>\n",
              "      <td>All-New Fire HD 8 Tablet, 8 HD Display, Wi-Fi,...</td>\n",
              "      <td>Inexpensive tablet for him to use and learn on...</td>\n",
              "      <td>1</td>\n",
              "      <td>0</td>\n",
              "      <td>inexpensive tablet for him to use and learn on...</td>\n",
              "    </tr>\n",
              "    <tr>\n",
              "      <th>3</th>\n",
              "      <td>All-New Fire HD 8 Tablet, 8 HD Display, Wi-Fi,...</td>\n",
              "      <td>I have had my Fire HD 8 two weeks now and I lo...</td>\n",
              "      <td>1</td>\n",
              "      <td>0</td>\n",
              "      <td>i have had my fire hd 8 two weeks now and i lo...</td>\n",
              "    </tr>\n",
              "    <tr>\n",
              "      <th>4</th>\n",
              "      <td>All-New Fire HD 8 Tablet, 8 HD Display, Wi-Fi,...</td>\n",
              "      <td>I bought this for my grand daughter when she c...</td>\n",
              "      <td>1</td>\n",
              "      <td>0</td>\n",
              "      <td>i bought this for my grand daughter when she c...</td>\n",
              "    </tr>\n",
              "    <tr>\n",
              "      <th>...</th>\n",
              "      <td>...</td>\n",
              "      <td>...</td>\n",
              "      <td>...</td>\n",
              "      <td>...</td>\n",
              "      <td>...</td>\n",
              "    </tr>\n",
              "    <tr>\n",
              "      <th>27874</th>\n",
              "      <td>Amazon Fire Tv</td>\n",
              "      <td>It has many uses. You can listen to music, che...</td>\n",
              "      <td>1</td>\n",
              "      <td>0</td>\n",
              "      <td>it has many uses. you can listen to music, che...</td>\n",
              "    </tr>\n",
              "    <tr>\n",
              "      <th>27875</th>\n",
              "      <td>Amazon Fire Tv</td>\n",
              "      <td>Cost is not outrageous. Easy setup, fun to use...</td>\n",
              "      <td>1</td>\n",
              "      <td>0</td>\n",
              "      <td>cost is not outrageous. easy setup, fun to use...</td>\n",
              "    </tr>\n",
              "    <tr>\n",
              "      <th>27876</th>\n",
              "      <td>Amazon Fire Tv</td>\n",
              "      <td>I knew about this from its crowd funding start...</td>\n",
              "      <td>1</td>\n",
              "      <td>1</td>\n",
              "      <td>i knew about this from its crowd funding start...</td>\n",
              "    </tr>\n",
              "    <tr>\n",
              "      <th>27877</th>\n",
              "      <td>Amazon Fire Tv</td>\n",
              "      <td>This is a neat product but did not fit my need...</td>\n",
              "      <td>0</td>\n",
              "      <td>0</td>\n",
              "      <td>this is a neat product but did not fit my need...</td>\n",
              "    </tr>\n",
              "    <tr>\n",
              "      <th>27878</th>\n",
              "      <td>Amazon Fire Tv</td>\n",
              "      <td>Responses well and there are lots of skills to...</td>\n",
              "      <td>1</td>\n",
              "      <td>0</td>\n",
              "      <td>responses well and there are lots of skills to...</td>\n",
              "    </tr>\n",
              "  </tbody>\n",
              "</table>\n",
              "<p>26068 rows × 5 columns</p>\n",
              "</div>"
            ],
            "text/plain": [
              "                                                    name  \\\n",
              "0      All-New Fire HD 8 Tablet, 8 HD Display, Wi-Fi,...   \n",
              "1      All-New Fire HD 8 Tablet, 8 HD Display, Wi-Fi,...   \n",
              "2      All-New Fire HD 8 Tablet, 8 HD Display, Wi-Fi,...   \n",
              "3      All-New Fire HD 8 Tablet, 8 HD Display, Wi-Fi,...   \n",
              "4      All-New Fire HD 8 Tablet, 8 HD Display, Wi-Fi,...   \n",
              "...                                                  ...   \n",
              "27874                                     Amazon Fire Tv   \n",
              "27875                                     Amazon Fire Tv   \n",
              "27876                                     Amazon Fire Tv   \n",
              "27877                                     Amazon Fire Tv   \n",
              "27878                                     Amazon Fire Tv   \n",
              "\n",
              "                                            reviews.text  reviews.doRecommend  \\\n",
              "0      This product so far has not disappointed. My c...                    1   \n",
              "1      great for beginner or experienced person. Boug...                    1   \n",
              "2      Inexpensive tablet for him to use and learn on...                    1   \n",
              "3      I have had my Fire HD 8 two weeks now and I lo...                    1   \n",
              "4      I bought this for my grand daughter when she c...                    1   \n",
              "...                                                  ...                  ...   \n",
              "27874  It has many uses. You can listen to music, che...                    1   \n",
              "27875  Cost is not outrageous. Easy setup, fun to use...                    1   \n",
              "27876  I knew about this from its crowd funding start...                    1   \n",
              "27877  This is a neat product but did not fit my need...                    0   \n",
              "27878  Responses well and there are lots of skills to...                    1   \n",
              "\n",
              "       reviews.numHelpful                                            cleaned  \n",
              "0                       0  this product so far has not disappointed. my c...  \n",
              "1                       0  great for beginner or experienced person. boug...  \n",
              "2                       0  inexpensive tablet for him to use and learn on...  \n",
              "3                       0  i have had my fire hd 8 two weeks now and i lo...  \n",
              "4                       0  i bought this for my grand daughter when she c...  \n",
              "...                   ...                                                ...  \n",
              "27874                   0  it has many uses. you can listen to music, che...  \n",
              "27875                   0  cost is not outrageous. easy setup, fun to use...  \n",
              "27876                   1  i knew about this from its crowd funding start...  \n",
              "27877                   0  this is a neat product but did not fit my need...  \n",
              "27878                   0  responses well and there are lots of skills to...  \n",
              "\n",
              "[26068 rows x 5 columns]"
            ]
          },
          "execution_count": 32,
          "metadata": {},
          "output_type": "execute_result"
        }
      ],
      "source": [
        "review"
      ]
    },
    {
      "cell_type": "markdown",
      "metadata": {
        "id": "PBpt8YtByYSb"
      },
      "source": [
        "### Remove digits and  words that contain digits"
      ]
    },
    {
      "cell_type": "code",
      "execution_count": 33,
      "metadata": {
        "execution": {
          "iopub.execute_input": "2024-02-12T13:40:46.335159Z",
          "iopub.status.busy": "2024-02-12T13:40:46.334631Z",
          "iopub.status.idle": "2024-02-12T13:40:47.333374Z",
          "shell.execute_reply": "2024-02-12T13:40:47.332272Z",
          "shell.execute_reply.started": "2024-02-12T13:40:46.335121Z"
        },
        "id": "zC30CIHIyYSc",
        "trusted": true
      },
      "outputs": [],
      "source": [
        "review['cleaned']= review['cleaned'].apply(lambda x:re.sub(\"\\w*\\d\\w*\",\"\",x))"
      ]
    },
    {
      "cell_type": "code",
      "execution_count": 34,
      "metadata": {
        "colab": {
          "base_uri": "https://localhost:8080/",
          "height": 1000
        },
        "execution": {
          "iopub.execute_input": "2024-02-12T13:40:55.715879Z",
          "iopub.status.busy": "2024-02-12T13:40:55.715475Z",
          "iopub.status.idle": "2024-02-12T13:40:55.732490Z",
          "shell.execute_reply": "2024-02-12T13:40:55.731105Z",
          "shell.execute_reply.started": "2024-02-12T13:40:55.715850Z"
        },
        "id": "83tWK1uQyYSc",
        "outputId": "6d8f10ed-afae-4760-8ee2-057c8a9998a2",
        "trusted": true
      },
      "outputs": [
        {
          "data": {
            "text/html": [
              "<div>\n",
              "<style scoped>\n",
              "    .dataframe tbody tr th:only-of-type {\n",
              "        vertical-align: middle;\n",
              "    }\n",
              "\n",
              "    .dataframe tbody tr th {\n",
              "        vertical-align: top;\n",
              "    }\n",
              "\n",
              "    .dataframe thead th {\n",
              "        text-align: right;\n",
              "    }\n",
              "</style>\n",
              "<table border=\"1\" class=\"dataframe\">\n",
              "  <thead>\n",
              "    <tr style=\"text-align: right;\">\n",
              "      <th></th>\n",
              "      <th>name</th>\n",
              "      <th>reviews.text</th>\n",
              "      <th>reviews.doRecommend</th>\n",
              "      <th>reviews.numHelpful</th>\n",
              "      <th>cleaned</th>\n",
              "    </tr>\n",
              "  </thead>\n",
              "  <tbody>\n",
              "    <tr>\n",
              "      <th>0</th>\n",
              "      <td>All-New Fire HD 8 Tablet, 8 HD Display, Wi-Fi,...</td>\n",
              "      <td>This product so far has not disappointed. My c...</td>\n",
              "      <td>1</td>\n",
              "      <td>0</td>\n",
              "      <td>this product so far has not disappointed. my c...</td>\n",
              "    </tr>\n",
              "    <tr>\n",
              "      <th>1</th>\n",
              "      <td>All-New Fire HD 8 Tablet, 8 HD Display, Wi-Fi,...</td>\n",
              "      <td>great for beginner or experienced person. Boug...</td>\n",
              "      <td>1</td>\n",
              "      <td>0</td>\n",
              "      <td>great for beginner or experienced person. boug...</td>\n",
              "    </tr>\n",
              "    <tr>\n",
              "      <th>2</th>\n",
              "      <td>All-New Fire HD 8 Tablet, 8 HD Display, Wi-Fi,...</td>\n",
              "      <td>Inexpensive tablet for him to use and learn on...</td>\n",
              "      <td>1</td>\n",
              "      <td>0</td>\n",
              "      <td>inexpensive tablet for him to use and learn on...</td>\n",
              "    </tr>\n",
              "    <tr>\n",
              "      <th>3</th>\n",
              "      <td>All-New Fire HD 8 Tablet, 8 HD Display, Wi-Fi,...</td>\n",
              "      <td>I have had my Fire HD 8 two weeks now and I lo...</td>\n",
              "      <td>1</td>\n",
              "      <td>0</td>\n",
              "      <td>i have had my fire hd  two weeks now and i lov...</td>\n",
              "    </tr>\n",
              "    <tr>\n",
              "      <th>4</th>\n",
              "      <td>All-New Fire HD 8 Tablet, 8 HD Display, Wi-Fi,...</td>\n",
              "      <td>I bought this for my grand daughter when she c...</td>\n",
              "      <td>1</td>\n",
              "      <td>0</td>\n",
              "      <td>i bought this for my grand daughter when she c...</td>\n",
              "    </tr>\n",
              "    <tr>\n",
              "      <th>...</th>\n",
              "      <td>...</td>\n",
              "      <td>...</td>\n",
              "      <td>...</td>\n",
              "      <td>...</td>\n",
              "      <td>...</td>\n",
              "    </tr>\n",
              "    <tr>\n",
              "      <th>27874</th>\n",
              "      <td>Amazon Fire Tv</td>\n",
              "      <td>It has many uses. You can listen to music, che...</td>\n",
              "      <td>1</td>\n",
              "      <td>0</td>\n",
              "      <td>it has many uses. you can listen to music, che...</td>\n",
              "    </tr>\n",
              "    <tr>\n",
              "      <th>27875</th>\n",
              "      <td>Amazon Fire Tv</td>\n",
              "      <td>Cost is not outrageous. Easy setup, fun to use...</td>\n",
              "      <td>1</td>\n",
              "      <td>0</td>\n",
              "      <td>cost is not outrageous. easy setup, fun to use...</td>\n",
              "    </tr>\n",
              "    <tr>\n",
              "      <th>27876</th>\n",
              "      <td>Amazon Fire Tv</td>\n",
              "      <td>I knew about this from its crowd funding start...</td>\n",
              "      <td>1</td>\n",
              "      <td>1</td>\n",
              "      <td>i knew about this from its crowd funding start...</td>\n",
              "    </tr>\n",
              "    <tr>\n",
              "      <th>27877</th>\n",
              "      <td>Amazon Fire Tv</td>\n",
              "      <td>This is a neat product but did not fit my need...</td>\n",
              "      <td>0</td>\n",
              "      <td>0</td>\n",
              "      <td>this is a neat product but did not fit my need...</td>\n",
              "    </tr>\n",
              "    <tr>\n",
              "      <th>27878</th>\n",
              "      <td>Amazon Fire Tv</td>\n",
              "      <td>Responses well and there are lots of skills to...</td>\n",
              "      <td>1</td>\n",
              "      <td>0</td>\n",
              "      <td>responses well and there are lots of skills to...</td>\n",
              "    </tr>\n",
              "  </tbody>\n",
              "</table>\n",
              "<p>26068 rows × 5 columns</p>\n",
              "</div>"
            ],
            "text/plain": [
              "                                                    name  \\\n",
              "0      All-New Fire HD 8 Tablet, 8 HD Display, Wi-Fi,...   \n",
              "1      All-New Fire HD 8 Tablet, 8 HD Display, Wi-Fi,...   \n",
              "2      All-New Fire HD 8 Tablet, 8 HD Display, Wi-Fi,...   \n",
              "3      All-New Fire HD 8 Tablet, 8 HD Display, Wi-Fi,...   \n",
              "4      All-New Fire HD 8 Tablet, 8 HD Display, Wi-Fi,...   \n",
              "...                                                  ...   \n",
              "27874                                     Amazon Fire Tv   \n",
              "27875                                     Amazon Fire Tv   \n",
              "27876                                     Amazon Fire Tv   \n",
              "27877                                     Amazon Fire Tv   \n",
              "27878                                     Amazon Fire Tv   \n",
              "\n",
              "                                            reviews.text  reviews.doRecommend  \\\n",
              "0      This product so far has not disappointed. My c...                    1   \n",
              "1      great for beginner or experienced person. Boug...                    1   \n",
              "2      Inexpensive tablet for him to use and learn on...                    1   \n",
              "3      I have had my Fire HD 8 two weeks now and I lo...                    1   \n",
              "4      I bought this for my grand daughter when she c...                    1   \n",
              "...                                                  ...                  ...   \n",
              "27874  It has many uses. You can listen to music, che...                    1   \n",
              "27875  Cost is not outrageous. Easy setup, fun to use...                    1   \n",
              "27876  I knew about this from its crowd funding start...                    1   \n",
              "27877  This is a neat product but did not fit my need...                    0   \n",
              "27878  Responses well and there are lots of skills to...                    1   \n",
              "\n",
              "       reviews.numHelpful                                            cleaned  \n",
              "0                       0  this product so far has not disappointed. my c...  \n",
              "1                       0  great for beginner or experienced person. boug...  \n",
              "2                       0  inexpensive tablet for him to use and learn on...  \n",
              "3                       0  i have had my fire hd  two weeks now and i lov...  \n",
              "4                       0  i bought this for my grand daughter when she c...  \n",
              "...                   ...                                                ...  \n",
              "27874                   0  it has many uses. you can listen to music, che...  \n",
              "27875                   0  cost is not outrageous. easy setup, fun to use...  \n",
              "27876                   1  i knew about this from its crowd funding start...  \n",
              "27877                   0  this is a neat product but did not fit my need...  \n",
              "27878                   0  responses well and there are lots of skills to...  \n",
              "\n",
              "[26068 rows x 5 columns]"
            ]
          },
          "execution_count": 34,
          "metadata": {},
          "output_type": "execute_result"
        }
      ],
      "source": [
        "review"
      ]
    },
    {
      "cell_type": "code",
      "execution_count": 35,
      "metadata": {
        "colab": {
          "base_uri": "https://localhost:8080/",
          "height": 1000
        },
        "execution": {
          "iopub.execute_input": "2024-02-12T13:44:33.994928Z",
          "iopub.status.busy": "2024-02-12T13:44:33.994526Z",
          "iopub.status.idle": "2024-02-12T13:44:34.012468Z",
          "shell.execute_reply": "2024-02-12T13:44:34.011573Z",
          "shell.execute_reply.started": "2024-02-12T13:44:33.994896Z"
        },
        "id": "VAqPn2jgyYSc",
        "outputId": "0e47a850-d24b-433b-d79f-ca3e5828c904",
        "trusted": true
      },
      "outputs": [
        {
          "data": {
            "text/html": [
              "<div>\n",
              "<style scoped>\n",
              "    .dataframe tbody tr th:only-of-type {\n",
              "        vertical-align: middle;\n",
              "    }\n",
              "\n",
              "    .dataframe tbody tr th {\n",
              "        vertical-align: top;\n",
              "    }\n",
              "\n",
              "    .dataframe thead th {\n",
              "        text-align: right;\n",
              "    }\n",
              "</style>\n",
              "<table border=\"1\" class=\"dataframe\">\n",
              "  <thead>\n",
              "    <tr style=\"text-align: right;\">\n",
              "      <th></th>\n",
              "      <th>name</th>\n",
              "      <th>reviews.text</th>\n",
              "      <th>reviews.doRecommend</th>\n",
              "      <th>reviews.numHelpful</th>\n",
              "      <th>cleaned</th>\n",
              "    </tr>\n",
              "  </thead>\n",
              "  <tbody>\n",
              "    <tr>\n",
              "      <th>0</th>\n",
              "      <td>All-New Fire HD 8 Tablet, 8 HD Display, Wi-Fi,...</td>\n",
              "      <td>This product so far has not disappointed. My c...</td>\n",
              "      <td>1</td>\n",
              "      <td>0</td>\n",
              "      <td>this product so far has not disappointed. my c...</td>\n",
              "    </tr>\n",
              "    <tr>\n",
              "      <th>1</th>\n",
              "      <td>All-New Fire HD 8 Tablet, 8 HD Display, Wi-Fi,...</td>\n",
              "      <td>great for beginner or experienced person. Boug...</td>\n",
              "      <td>1</td>\n",
              "      <td>0</td>\n",
              "      <td>great for beginner or experienced person. boug...</td>\n",
              "    </tr>\n",
              "    <tr>\n",
              "      <th>2</th>\n",
              "      <td>All-New Fire HD 8 Tablet, 8 HD Display, Wi-Fi,...</td>\n",
              "      <td>Inexpensive tablet for him to use and learn on...</td>\n",
              "      <td>1</td>\n",
              "      <td>0</td>\n",
              "      <td>inexpensive tablet for him to use and learn on...</td>\n",
              "    </tr>\n",
              "    <tr>\n",
              "      <th>3</th>\n",
              "      <td>All-New Fire HD 8 Tablet, 8 HD Display, Wi-Fi,...</td>\n",
              "      <td>I have had my Fire HD 8 two weeks now and I lo...</td>\n",
              "      <td>1</td>\n",
              "      <td>0</td>\n",
              "      <td>i have had my fire hd  two weeks now and i lov...</td>\n",
              "    </tr>\n",
              "    <tr>\n",
              "      <th>4</th>\n",
              "      <td>All-New Fire HD 8 Tablet, 8 HD Display, Wi-Fi,...</td>\n",
              "      <td>I bought this for my grand daughter when she c...</td>\n",
              "      <td>1</td>\n",
              "      <td>0</td>\n",
              "      <td>i bought this for my grand daughter when she c...</td>\n",
              "    </tr>\n",
              "    <tr>\n",
              "      <th>...</th>\n",
              "      <td>...</td>\n",
              "      <td>...</td>\n",
              "      <td>...</td>\n",
              "      <td>...</td>\n",
              "      <td>...</td>\n",
              "    </tr>\n",
              "    <tr>\n",
              "      <th>27874</th>\n",
              "      <td>Amazon Fire Tv</td>\n",
              "      <td>It has many uses. You can listen to music, che...</td>\n",
              "      <td>1</td>\n",
              "      <td>0</td>\n",
              "      <td>it has many uses. you can listen to music, che...</td>\n",
              "    </tr>\n",
              "    <tr>\n",
              "      <th>27875</th>\n",
              "      <td>Amazon Fire Tv</td>\n",
              "      <td>Cost is not outrageous. Easy setup, fun to use...</td>\n",
              "      <td>1</td>\n",
              "      <td>0</td>\n",
              "      <td>cost is not outrageous. easy setup, fun to use...</td>\n",
              "    </tr>\n",
              "    <tr>\n",
              "      <th>27876</th>\n",
              "      <td>Amazon Fire Tv</td>\n",
              "      <td>I knew about this from its crowd funding start...</td>\n",
              "      <td>1</td>\n",
              "      <td>1</td>\n",
              "      <td>i knew about this from its crowd funding start...</td>\n",
              "    </tr>\n",
              "    <tr>\n",
              "      <th>27877</th>\n",
              "      <td>Amazon Fire Tv</td>\n",
              "      <td>This is a neat product but did not fit my need...</td>\n",
              "      <td>0</td>\n",
              "      <td>0</td>\n",
              "      <td>this is a neat product but did not fit my need...</td>\n",
              "    </tr>\n",
              "    <tr>\n",
              "      <th>27878</th>\n",
              "      <td>Amazon Fire Tv</td>\n",
              "      <td>Responses well and there are lots of skills to...</td>\n",
              "      <td>1</td>\n",
              "      <td>0</td>\n",
              "      <td>responses well and there are lots of skills to...</td>\n",
              "    </tr>\n",
              "  </tbody>\n",
              "</table>\n",
              "<p>26068 rows × 5 columns</p>\n",
              "</div>"
            ],
            "text/plain": [
              "                                                    name  \\\n",
              "0      All-New Fire HD 8 Tablet, 8 HD Display, Wi-Fi,...   \n",
              "1      All-New Fire HD 8 Tablet, 8 HD Display, Wi-Fi,...   \n",
              "2      All-New Fire HD 8 Tablet, 8 HD Display, Wi-Fi,...   \n",
              "3      All-New Fire HD 8 Tablet, 8 HD Display, Wi-Fi,...   \n",
              "4      All-New Fire HD 8 Tablet, 8 HD Display, Wi-Fi,...   \n",
              "...                                                  ...   \n",
              "27874                                     Amazon Fire Tv   \n",
              "27875                                     Amazon Fire Tv   \n",
              "27876                                     Amazon Fire Tv   \n",
              "27877                                     Amazon Fire Tv   \n",
              "27878                                     Amazon Fire Tv   \n",
              "\n",
              "                                            reviews.text  reviews.doRecommend  \\\n",
              "0      This product so far has not disappointed. My c...                    1   \n",
              "1      great for beginner or experienced person. Boug...                    1   \n",
              "2      Inexpensive tablet for him to use and learn on...                    1   \n",
              "3      I have had my Fire HD 8 two weeks now and I lo...                    1   \n",
              "4      I bought this for my grand daughter when she c...                    1   \n",
              "...                                                  ...                  ...   \n",
              "27874  It has many uses. You can listen to music, che...                    1   \n",
              "27875  Cost is not outrageous. Easy setup, fun to use...                    1   \n",
              "27876  I knew about this from its crowd funding start...                    1   \n",
              "27877  This is a neat product but did not fit my need...                    0   \n",
              "27878  Responses well and there are lots of skills to...                    1   \n",
              "\n",
              "       reviews.numHelpful                                            cleaned  \n",
              "0                       0  this product so far has not disappointed. my c...  \n",
              "1                       0  great for beginner or experienced person. boug...  \n",
              "2                       0  inexpensive tablet for him to use and learn on...  \n",
              "3                       0  i have had my fire hd  two weeks now and i lov...  \n",
              "4                       0  i bought this for my grand daughter when she c...  \n",
              "...                   ...                                                ...  \n",
              "27874                   0  it has many uses. you can listen to music, che...  \n",
              "27875                   0  cost is not outrageous. easy setup, fun to use...  \n",
              "27876                   1  i knew about this from its crowd funding start...  \n",
              "27877                   0  this is a neat product but did not fit my need...  \n",
              "27878                   0  responses well and there are lots of skills to...  \n",
              "\n",
              "[26068 rows x 5 columns]"
            ]
          },
          "execution_count": 35,
          "metadata": {},
          "output_type": "execute_result"
        }
      ],
      "source": [
        "review"
      ]
    },
    {
      "cell_type": "markdown",
      "metadata": {
        "id": "LXy1yx7qyYSc"
      },
      "source": [
        "### Remove punctuations"
      ]
    },
    {
      "cell_type": "code",
      "execution_count": 36,
      "metadata": {
        "colab": {
          "base_uri": "https://localhost:8080/"
        },
        "execution": {
          "iopub.execute_input": "2024-02-12T13:49:40.399520Z",
          "iopub.status.busy": "2024-02-12T13:49:40.399038Z",
          "iopub.status.idle": "2024-02-12T13:49:40.618661Z",
          "shell.execute_reply": "2024-02-12T13:49:40.617474Z",
          "shell.execute_reply.started": "2024-02-12T13:49:40.399488Z"
        },
        "id": "cwiNFslpyYSc",
        "outputId": "11dc3d82-b28d-4e42-ec30-25232d80da73",
        "trusted": true
      },
      "outputs": [
        {
          "data": {
            "text/plain": [
              "0        this product so far has not disappointed  my c...\n",
              "1        great for beginner or experienced person  boug...\n",
              "2        inexpensive tablet for him to use and learn on...\n",
              "3        i have had my fire hd  two weeks now and i lov...\n",
              "4        i bought this for my grand daughter when she c...\n",
              "                               ...                        \n",
              "27874    it has many uses  you can listen to music  che...\n",
              "27875    cost is not outrageous  easy setup  fun to use...\n",
              "27876    i knew about this from its crowd funding start...\n",
              "27877    this is a neat product but did not fit my need...\n",
              "27878    responses well and there are lots of skills to...\n",
              "Name: cleaned, Length: 26068, dtype: object"
            ]
          },
          "execution_count": 36,
          "metadata": {},
          "output_type": "execute_result"
        }
      ],
      "source": [
        "review['cleaned']= review['cleaned'].apply(lambda x: re.sub('[{}]'.format(re.escape(string.punctuation)),' ', x));\n",
        "review['cleaned']"
      ]
    },
    {
      "cell_type": "code",
      "execution_count": 37,
      "metadata": {
        "colab": {
          "base_uri": "https://localhost:8080/"
        },
        "execution": {
          "iopub.execute_input": "2024-02-12T13:51:42.855621Z",
          "iopub.status.busy": "2024-02-12T13:51:42.855162Z",
          "iopub.status.idle": "2024-02-12T13:51:43.329663Z",
          "shell.execute_reply": "2024-02-12T13:51:43.328541Z",
          "shell.execute_reply.started": "2024-02-12T13:51:42.855548Z"
        },
        "id": "T3AiiSzMyYSc",
        "outputId": "ce8bc048-77ca-4ad4-b71e-1ec21f5a74e9",
        "trusted": true
      },
      "outputs": [
        {
          "data": {
            "text/plain": [
              "0        this product so far has not disappointed my ch...\n",
              "1        great for beginner or experienced person bough...\n",
              "2        inexpensive tablet for him to use and learn on...\n",
              "3        i have had my fire hd two weeks now and i love...\n",
              "4        i bought this for my grand daughter when she c...\n",
              "                               ...                        \n",
              "27874    it has many uses you can listen to music check...\n",
              "27875    cost is not outrageous easy setup fun to use a...\n",
              "27876    i knew about this from its crowd funding start...\n",
              "27877    this is a neat product but did not fit my need...\n",
              "27878    responses well and there are lots of skills to...\n",
              "Name: cleaned, Length: 26068, dtype: object"
            ]
          },
          "execution_count": 37,
          "metadata": {},
          "output_type": "execute_result"
        }
      ],
      "source": [
        "review['cleaned'] = review['cleaned'].apply(lambda x: re.sub('\\s+',' ', x));\n",
        "review['cleaned']"
      ]
    },
    {
      "cell_type": "code",
      "execution_count": 38,
      "metadata": {
        "colab": {
          "base_uri": "https://localhost:8080/"
        },
        "execution": {
          "iopub.execute_input": "2024-02-12T13:56:23.758213Z",
          "iopub.status.busy": "2024-02-12T13:56:23.756935Z",
          "iopub.status.idle": "2024-02-12T13:56:23.764569Z",
          "shell.execute_reply": "2024-02-12T13:56:23.763324Z",
          "shell.execute_reply.started": "2024-02-12T13:56:23.758172Z"
        },
        "id": "zqYdmUNPyYSc",
        "outputId": "2026af22-c129-46d7-ec23-2dcc1c8a8472",
        "trusted": true
      },
      "outputs": [
        {
          "name": "stdout",
          "output_type": "stream",
          "text": [
            " Review 1,\n",
            " i love everything about this tablet the imaging is sharp and clear it is fast and light weight love it \n",
            " Review 2,\n",
            " overall a nice product for traveling purposes value for money\n",
            " Review 3,\n",
            " my children love this table great quality of pictures excellent camera\n",
            " Review 4,\n",
            " i bought tablets and my family was not disappointed \n",
            " Review 5,\n",
            " great tablet fast screen good size never gives me problem\n",
            " Review 6,\n",
            " bought this for my year old grandmother who wanted to be able to play games and read books from the library my aunt lives with her and can help her use it so its perfect for that type of user after playing with it i would consider it for just about anyone other than a hardcore user that wants the latest and greatest tech if you are tech saavy you can do more with these fire tablets than advertised \n",
            " Review 7,\n",
            " this is exactly what the person wanted as a gift and she enjoys using it \n",
            " Review 8,\n",
            " does all basic functions of a tablet hardcore users may want an ipad \n",
            " Review 9,\n",
            " works great for a simple tablet not a huge fan of the silk browser but it could be worse i am very happy with my purchase \n",
            " Review 10,\n",
            " it is fast and easy to use this is my second kindle fire \n",
            " Review 11,\n",
            " more flexibility than a kindle and bigger screen like it because i can surf the web and download and read books \n"
          ]
        }
      ],
      "source": [
        "for index, text in enumerate(review['cleaned'][35:46]):\n",
        "    print(f\" Review {index+1},\\n {text}\")"
      ]
    },
    {
      "cell_type": "markdown",
      "metadata": {
        "id": "9eXPF-eXyYSc"
      },
      "source": [
        "## Performing Sentiment Analysis"
      ]
    },
    {
      "cell_type": "markdown",
      "metadata": {
        "id": "9mLwgtjuyYSc"
      },
      "source": [
        "### Import spacy"
      ]
    },
    {
      "cell_type": "code",
      "execution_count": null,
      "metadata": {
        "colab": {
          "base_uri": "https://localhost:8080/"
        },
        "execution": {
          "iopub.execute_input": "2024-02-12T14:02:55.890123Z",
          "iopub.status.busy": "2024-02-12T14:02:55.889693Z",
          "iopub.status.idle": "2024-02-12T14:02:57.371478Z",
          "shell.execute_reply": "2024-02-12T14:02:57.370216Z",
          "shell.execute_reply.started": "2024-02-12T14:02:55.890091Z"
        },
        "id": "Db6rFlcxyYSc",
        "outputId": "6d6acb87-b479-439f-eba1-9340ca52f223",
        "trusted": true
      },
      "outputs": [],
      "source": [
        "import spacy\n",
        "nlp = spacy.load('en_core_web_sm');\n",
        "nlp"
      ]
    },
    {
      "cell_type": "code",
      "execution_count": null,
      "metadata": {
        "colab": {
          "base_uri": "https://localhost:8080/"
        },
        "execution": {
          "iopub.execute_input": "2024-02-12T14:05:54.527095Z",
          "iopub.status.busy": "2024-02-12T14:05:54.526664Z",
          "iopub.status.idle": "2024-02-12T14:05:54.535600Z",
          "shell.execute_reply": "2024-02-12T14:05:54.534348Z",
          "shell.execute_reply.started": "2024-02-12T14:05:54.527064Z"
        },
        "id": "4E3V88q4yYSd",
        "outputId": "24227ad3-3d6d-4ab4-db86-dfc7462c5b56",
        "trusted": true
      },
      "outputs": [
        {
          "data": {
            "text/plain": [
              "[('tok2vec', <spacy.pipeline.tok2vec.Tok2Vec at 0x7c39ca88c100>),\n",
              " ('tagger', <spacy.pipeline.tagger.Tagger at 0x7c39c6c8bc40>),\n",
              " ('parser', <spacy.pipeline.dep_parser.DependencyParser at 0x7c39ca0d9380>),\n",
              " ('senter', <spacy.pipeline.senter.SentenceRecognizer at 0x7c3a6a6a4e20>),\n",
              " ('attribute_ruler',\n",
              "  <spacy.pipeline.attributeruler.AttributeRuler at 0x7c39c9491280>),\n",
              " ('lemmatizer',\n",
              "  <spacy.lang.en.lemmatizer.EnglishLemmatizer at 0x7c39c9481f40>),\n",
              " ('ner', <spacy.pipeline.ner.EntityRecognizer at 0x7c39ca0d92a0>)]"
            ]
          },
          "execution_count": 49,
          "metadata": {},
          "output_type": "execute_result"
        }
      ],
      "source": [
        "\n",
        "nlp.components"
      ]
    },
    {
      "cell_type": "markdown",
      "metadata": {
        "id": "VUStshWkyYSd"
      },
      "source": [
        "### Install and import additional spacy library for sentiment analysis"
      ]
    },
    {
      "cell_type": "code",
      "execution_count": null,
      "metadata": {
        "colab": {
          "base_uri": "https://localhost:8080/"
        },
        "execution": {
          "iopub.execute_input": "2024-02-12T14:32:40.941276Z",
          "iopub.status.busy": "2024-02-12T14:32:40.940693Z",
          "iopub.status.idle": "2024-02-12T14:34:48.824246Z",
          "shell.execute_reply": "2024-02-12T14:34:48.822351Z",
          "shell.execute_reply.started": "2024-02-12T14:32:40.941233Z"
        },
        "id": "KCI1iDAcyYSd",
        "outputId": "97e8e772-fc73-43c3-ba4e-0061925bdcf7",
        "trusted": true
      },
      "outputs": [
        {
          "name": "stdout",
          "output_type": "stream",
          "text": [
            "Requirement already satisfied: spacytextblob in /usr/local/lib/python3.10/dist-packages (4.0.0)\n",
            "Requirement already satisfied: spacy<4.0,>=3.0 in /usr/local/lib/python3.10/dist-packages (from spacytextblob) (3.7.3)\n",
            "Requirement already satisfied: textblob<0.16.0,>=0.15.3 in /usr/local/lib/python3.10/dist-packages (from spacytextblob) (0.15.3)\n",
            "Requirement already satisfied: spacy-legacy<3.1.0,>=3.0.11 in /usr/local/lib/python3.10/dist-packages (from spacy<4.0,>=3.0->spacytextblob) (3.0.12)\n",
            "Requirement already satisfied: spacy-loggers<2.0.0,>=1.0.0 in /usr/local/lib/python3.10/dist-packages (from spacy<4.0,>=3.0->spacytextblob) (1.0.5)\n",
            "Requirement already satisfied: murmurhash<1.1.0,>=0.28.0 in /usr/local/lib/python3.10/dist-packages (from spacy<4.0,>=3.0->spacytextblob) (1.0.10)\n",
            "Requirement already satisfied: cymem<2.1.0,>=2.0.2 in /usr/local/lib/python3.10/dist-packages (from spacy<4.0,>=3.0->spacytextblob) (2.0.8)\n",
            "Requirement already satisfied: preshed<3.1.0,>=3.0.2 in /usr/local/lib/python3.10/dist-packages (from spacy<4.0,>=3.0->spacytextblob) (3.0.9)\n",
            "Requirement already satisfied: thinc<8.3.0,>=8.2.2 in /usr/local/lib/python3.10/dist-packages (from spacy<4.0,>=3.0->spacytextblob) (8.2.3)\n",
            "Requirement already satisfied: wasabi<1.2.0,>=0.9.1 in /usr/local/lib/python3.10/dist-packages (from spacy<4.0,>=3.0->spacytextblob) (1.1.2)\n",
            "Requirement already satisfied: srsly<3.0.0,>=2.4.3 in /usr/local/lib/python3.10/dist-packages (from spacy<4.0,>=3.0->spacytextblob) (2.4.8)\n",
            "Requirement already satisfied: catalogue<2.1.0,>=2.0.6 in /usr/local/lib/python3.10/dist-packages (from spacy<4.0,>=3.0->spacytextblob) (2.0.10)\n",
            "Requirement already satisfied: weasel<0.4.0,>=0.1.0 in /usr/local/lib/python3.10/dist-packages (from spacy<4.0,>=3.0->spacytextblob) (0.3.4)\n",
            "Requirement already satisfied: typer<0.10.0,>=0.3.0 in /usr/local/lib/python3.10/dist-packages (from spacy<4.0,>=3.0->spacytextblob) (0.9.0)\n",
            "Requirement already satisfied: smart-open<7.0.0,>=5.2.1 in /usr/local/lib/python3.10/dist-packages (from spacy<4.0,>=3.0->spacytextblob) (6.4.0)\n",
            "Requirement already satisfied: tqdm<5.0.0,>=4.38.0 in /usr/local/lib/python3.10/dist-packages (from spacy<4.0,>=3.0->spacytextblob) (4.66.1)\n",
            "Requirement already satisfied: requests<3.0.0,>=2.13.0 in /usr/local/lib/python3.10/dist-packages (from spacy<4.0,>=3.0->spacytextblob) (2.31.0)\n",
            "Requirement already satisfied: pydantic!=1.8,!=1.8.1,<3.0.0,>=1.7.4 in /usr/local/lib/python3.10/dist-packages (from spacy<4.0,>=3.0->spacytextblob) (2.6.1)\n",
            "Requirement already satisfied: jinja2 in /usr/local/lib/python3.10/dist-packages (from spacy<4.0,>=3.0->spacytextblob) (3.1.3)\n",
            "Requirement already satisfied: setuptools in /usr/local/lib/python3.10/dist-packages (from spacy<4.0,>=3.0->spacytextblob) (67.7.2)\n",
            "Requirement already satisfied: packaging>=20.0 in /usr/local/lib/python3.10/dist-packages (from spacy<4.0,>=3.0->spacytextblob) (23.2)\n",
            "Requirement already satisfied: langcodes<4.0.0,>=3.2.0 in /usr/local/lib/python3.10/dist-packages (from spacy<4.0,>=3.0->spacytextblob) (3.3.0)\n",
            "Requirement already satisfied: numpy>=1.19.0 in /usr/local/lib/python3.10/dist-packages (from spacy<4.0,>=3.0->spacytextblob) (1.23.5)\n",
            "Requirement already satisfied: nltk>=3.1 in /usr/local/lib/python3.10/dist-packages (from textblob<0.16.0,>=0.15.3->spacytextblob) (3.8.1)\n",
            "Requirement already satisfied: click in /usr/local/lib/python3.10/dist-packages (from nltk>=3.1->textblob<0.16.0,>=0.15.3->spacytextblob) (8.1.7)\n",
            "Requirement already satisfied: joblib in /usr/local/lib/python3.10/dist-packages (from nltk>=3.1->textblob<0.16.0,>=0.15.3->spacytextblob) (1.3.2)\n",
            "Requirement already satisfied: regex>=2021.8.3 in /usr/local/lib/python3.10/dist-packages (from nltk>=3.1->textblob<0.16.0,>=0.15.3->spacytextblob) (2023.12.25)\n",
            "Requirement already satisfied: annotated-types>=0.4.0 in /usr/local/lib/python3.10/dist-packages (from pydantic!=1.8,!=1.8.1,<3.0.0,>=1.7.4->spacy<4.0,>=3.0->spacytextblob) (0.6.0)\n",
            "Requirement already satisfied: pydantic-core==2.16.2 in /usr/local/lib/python3.10/dist-packages (from pydantic!=1.8,!=1.8.1,<3.0.0,>=1.7.4->spacy<4.0,>=3.0->spacytextblob) (2.16.2)\n",
            "Requirement already satisfied: typing-extensions>=4.6.1 in /usr/local/lib/python3.10/dist-packages (from pydantic!=1.8,!=1.8.1,<3.0.0,>=1.7.4->spacy<4.0,>=3.0->spacytextblob) (4.9.0)\n",
            "Requirement already satisfied: charset-normalizer<4,>=2 in /usr/local/lib/python3.10/dist-packages (from requests<3.0.0,>=2.13.0->spacy<4.0,>=3.0->spacytextblob) (3.3.2)\n",
            "Requirement already satisfied: idna<4,>=2.5 in /usr/local/lib/python3.10/dist-packages (from requests<3.0.0,>=2.13.0->spacy<4.0,>=3.0->spacytextblob) (3.6)\n",
            "Requirement already satisfied: urllib3<3,>=1.21.1 in /usr/local/lib/python3.10/dist-packages (from requests<3.0.0,>=2.13.0->spacy<4.0,>=3.0->spacytextblob) (2.0.7)\n",
            "Requirement already satisfied: certifi>=2017.4.17 in /usr/local/lib/python3.10/dist-packages (from requests<3.0.0,>=2.13.0->spacy<4.0,>=3.0->spacytextblob) (2024.2.2)\n",
            "Requirement already satisfied: blis<0.8.0,>=0.7.8 in /usr/local/lib/python3.10/dist-packages (from thinc<8.3.0,>=8.2.2->spacy<4.0,>=3.0->spacytextblob) (0.7.11)\n",
            "Requirement already satisfied: confection<1.0.0,>=0.0.1 in /usr/local/lib/python3.10/dist-packages (from thinc<8.3.0,>=8.2.2->spacy<4.0,>=3.0->spacytextblob) (0.1.4)\n",
            "Requirement already satisfied: cloudpathlib<0.17.0,>=0.7.0 in /usr/local/lib/python3.10/dist-packages (from weasel<0.4.0,>=0.1.0->spacy<4.0,>=3.0->spacytextblob) (0.16.0)\n",
            "Requirement already satisfied: MarkupSafe>=2.0 in /usr/local/lib/python3.10/dist-packages (from jinja2->spacy<4.0,>=3.0->spacytextblob) (2.1.5)\n"
          ]
        }
      ],
      "source": [
        "pip install spacytextblob"
      ]
    },
    {
      "cell_type": "code",
      "execution_count": null,
      "metadata": {
        "execution": {
          "iopub.execute_input": "2024-02-12T14:34:48.827907Z",
          "iopub.status.busy": "2024-02-12T14:34:48.827331Z",
          "iopub.status.idle": "2024-02-12T14:34:50.430633Z",
          "shell.execute_reply": "2024-02-12T14:34:50.429308Z",
          "shell.execute_reply.started": "2024-02-12T14:34:48.827855Z"
        },
        "id": "ma1_GSD9yYSd",
        "trusted": true
      },
      "outputs": [],
      "source": [
        "#from textblob import TextBlob\n",
        "from spacytextblob.spacytextblob import SpacyTextBlob\n"
      ]
    },
    {
      "cell_type": "markdown",
      "metadata": {
        "id": "TMXzR--l5iaN"
      },
      "source": [
        "### Add to the already existing spacy pipeline and view the components"
      ]
    },
    {
      "cell_type": "code",
      "execution_count": null,
      "metadata": {
        "colab": {
          "base_uri": "https://localhost:8080/"
        },
        "id": "HpDDXhpX5nkH",
        "outputId": "fddd744a-c97d-44bd-e934-32083f262b64"
      },
      "outputs": [
        {
          "data": {
            "text/plain": [
              "<spacytextblob.spacytextblob.SpacyTextBlob at 0x7c39c85d80d0>"
            ]
          },
          "execution_count": 52,
          "metadata": {},
          "output_type": "execute_result"
        }
      ],
      "source": [
        "nlp.add_pipe('spacytextblob')"
      ]
    },
    {
      "cell_type": "code",
      "execution_count": null,
      "metadata": {
        "colab": {
          "base_uri": "https://localhost:8080/"
        },
        "id": "9zZTkM416DXl",
        "outputId": "a67960f6-f757-4752-de61-83707591af7b"
      },
      "outputs": [
        {
          "data": {
            "text/plain": [
              "[('tok2vec', <spacy.pipeline.tok2vec.Tok2Vec at 0x7c39ca88c100>),\n",
              " ('tagger', <spacy.pipeline.tagger.Tagger at 0x7c39c6c8bc40>),\n",
              " ('parser', <spacy.pipeline.dep_parser.DependencyParser at 0x7c39ca0d9380>),\n",
              " ('senter', <spacy.pipeline.senter.SentenceRecognizer at 0x7c3a6a6a4e20>),\n",
              " ('attribute_ruler',\n",
              "  <spacy.pipeline.attributeruler.AttributeRuler at 0x7c39c9491280>),\n",
              " ('lemmatizer',\n",
              "  <spacy.lang.en.lemmatizer.EnglishLemmatizer at 0x7c39c9481f40>),\n",
              " ('ner', <spacy.pipeline.ner.EntityRecognizer at 0x7c39ca0d92a0>),\n",
              " ('spacytextblob',\n",
              "  <spacytextblob.spacytextblob.SpacyTextBlob at 0x7c39c85d80d0>)]"
            ]
          },
          "execution_count": 54,
          "metadata": {},
          "output_type": "execute_result"
        }
      ],
      "source": [
        "nlp.components"
      ]
    },
    {
      "cell_type": "markdown",
      "metadata": {
        "id": "KUFeVpJUyYSd"
      },
      "source": [
        "### Get an Example instant and find the sentiment"
      ]
    },
    {
      "cell_type": "code",
      "execution_count": null,
      "metadata": {
        "execution": {
          "iopub.execute_input": "2024-02-12T14:41:37.581277Z",
          "iopub.status.busy": "2024-02-12T14:41:37.580723Z",
          "iopub.status.idle": "2024-02-12T14:41:37.592989Z",
          "shell.execute_reply": "2024-02-12T14:41:37.590810Z",
          "shell.execute_reply.started": "2024-02-12T14:41:37.581224Z"
        },
        "id": "IcyJlvvkyYSd",
        "trusted": true
      },
      "outputs": [],
      "source": [
        "text = \"i love everything about this tablet the imaging is sharp and clear it is fast and light weight love it\";"
      ]
    },
    {
      "cell_type": "code",
      "execution_count": null,
      "metadata": {
        "colab": {
          "base_uri": "https://localhost:8080/"
        },
        "id": "oL90f5ks6f6G",
        "outputId": "20456fb7-f4a2-4ee7-8a98-abbce21a257d"
      },
      "outputs": [
        {
          "data": {
            "text/plain": [
              "0.2625"
            ]
          },
          "execution_count": 63,
          "metadata": {},
          "output_type": "execute_result"
        }
      ],
      "source": [
        "docx = nlp(text)\n",
        "docx._.blob.polarity"
      ]
    },
    {
      "cell_type": "markdown",
      "metadata": {
        "id": "5oK41s388lhx"
      },
      "source": [
        "### So the above, with 0.2625, has positive sentiment."
      ]
    },
    {
      "cell_type": "code",
      "execution_count": null,
      "metadata": {
        "colab": {
          "base_uri": "https://localhost:8080/"
        },
        "id": "g1qQp7Md7ByK",
        "outputId": "43903cc1-480b-463a-eca4-b4b393c53342"
      },
      "outputs": [
        {
          "name": "stdout",
          "output_type": "stream",
          "text": [
            "Polarity:0.2625, Subjectivity:0.6055555555555555\n"
          ]
        }
      ],
      "source": [
        "print(f\"Polarity:{docx._.polarity}, Subjectivity:{docx._.subjectivity}\")"
      ]
    },
    {
      "cell_type": "code",
      "execution_count": null,
      "metadata": {
        "id": "-G6jvnxd7iUw"
      },
      "outputs": [],
      "source": [
        "docx._.blob.sentiment_assessments.assessments?"
      ]
    },
    {
      "cell_type": "markdown",
      "metadata": {
        "id": "fss5ekiC8DD0"
      },
      "source": [
        "#### get the n-grams"
      ]
    },
    {
      "cell_type": "code",
      "execution_count": null,
      "metadata": {
        "colab": {
          "base_uri": "https://localhost:8080/"
        },
        "id": "oAlIwUe89J2J",
        "outputId": "883d47ae-42f5-4eb2-95db-e5a326ec2b24"
      },
      "outputs": [
        {
          "name": "stderr",
          "output_type": "stream",
          "text": [
            "[nltk_data] Downloading package punkt to /root/nltk_data...\n",
            "[nltk_data]   Unzipping tokenizers/punkt.zip.\n"
          ]
        },
        {
          "data": {
            "text/plain": [
              "True"
            ]
          },
          "execution_count": 67,
          "metadata": {},
          "output_type": "execute_result"
        }
      ],
      "source": [
        "import nltk\n",
        "nltk.download('punkt')"
      ]
    },
    {
      "cell_type": "code",
      "execution_count": null,
      "metadata": {
        "colab": {
          "base_uri": "https://localhost:8080/"
        },
        "id": "D2HIv4JR8IlR",
        "outputId": "8c83de1e-56aa-4d38-8fb7-c454a6a9ae79"
      },
      "outputs": [
        {
          "data": {
            "text/plain": [
              "[WordList(['i', 'love', 'everything']),\n",
              " WordList(['love', 'everything', 'about']),\n",
              " WordList(['everything', 'about', 'this']),\n",
              " WordList(['about', 'this', 'tablet']),\n",
              " WordList(['this', 'tablet', 'the']),\n",
              " WordList(['tablet', 'the', 'imaging']),\n",
              " WordList(['the', 'imaging', 'is']),\n",
              " WordList(['imaging', 'is', 'sharp']),\n",
              " WordList(['is', 'sharp', 'and']),\n",
              " WordList(['sharp', 'and', 'clear']),\n",
              " WordList(['and', 'clear', 'it']),\n",
              " WordList(['clear', 'it', 'is']),\n",
              " WordList(['it', 'is', 'fast']),\n",
              " WordList(['is', 'fast', 'and']),\n",
              " WordList(['fast', 'and', 'light']),\n",
              " WordList(['and', 'light', 'weight']),\n",
              " WordList(['light', 'weight', 'love']),\n",
              " WordList(['weight', 'love', 'it'])]"
            ]
          },
          "execution_count": 68,
          "metadata": {},
          "output_type": "execute_result"
        }
      ],
      "source": [
        "docx._.blob.ngrams()"
      ]
    },
    {
      "cell_type": "markdown",
      "metadata": {
        "id": "HcCKiNN-yYSd"
      },
      "source": [
        "#### Select only the these fields from the cleaned datasets"
      ]
    },
    {
      "cell_type": "code",
      "execution_count": null,
      "metadata": {
        "id": "dlz93XN39mm5"
      },
      "outputs": [],
      "source": [
        "cleaned_review = review[['name','cleaned']]\n"
      ]
    },
    {
      "cell_type": "code",
      "execution_count": null,
      "metadata": {
        "colab": {
          "base_uri": "https://localhost:8080/",
          "height": 597
        },
        "execution": {
          "iopub.execute_input": "2024-02-12T13:58:58.744000Z",
          "iopub.status.busy": "2024-02-12T13:58:58.743444Z",
          "iopub.status.idle": "2024-02-12T13:58:58.761037Z",
          "shell.execute_reply": "2024-02-12T13:58:58.759933Z",
          "shell.execute_reply.started": "2024-02-12T13:58:58.743951Z"
        },
        "id": "DPR7CKBDyYSd",
        "outputId": "9e3fb9c4-819c-4f8e-e1b4-797c74c5bb7a",
        "trusted": true
      },
      "outputs": [
        {
          "data": {
            "text/html": [
              "\n",
              "  <div id=\"df-0ec9c868-f497-4b69-ac41-ddfcced350c7\" class=\"colab-df-container\">\n",
              "    <div>\n",
              "<style scoped>\n",
              "    .dataframe tbody tr th:only-of-type {\n",
              "        vertical-align: middle;\n",
              "    }\n",
              "\n",
              "    .dataframe tbody tr th {\n",
              "        vertical-align: top;\n",
              "    }\n",
              "\n",
              "    .dataframe thead th {\n",
              "        text-align: right;\n",
              "    }\n",
              "</style>\n",
              "<table border=\"1\" class=\"dataframe\">\n",
              "  <thead>\n",
              "    <tr style=\"text-align: right;\">\n",
              "      <th></th>\n",
              "      <th>name</th>\n",
              "      <th>cleaned</th>\n",
              "    </tr>\n",
              "  </thead>\n",
              "  <tbody>\n",
              "    <tr>\n",
              "      <th>0</th>\n",
              "      <td>All-New Fire HD 8 Tablet, 8 HD Display, Wi-Fi,...</td>\n",
              "      <td>this product so far has not disappointed my ch...</td>\n",
              "    </tr>\n",
              "    <tr>\n",
              "      <th>1</th>\n",
              "      <td>All-New Fire HD 8 Tablet, 8 HD Display, Wi-Fi,...</td>\n",
              "      <td>great for beginner or experienced person bough...</td>\n",
              "    </tr>\n",
              "    <tr>\n",
              "      <th>2</th>\n",
              "      <td>All-New Fire HD 8 Tablet, 8 HD Display, Wi-Fi,...</td>\n",
              "      <td>inexpensive tablet for him to use and learn on...</td>\n",
              "    </tr>\n",
              "    <tr>\n",
              "      <th>3</th>\n",
              "      <td>All-New Fire HD 8 Tablet, 8 HD Display, Wi-Fi,...</td>\n",
              "      <td>i have had my fire hd two weeks now and i love...</td>\n",
              "    </tr>\n",
              "    <tr>\n",
              "      <th>4</th>\n",
              "      <td>All-New Fire HD 8 Tablet, 8 HD Display, Wi-Fi,...</td>\n",
              "      <td>i bought this for my grand daughter when she c...</td>\n",
              "    </tr>\n",
              "    <tr>\n",
              "      <th>...</th>\n",
              "      <td>...</td>\n",
              "      <td>...</td>\n",
              "    </tr>\n",
              "    <tr>\n",
              "      <th>27874</th>\n",
              "      <td>Amazon Fire Tv</td>\n",
              "      <td>it has many uses you can listen to music check...</td>\n",
              "    </tr>\n",
              "    <tr>\n",
              "      <th>27875</th>\n",
              "      <td>Amazon Fire Tv</td>\n",
              "      <td>cost is not outrageous easy setup fun to use a...</td>\n",
              "    </tr>\n",
              "    <tr>\n",
              "      <th>27876</th>\n",
              "      <td>Amazon Fire Tv</td>\n",
              "      <td>i knew about this from its crowd funding start...</td>\n",
              "    </tr>\n",
              "    <tr>\n",
              "      <th>27877</th>\n",
              "      <td>Amazon Fire Tv</td>\n",
              "      <td>this is a neat product but did not fit my need...</td>\n",
              "    </tr>\n",
              "    <tr>\n",
              "      <th>27878</th>\n",
              "      <td>Amazon Fire Tv</td>\n",
              "      <td>responses well and there are lots of skills to...</td>\n",
              "    </tr>\n",
              "  </tbody>\n",
              "</table>\n",
              "<p>26068 rows × 2 columns</p>\n",
              "</div>\n",
              "    <div class=\"colab-df-buttons\">\n",
              "\n",
              "  <div class=\"colab-df-container\">\n",
              "    <button class=\"colab-df-convert\" onclick=\"convertToInteractive('df-0ec9c868-f497-4b69-ac41-ddfcced350c7')\"\n",
              "            title=\"Convert this dataframe to an interactive table.\"\n",
              "            style=\"display:none;\">\n",
              "\n",
              "  <svg xmlns=\"http://www.w3.org/2000/svg\" height=\"24px\" viewBox=\"0 -960 960 960\">\n",
              "    <path d=\"M120-120v-720h720v720H120Zm60-500h600v-160H180v160Zm220 220h160v-160H400v160Zm0 220h160v-160H400v160ZM180-400h160v-160H180v160Zm440 0h160v-160H620v160ZM180-180h160v-160H180v160Zm440 0h160v-160H620v160Z\"/>\n",
              "  </svg>\n",
              "    </button>\n",
              "\n",
              "  <style>\n",
              "    .colab-df-container {\n",
              "      display:flex;\n",
              "      gap: 12px;\n",
              "    }\n",
              "\n",
              "    .colab-df-convert {\n",
              "      background-color: #E8F0FE;\n",
              "      border: none;\n",
              "      border-radius: 50%;\n",
              "      cursor: pointer;\n",
              "      display: none;\n",
              "      fill: #1967D2;\n",
              "      height: 32px;\n",
              "      padding: 0 0 0 0;\n",
              "      width: 32px;\n",
              "    }\n",
              "\n",
              "    .colab-df-convert:hover {\n",
              "      background-color: #E2EBFA;\n",
              "      box-shadow: 0px 1px 2px rgba(60, 64, 67, 0.3), 0px 1px 3px 1px rgba(60, 64, 67, 0.15);\n",
              "      fill: #174EA6;\n",
              "    }\n",
              "\n",
              "    .colab-df-buttons div {\n",
              "      margin-bottom: 4px;\n",
              "    }\n",
              "\n",
              "    [theme=dark] .colab-df-convert {\n",
              "      background-color: #3B4455;\n",
              "      fill: #D2E3FC;\n",
              "    }\n",
              "\n",
              "    [theme=dark] .colab-df-convert:hover {\n",
              "      background-color: #434B5C;\n",
              "      box-shadow: 0px 1px 3px 1px rgba(0, 0, 0, 0.15);\n",
              "      filter: drop-shadow(0px 1px 2px rgba(0, 0, 0, 0.3));\n",
              "      fill: #FFFFFF;\n",
              "    }\n",
              "  </style>\n",
              "\n",
              "    <script>\n",
              "      const buttonEl =\n",
              "        document.querySelector('#df-0ec9c868-f497-4b69-ac41-ddfcced350c7 button.colab-df-convert');\n",
              "      buttonEl.style.display =\n",
              "        google.colab.kernel.accessAllowed ? 'block' : 'none';\n",
              "\n",
              "      async function convertToInteractive(key) {\n",
              "        const element = document.querySelector('#df-0ec9c868-f497-4b69-ac41-ddfcced350c7');\n",
              "        const dataTable =\n",
              "          await google.colab.kernel.invokeFunction('convertToInteractive',\n",
              "                                                    [key], {});\n",
              "        if (!dataTable) return;\n",
              "\n",
              "        const docLinkHtml = 'Like what you see? Visit the ' +\n",
              "          '<a target=\"_blank\" href=https://colab.research.google.com/notebooks/data_table.ipynb>data table notebook</a>'\n",
              "          + ' to learn more about interactive tables.';\n",
              "        element.innerHTML = '';\n",
              "        dataTable['output_type'] = 'display_data';\n",
              "        await google.colab.output.renderOutput(dataTable, element);\n",
              "        const docLink = document.createElement('div');\n",
              "        docLink.innerHTML = docLinkHtml;\n",
              "        element.appendChild(docLink);\n",
              "      }\n",
              "    </script>\n",
              "  </div>\n",
              "\n",
              "\n",
              "<div id=\"df-5d4da20c-e96a-4445-8e7d-639ba6d26aae\">\n",
              "  <button class=\"colab-df-quickchart\" onclick=\"quickchart('df-5d4da20c-e96a-4445-8e7d-639ba6d26aae')\"\n",
              "            title=\"Suggest charts\"\n",
              "            style=\"display:none;\">\n",
              "\n",
              "<svg xmlns=\"http://www.w3.org/2000/svg\" height=\"24px\"viewBox=\"0 0 24 24\"\n",
              "     width=\"24px\">\n",
              "    <g>\n",
              "        <path d=\"M19 3H5c-1.1 0-2 .9-2 2v14c0 1.1.9 2 2 2h14c1.1 0 2-.9 2-2V5c0-1.1-.9-2-2-2zM9 17H7v-7h2v7zm4 0h-2V7h2v10zm4 0h-2v-4h2v4z\"/>\n",
              "    </g>\n",
              "</svg>\n",
              "  </button>\n",
              "\n",
              "<style>\n",
              "  .colab-df-quickchart {\n",
              "      --bg-color: #E8F0FE;\n",
              "      --fill-color: #1967D2;\n",
              "      --hover-bg-color: #E2EBFA;\n",
              "      --hover-fill-color: #174EA6;\n",
              "      --disabled-fill-color: #AAA;\n",
              "      --disabled-bg-color: #DDD;\n",
              "  }\n",
              "\n",
              "  [theme=dark] .colab-df-quickchart {\n",
              "      --bg-color: #3B4455;\n",
              "      --fill-color: #D2E3FC;\n",
              "      --hover-bg-color: #434B5C;\n",
              "      --hover-fill-color: #FFFFFF;\n",
              "      --disabled-bg-color: #3B4455;\n",
              "      --disabled-fill-color: #666;\n",
              "  }\n",
              "\n",
              "  .colab-df-quickchart {\n",
              "    background-color: var(--bg-color);\n",
              "    border: none;\n",
              "    border-radius: 50%;\n",
              "    cursor: pointer;\n",
              "    display: none;\n",
              "    fill: var(--fill-color);\n",
              "    height: 32px;\n",
              "    padding: 0;\n",
              "    width: 32px;\n",
              "  }\n",
              "\n",
              "  .colab-df-quickchart:hover {\n",
              "    background-color: var(--hover-bg-color);\n",
              "    box-shadow: 0 1px 2px rgba(60, 64, 67, 0.3), 0 1px 3px 1px rgba(60, 64, 67, 0.15);\n",
              "    fill: var(--button-hover-fill-color);\n",
              "  }\n",
              "\n",
              "  .colab-df-quickchart-complete:disabled,\n",
              "  .colab-df-quickchart-complete:disabled:hover {\n",
              "    background-color: var(--disabled-bg-color);\n",
              "    fill: var(--disabled-fill-color);\n",
              "    box-shadow: none;\n",
              "  }\n",
              "\n",
              "  .colab-df-spinner {\n",
              "    border: 2px solid var(--fill-color);\n",
              "    border-color: transparent;\n",
              "    border-bottom-color: var(--fill-color);\n",
              "    animation:\n",
              "      spin 1s steps(1) infinite;\n",
              "  }\n",
              "\n",
              "  @keyframes spin {\n",
              "    0% {\n",
              "      border-color: transparent;\n",
              "      border-bottom-color: var(--fill-color);\n",
              "      border-left-color: var(--fill-color);\n",
              "    }\n",
              "    20% {\n",
              "      border-color: transparent;\n",
              "      border-left-color: var(--fill-color);\n",
              "      border-top-color: var(--fill-color);\n",
              "    }\n",
              "    30% {\n",
              "      border-color: transparent;\n",
              "      border-left-color: var(--fill-color);\n",
              "      border-top-color: var(--fill-color);\n",
              "      border-right-color: var(--fill-color);\n",
              "    }\n",
              "    40% {\n",
              "      border-color: transparent;\n",
              "      border-right-color: var(--fill-color);\n",
              "      border-top-color: var(--fill-color);\n",
              "    }\n",
              "    60% {\n",
              "      border-color: transparent;\n",
              "      border-right-color: var(--fill-color);\n",
              "    }\n",
              "    80% {\n",
              "      border-color: transparent;\n",
              "      border-right-color: var(--fill-color);\n",
              "      border-bottom-color: var(--fill-color);\n",
              "    }\n",
              "    90% {\n",
              "      border-color: transparent;\n",
              "      border-bottom-color: var(--fill-color);\n",
              "    }\n",
              "  }\n",
              "</style>\n",
              "\n",
              "  <script>\n",
              "    async function quickchart(key) {\n",
              "      const quickchartButtonEl =\n",
              "        document.querySelector('#' + key + ' button');\n",
              "      quickchartButtonEl.disabled = true;  // To prevent multiple clicks.\n",
              "      quickchartButtonEl.classList.add('colab-df-spinner');\n",
              "      try {\n",
              "        const charts = await google.colab.kernel.invokeFunction(\n",
              "            'suggestCharts', [key], {});\n",
              "      } catch (error) {\n",
              "        console.error('Error during call to suggestCharts:', error);\n",
              "      }\n",
              "      quickchartButtonEl.classList.remove('colab-df-spinner');\n",
              "      quickchartButtonEl.classList.add('colab-df-quickchart-complete');\n",
              "    }\n",
              "    (() => {\n",
              "      let quickchartButtonEl =\n",
              "        document.querySelector('#df-5d4da20c-e96a-4445-8e7d-639ba6d26aae button');\n",
              "      quickchartButtonEl.style.display =\n",
              "        google.colab.kernel.accessAllowed ? 'block' : 'none';\n",
              "    })();\n",
              "  </script>\n",
              "</div>\n",
              "\n",
              "  <div id=\"id_d413a54d-231e-4304-a20c-82d9ba0417cb\">\n",
              "    <style>\n",
              "      .colab-df-generate {\n",
              "        background-color: #E8F0FE;\n",
              "        border: none;\n",
              "        border-radius: 50%;\n",
              "        cursor: pointer;\n",
              "        display: none;\n",
              "        fill: #1967D2;\n",
              "        height: 32px;\n",
              "        padding: 0 0 0 0;\n",
              "        width: 32px;\n",
              "      }\n",
              "\n",
              "      .colab-df-generate:hover {\n",
              "        background-color: #E2EBFA;\n",
              "        box-shadow: 0px 1px 2px rgba(60, 64, 67, 0.3), 0px 1px 3px 1px rgba(60, 64, 67, 0.15);\n",
              "        fill: #174EA6;\n",
              "      }\n",
              "\n",
              "      [theme=dark] .colab-df-generate {\n",
              "        background-color: #3B4455;\n",
              "        fill: #D2E3FC;\n",
              "      }\n",
              "\n",
              "      [theme=dark] .colab-df-generate:hover {\n",
              "        background-color: #434B5C;\n",
              "        box-shadow: 0px 1px 3px 1px rgba(0, 0, 0, 0.15);\n",
              "        filter: drop-shadow(0px 1px 2px rgba(0, 0, 0, 0.3));\n",
              "        fill: #FFFFFF;\n",
              "      }\n",
              "    </style>\n",
              "    <button class=\"colab-df-generate\" onclick=\"generateWithVariable('cleaned_review')\"\n",
              "            title=\"Generate code using this dataframe.\"\n",
              "            style=\"display:none;\">\n",
              "\n",
              "  <svg xmlns=\"http://www.w3.org/2000/svg\" height=\"24px\"viewBox=\"0 0 24 24\"\n",
              "       width=\"24px\">\n",
              "    <path d=\"M7,19H8.4L18.45,9,17,7.55,7,17.6ZM5,21V16.75L18.45,3.32a2,2,0,0,1,2.83,0l1.4,1.43a1.91,1.91,0,0,1,.58,1.4,1.91,1.91,0,0,1-.58,1.4L9.25,21ZM18.45,9,17,7.55Zm-12,3A5.31,5.31,0,0,0,4.9,8.1,5.31,5.31,0,0,0,1,6.5,5.31,5.31,0,0,0,4.9,4.9,5.31,5.31,0,0,0,6.5,1,5.31,5.31,0,0,0,8.1,4.9,5.31,5.31,0,0,0,12,6.5,5.46,5.46,0,0,0,6.5,12Z\"/>\n",
              "  </svg>\n",
              "    </button>\n",
              "    <script>\n",
              "      (() => {\n",
              "      const buttonEl =\n",
              "        document.querySelector('#id_d413a54d-231e-4304-a20c-82d9ba0417cb button.colab-df-generate');\n",
              "      buttonEl.style.display =\n",
              "        google.colab.kernel.accessAllowed ? 'block' : 'none';\n",
              "\n",
              "      buttonEl.onclick = () => {\n",
              "        google.colab.notebook.generateWithVariable('cleaned_review');\n",
              "      }\n",
              "      })();\n",
              "    </script>\n",
              "  </div>\n",
              "\n",
              "    </div>\n",
              "  </div>\n"
            ],
            "text/plain": [
              "                                                    name  \\\n",
              "0      All-New Fire HD 8 Tablet, 8 HD Display, Wi-Fi,...   \n",
              "1      All-New Fire HD 8 Tablet, 8 HD Display, Wi-Fi,...   \n",
              "2      All-New Fire HD 8 Tablet, 8 HD Display, Wi-Fi,...   \n",
              "3      All-New Fire HD 8 Tablet, 8 HD Display, Wi-Fi,...   \n",
              "4      All-New Fire HD 8 Tablet, 8 HD Display, Wi-Fi,...   \n",
              "...                                                  ...   \n",
              "27874                                     Amazon Fire Tv   \n",
              "27875                                     Amazon Fire Tv   \n",
              "27876                                     Amazon Fire Tv   \n",
              "27877                                     Amazon Fire Tv   \n",
              "27878                                     Amazon Fire Tv   \n",
              "\n",
              "                                                 cleaned  \n",
              "0      this product so far has not disappointed my ch...  \n",
              "1      great for beginner or experienced person bough...  \n",
              "2      inexpensive tablet for him to use and learn on...  \n",
              "3      i have had my fire hd two weeks now and i love...  \n",
              "4      i bought this for my grand daughter when she c...  \n",
              "...                                                  ...  \n",
              "27874  it has many uses you can listen to music check...  \n",
              "27875  cost is not outrageous easy setup fun to use a...  \n",
              "27876  i knew about this from its crowd funding start...  \n",
              "27877  this is a neat product but did not fit my need...  \n",
              "27878  responses well and there are lots of skills to...  \n",
              "\n",
              "[26068 rows x 2 columns]"
            ]
          },
          "execution_count": 72,
          "metadata": {},
          "output_type": "execute_result"
        }
      ],
      "source": [
        "cleaned_review"
      ]
    },
    {
      "cell_type": "markdown",
      "metadata": {
        "id": "rZtDv6uh9666"
      },
      "source": [
        "### Calculate and add ploarity and subjectivity scores for each review"
      ]
    },
    {
      "cell_type": "code",
      "execution_count": null,
      "metadata": {
        "colab": {
          "base_uri": "https://localhost:8080/"
        },
        "id": "0mrUAywa-BlJ",
        "outputId": "38f25a97-f5e5-410f-9473-6608a2727369"
      },
      "outputs": [
        {
          "name": "stderr",
          "output_type": "stream",
          "text": [
            "<ipython-input-77-9681314fcede>:1: SettingWithCopyWarning: \n",
            "A value is trying to be set on a copy of a slice from a DataFrame.\n",
            "Try using .loc[row_indexer,col_indexer] = value instead\n",
            "\n",
            "See the caveats in the documentation: https://pandas.pydata.org/pandas-docs/stable/user_guide/indexing.html#returning-a-view-versus-a-copy\n",
            "  cleaned_review['Polarity']= cleaned_review['cleaned'].apply(lambda text: nlp(text)._.blob.polarity)\n"
          ]
        }
      ],
      "source": [
        "cleaned_review['Polarity']= cleaned_review['cleaned'].apply(lambda text: nlp(text)._.blob.polarity)"
      ]
    },
    {
      "cell_type": "code",
      "execution_count": null,
      "metadata": {
        "colab": {
          "base_uri": "https://localhost:8080/"
        },
        "execution": {
          "iopub.execute_input": "2024-02-12T14:00:53.328929Z",
          "iopub.status.busy": "2024-02-12T14:00:53.328332Z",
          "iopub.status.idle": "2024-02-12T14:00:53.344269Z",
          "shell.execute_reply": "2024-02-12T14:00:53.342632Z",
          "shell.execute_reply.started": "2024-02-12T14:00:53.328889Z"
        },
        "id": "Z9dz_67TyYSe",
        "outputId": "0d50a3f9-ea0f-49aa-bee8-362208adfbc4",
        "trusted": true
      },
      "outputs": [
        {
          "name": "stderr",
          "output_type": "stream",
          "text": [
            "<ipython-input-75-fcb1e3f22c6b>:1: SettingWithCopyWarning: \n",
            "A value is trying to be set on a copy of a slice from a DataFrame.\n",
            "Try using .loc[row_indexer,col_indexer] = value instead\n",
            "\n",
            "See the caveats in the documentation: https://pandas.pydata.org/pandas-docs/stable/user_guide/indexing.html#returning-a-view-versus-a-copy\n",
            "  cleaned_review['Subjectivity']= cleaned_review['cleaned'].apply(lambda x: nlp(x)._.blob.subjectivity)\n"
          ]
        }
      ],
      "source": [
        "cleaned_review['Subjectivity']= cleaned_review['cleaned'].apply(lambda x: nlp(x)._.blob.subjectivity)"
      ]
    },
    {
      "cell_type": "code",
      "execution_count": null,
      "metadata": {
        "colab": {
          "base_uri": "https://localhost:8080/",
          "height": 684
        },
        "id": "owkTC5ct_ISS",
        "outputId": "67a8c5a6-0b83-4aed-e91b-85d86c232906"
      },
      "outputs": [
        {
          "data": {
            "text/html": [
              "\n",
              "  <div id=\"df-30eb2b23-f68a-4711-8805-2fd45be234aa\" class=\"colab-df-container\">\n",
              "    <div>\n",
              "<style scoped>\n",
              "    .dataframe tbody tr th:only-of-type {\n",
              "        vertical-align: middle;\n",
              "    }\n",
              "\n",
              "    .dataframe tbody tr th {\n",
              "        vertical-align: top;\n",
              "    }\n",
              "\n",
              "    .dataframe thead th {\n",
              "        text-align: right;\n",
              "    }\n",
              "</style>\n",
              "<table border=\"1\" class=\"dataframe\">\n",
              "  <thead>\n",
              "    <tr style=\"text-align: right;\">\n",
              "      <th></th>\n",
              "      <th>name</th>\n",
              "      <th>cleaned</th>\n",
              "      <th>Polarity</th>\n",
              "      <th>Subjectivity</th>\n",
              "    </tr>\n",
              "  </thead>\n",
              "  <tbody>\n",
              "    <tr>\n",
              "      <th>0</th>\n",
              "      <td>All-New Fire HD 8 Tablet, 8 HD Display, Wi-Fi,...</td>\n",
              "      <td>this product so far has not disappointed my ch...</td>\n",
              "      <td>0.325000</td>\n",
              "      <td>0.783333</td>\n",
              "    </tr>\n",
              "    <tr>\n",
              "      <th>1</th>\n",
              "      <td>All-New Fire HD 8 Tablet, 8 HD Display, Wi-Fi,...</td>\n",
              "      <td>great for beginner or experienced person bough...</td>\n",
              "      <td>0.800000</td>\n",
              "      <td>0.825000</td>\n",
              "    </tr>\n",
              "    <tr>\n",
              "      <th>2</th>\n",
              "      <td>All-New Fire HD 8 Tablet, 8 HD Display, Wi-Fi,...</td>\n",
              "      <td>inexpensive tablet for him to use and learn on...</td>\n",
              "      <td>0.600000</td>\n",
              "      <td>0.700000</td>\n",
              "    </tr>\n",
              "    <tr>\n",
              "      <th>3</th>\n",
              "      <td>All-New Fire HD 8 Tablet, 8 HD Display, Wi-Fi,...</td>\n",
              "      <td>i have had my fire hd two weeks now and i love...</td>\n",
              "      <td>0.374583</td>\n",
              "      <td>0.731250</td>\n",
              "    </tr>\n",
              "    <tr>\n",
              "      <th>4</th>\n",
              "      <td>All-New Fire HD 8 Tablet, 8 HD Display, Wi-Fi,...</td>\n",
              "      <td>i bought this for my grand daughter when she c...</td>\n",
              "      <td>0.368056</td>\n",
              "      <td>0.616226</td>\n",
              "    </tr>\n",
              "    <tr>\n",
              "      <th>...</th>\n",
              "      <td>...</td>\n",
              "      <td>...</td>\n",
              "      <td>...</td>\n",
              "      <td>...</td>\n",
              "    </tr>\n",
              "    <tr>\n",
              "      <th>27874</th>\n",
              "      <td>Amazon Fire Tv</td>\n",
              "      <td>it has many uses you can listen to music check...</td>\n",
              "      <td>0.500000</td>\n",
              "      <td>0.500000</td>\n",
              "    </tr>\n",
              "    <tr>\n",
              "      <th>27875</th>\n",
              "      <td>Amazon Fire Tv</td>\n",
              "      <td>cost is not outrageous easy setup fun to use a...</td>\n",
              "      <td>0.411111</td>\n",
              "      <td>0.677778</td>\n",
              "    </tr>\n",
              "    <tr>\n",
              "      <th>27876</th>\n",
              "      <td>Amazon Fire Tv</td>\n",
              "      <td>i knew about this from its crowd funding start...</td>\n",
              "      <td>0.512500</td>\n",
              "      <td>0.621875</td>\n",
              "    </tr>\n",
              "    <tr>\n",
              "      <th>27877</th>\n",
              "      <td>Amazon Fire Tv</td>\n",
              "      <td>this is a neat product but did not fit my need...</td>\n",
              "      <td>0.250000</td>\n",
              "      <td>0.375000</td>\n",
              "    </tr>\n",
              "    <tr>\n",
              "      <th>27878</th>\n",
              "      <td>Amazon Fire Tv</td>\n",
              "      <td>responses well and there are lots of skills to...</td>\n",
              "      <td>0.000000</td>\n",
              "      <td>0.000000</td>\n",
              "    </tr>\n",
              "  </tbody>\n",
              "</table>\n",
              "<p>26068 rows × 4 columns</p>\n",
              "</div>\n",
              "    <div class=\"colab-df-buttons\">\n",
              "\n",
              "  <div class=\"colab-df-container\">\n",
              "    <button class=\"colab-df-convert\" onclick=\"convertToInteractive('df-30eb2b23-f68a-4711-8805-2fd45be234aa')\"\n",
              "            title=\"Convert this dataframe to an interactive table.\"\n",
              "            style=\"display:none;\">\n",
              "\n",
              "  <svg xmlns=\"http://www.w3.org/2000/svg\" height=\"24px\" viewBox=\"0 -960 960 960\">\n",
              "    <path d=\"M120-120v-720h720v720H120Zm60-500h600v-160H180v160Zm220 220h160v-160H400v160Zm0 220h160v-160H400v160ZM180-400h160v-160H180v160Zm440 0h160v-160H620v160ZM180-180h160v-160H180v160Zm440 0h160v-160H620v160Z\"/>\n",
              "  </svg>\n",
              "    </button>\n",
              "\n",
              "  <style>\n",
              "    .colab-df-container {\n",
              "      display:flex;\n",
              "      gap: 12px;\n",
              "    }\n",
              "\n",
              "    .colab-df-convert {\n",
              "      background-color: #E8F0FE;\n",
              "      border: none;\n",
              "      border-radius: 50%;\n",
              "      cursor: pointer;\n",
              "      display: none;\n",
              "      fill: #1967D2;\n",
              "      height: 32px;\n",
              "      padding: 0 0 0 0;\n",
              "      width: 32px;\n",
              "    }\n",
              "\n",
              "    .colab-df-convert:hover {\n",
              "      background-color: #E2EBFA;\n",
              "      box-shadow: 0px 1px 2px rgba(60, 64, 67, 0.3), 0px 1px 3px 1px rgba(60, 64, 67, 0.15);\n",
              "      fill: #174EA6;\n",
              "    }\n",
              "\n",
              "    .colab-df-buttons div {\n",
              "      margin-bottom: 4px;\n",
              "    }\n",
              "\n",
              "    [theme=dark] .colab-df-convert {\n",
              "      background-color: #3B4455;\n",
              "      fill: #D2E3FC;\n",
              "    }\n",
              "\n",
              "    [theme=dark] .colab-df-convert:hover {\n",
              "      background-color: #434B5C;\n",
              "      box-shadow: 0px 1px 3px 1px rgba(0, 0, 0, 0.15);\n",
              "      filter: drop-shadow(0px 1px 2px rgba(0, 0, 0, 0.3));\n",
              "      fill: #FFFFFF;\n",
              "    }\n",
              "  </style>\n",
              "\n",
              "    <script>\n",
              "      const buttonEl =\n",
              "        document.querySelector('#df-30eb2b23-f68a-4711-8805-2fd45be234aa button.colab-df-convert');\n",
              "      buttonEl.style.display =\n",
              "        google.colab.kernel.accessAllowed ? 'block' : 'none';\n",
              "\n",
              "      async function convertToInteractive(key) {\n",
              "        const element = document.querySelector('#df-30eb2b23-f68a-4711-8805-2fd45be234aa');\n",
              "        const dataTable =\n",
              "          await google.colab.kernel.invokeFunction('convertToInteractive',\n",
              "                                                    [key], {});\n",
              "        if (!dataTable) return;\n",
              "\n",
              "        const docLinkHtml = 'Like what you see? Visit the ' +\n",
              "          '<a target=\"_blank\" href=https://colab.research.google.com/notebooks/data_table.ipynb>data table notebook</a>'\n",
              "          + ' to learn more about interactive tables.';\n",
              "        element.innerHTML = '';\n",
              "        dataTable['output_type'] = 'display_data';\n",
              "        await google.colab.output.renderOutput(dataTable, element);\n",
              "        const docLink = document.createElement('div');\n",
              "        docLink.innerHTML = docLinkHtml;\n",
              "        element.appendChild(docLink);\n",
              "      }\n",
              "    </script>\n",
              "  </div>\n",
              "\n",
              "\n",
              "<div id=\"df-523a92c5-1466-4849-b8ca-9171ad699461\">\n",
              "  <button class=\"colab-df-quickchart\" onclick=\"quickchart('df-523a92c5-1466-4849-b8ca-9171ad699461')\"\n",
              "            title=\"Suggest charts\"\n",
              "            style=\"display:none;\">\n",
              "\n",
              "<svg xmlns=\"http://www.w3.org/2000/svg\" height=\"24px\"viewBox=\"0 0 24 24\"\n",
              "     width=\"24px\">\n",
              "    <g>\n",
              "        <path d=\"M19 3H5c-1.1 0-2 .9-2 2v14c0 1.1.9 2 2 2h14c1.1 0 2-.9 2-2V5c0-1.1-.9-2-2-2zM9 17H7v-7h2v7zm4 0h-2V7h2v10zm4 0h-2v-4h2v4z\"/>\n",
              "    </g>\n",
              "</svg>\n",
              "  </button>\n",
              "\n",
              "<style>\n",
              "  .colab-df-quickchart {\n",
              "      --bg-color: #E8F0FE;\n",
              "      --fill-color: #1967D2;\n",
              "      --hover-bg-color: #E2EBFA;\n",
              "      --hover-fill-color: #174EA6;\n",
              "      --disabled-fill-color: #AAA;\n",
              "      --disabled-bg-color: #DDD;\n",
              "  }\n",
              "\n",
              "  [theme=dark] .colab-df-quickchart {\n",
              "      --bg-color: #3B4455;\n",
              "      --fill-color: #D2E3FC;\n",
              "      --hover-bg-color: #434B5C;\n",
              "      --hover-fill-color: #FFFFFF;\n",
              "      --disabled-bg-color: #3B4455;\n",
              "      --disabled-fill-color: #666;\n",
              "  }\n",
              "\n",
              "  .colab-df-quickchart {\n",
              "    background-color: var(--bg-color);\n",
              "    border: none;\n",
              "    border-radius: 50%;\n",
              "    cursor: pointer;\n",
              "    display: none;\n",
              "    fill: var(--fill-color);\n",
              "    height: 32px;\n",
              "    padding: 0;\n",
              "    width: 32px;\n",
              "  }\n",
              "\n",
              "  .colab-df-quickchart:hover {\n",
              "    background-color: var(--hover-bg-color);\n",
              "    box-shadow: 0 1px 2px rgba(60, 64, 67, 0.3), 0 1px 3px 1px rgba(60, 64, 67, 0.15);\n",
              "    fill: var(--button-hover-fill-color);\n",
              "  }\n",
              "\n",
              "  .colab-df-quickchart-complete:disabled,\n",
              "  .colab-df-quickchart-complete:disabled:hover {\n",
              "    background-color: var(--disabled-bg-color);\n",
              "    fill: var(--disabled-fill-color);\n",
              "    box-shadow: none;\n",
              "  }\n",
              "\n",
              "  .colab-df-spinner {\n",
              "    border: 2px solid var(--fill-color);\n",
              "    border-color: transparent;\n",
              "    border-bottom-color: var(--fill-color);\n",
              "    animation:\n",
              "      spin 1s steps(1) infinite;\n",
              "  }\n",
              "\n",
              "  @keyframes spin {\n",
              "    0% {\n",
              "      border-color: transparent;\n",
              "      border-bottom-color: var(--fill-color);\n",
              "      border-left-color: var(--fill-color);\n",
              "    }\n",
              "    20% {\n",
              "      border-color: transparent;\n",
              "      border-left-color: var(--fill-color);\n",
              "      border-top-color: var(--fill-color);\n",
              "    }\n",
              "    30% {\n",
              "      border-color: transparent;\n",
              "      border-left-color: var(--fill-color);\n",
              "      border-top-color: var(--fill-color);\n",
              "      border-right-color: var(--fill-color);\n",
              "    }\n",
              "    40% {\n",
              "      border-color: transparent;\n",
              "      border-right-color: var(--fill-color);\n",
              "      border-top-color: var(--fill-color);\n",
              "    }\n",
              "    60% {\n",
              "      border-color: transparent;\n",
              "      border-right-color: var(--fill-color);\n",
              "    }\n",
              "    80% {\n",
              "      border-color: transparent;\n",
              "      border-right-color: var(--fill-color);\n",
              "      border-bottom-color: var(--fill-color);\n",
              "    }\n",
              "    90% {\n",
              "      border-color: transparent;\n",
              "      border-bottom-color: var(--fill-color);\n",
              "    }\n",
              "  }\n",
              "</style>\n",
              "\n",
              "  <script>\n",
              "    async function quickchart(key) {\n",
              "      const quickchartButtonEl =\n",
              "        document.querySelector('#' + key + ' button');\n",
              "      quickchartButtonEl.disabled = true;  // To prevent multiple clicks.\n",
              "      quickchartButtonEl.classList.add('colab-df-spinner');\n",
              "      try {\n",
              "        const charts = await google.colab.kernel.invokeFunction(\n",
              "            'suggestCharts', [key], {});\n",
              "      } catch (error) {\n",
              "        console.error('Error during call to suggestCharts:', error);\n",
              "      }\n",
              "      quickchartButtonEl.classList.remove('colab-df-spinner');\n",
              "      quickchartButtonEl.classList.add('colab-df-quickchart-complete');\n",
              "    }\n",
              "    (() => {\n",
              "      let quickchartButtonEl =\n",
              "        document.querySelector('#df-523a92c5-1466-4849-b8ca-9171ad699461 button');\n",
              "      quickchartButtonEl.style.display =\n",
              "        google.colab.kernel.accessAllowed ? 'block' : 'none';\n",
              "    })();\n",
              "  </script>\n",
              "</div>\n",
              "\n",
              "  <div id=\"id_a4417332-157c-42c9-a14a-ab34ecb03ceb\">\n",
              "    <style>\n",
              "      .colab-df-generate {\n",
              "        background-color: #E8F0FE;\n",
              "        border: none;\n",
              "        border-radius: 50%;\n",
              "        cursor: pointer;\n",
              "        display: none;\n",
              "        fill: #1967D2;\n",
              "        height: 32px;\n",
              "        padding: 0 0 0 0;\n",
              "        width: 32px;\n",
              "      }\n",
              "\n",
              "      .colab-df-generate:hover {\n",
              "        background-color: #E2EBFA;\n",
              "        box-shadow: 0px 1px 2px rgba(60, 64, 67, 0.3), 0px 1px 3px 1px rgba(60, 64, 67, 0.15);\n",
              "        fill: #174EA6;\n",
              "      }\n",
              "\n",
              "      [theme=dark] .colab-df-generate {\n",
              "        background-color: #3B4455;\n",
              "        fill: #D2E3FC;\n",
              "      }\n",
              "\n",
              "      [theme=dark] .colab-df-generate:hover {\n",
              "        background-color: #434B5C;\n",
              "        box-shadow: 0px 1px 3px 1px rgba(0, 0, 0, 0.15);\n",
              "        filter: drop-shadow(0px 1px 2px rgba(0, 0, 0, 0.3));\n",
              "        fill: #FFFFFF;\n",
              "      }\n",
              "    </style>\n",
              "    <button class=\"colab-df-generate\" onclick=\"generateWithVariable('cleaned_review')\"\n",
              "            title=\"Generate code using this dataframe.\"\n",
              "            style=\"display:none;\">\n",
              "\n",
              "  <svg xmlns=\"http://www.w3.org/2000/svg\" height=\"24px\"viewBox=\"0 0 24 24\"\n",
              "       width=\"24px\">\n",
              "    <path d=\"M7,19H8.4L18.45,9,17,7.55,7,17.6ZM5,21V16.75L18.45,3.32a2,2,0,0,1,2.83,0l1.4,1.43a1.91,1.91,0,0,1,.58,1.4,1.91,1.91,0,0,1-.58,1.4L9.25,21ZM18.45,9,17,7.55Zm-12,3A5.31,5.31,0,0,0,4.9,8.1,5.31,5.31,0,0,0,1,6.5,5.31,5.31,0,0,0,4.9,4.9,5.31,5.31,0,0,0,6.5,1,5.31,5.31,0,0,0,8.1,4.9,5.31,5.31,0,0,0,12,6.5,5.46,5.46,0,0,0,6.5,12Z\"/>\n",
              "  </svg>\n",
              "    </button>\n",
              "    <script>\n",
              "      (() => {\n",
              "      const buttonEl =\n",
              "        document.querySelector('#id_a4417332-157c-42c9-a14a-ab34ecb03ceb button.colab-df-generate');\n",
              "      buttonEl.style.display =\n",
              "        google.colab.kernel.accessAllowed ? 'block' : 'none';\n",
              "\n",
              "      buttonEl.onclick = () => {\n",
              "        google.colab.notebook.generateWithVariable('cleaned_review');\n",
              "      }\n",
              "      })();\n",
              "    </script>\n",
              "  </div>\n",
              "\n",
              "    </div>\n",
              "  </div>\n"
            ],
            "text/plain": [
              "                                                    name  \\\n",
              "0      All-New Fire HD 8 Tablet, 8 HD Display, Wi-Fi,...   \n",
              "1      All-New Fire HD 8 Tablet, 8 HD Display, Wi-Fi,...   \n",
              "2      All-New Fire HD 8 Tablet, 8 HD Display, Wi-Fi,...   \n",
              "3      All-New Fire HD 8 Tablet, 8 HD Display, Wi-Fi,...   \n",
              "4      All-New Fire HD 8 Tablet, 8 HD Display, Wi-Fi,...   \n",
              "...                                                  ...   \n",
              "27874                                     Amazon Fire Tv   \n",
              "27875                                     Amazon Fire Tv   \n",
              "27876                                     Amazon Fire Tv   \n",
              "27877                                     Amazon Fire Tv   \n",
              "27878                                     Amazon Fire Tv   \n",
              "\n",
              "                                                 cleaned  Polarity  \\\n",
              "0      this product so far has not disappointed my ch...  0.325000   \n",
              "1      great for beginner or experienced person bough...  0.800000   \n",
              "2      inexpensive tablet for him to use and learn on...  0.600000   \n",
              "3      i have had my fire hd two weeks now and i love...  0.374583   \n",
              "4      i bought this for my grand daughter when she c...  0.368056   \n",
              "...                                                  ...       ...   \n",
              "27874  it has many uses you can listen to music check...  0.500000   \n",
              "27875  cost is not outrageous easy setup fun to use a...  0.411111   \n",
              "27876  i knew about this from its crowd funding start...  0.512500   \n",
              "27877  this is a neat product but did not fit my need...  0.250000   \n",
              "27878  responses well and there are lots of skills to...  0.000000   \n",
              "\n",
              "       Subjectivity  \n",
              "0          0.783333  \n",
              "1          0.825000  \n",
              "2          0.700000  \n",
              "3          0.731250  \n",
              "4          0.616226  \n",
              "...             ...  \n",
              "27874      0.500000  \n",
              "27875      0.677778  \n",
              "27876      0.621875  \n",
              "27877      0.375000  \n",
              "27878      0.000000  \n",
              "\n",
              "[26068 rows x 4 columns]"
            ]
          },
          "execution_count": 76,
          "metadata": {},
          "output_type": "execute_result"
        }
      ],
      "source": [
        "cleaned_review"
      ]
    },
    {
      "cell_type": "markdown",
      "metadata": {
        "id": "YYp-OJG9CufY"
      },
      "source": [
        "### perform little EDA on the updated dataset"
      ]
    },
    {
      "cell_type": "code",
      "execution_count": null,
      "metadata": {
        "colab": {
          "base_uri": "https://localhost:8080/",
          "height": 1000
        },
        "id": "wgIrNHzZCzII",
        "outputId": "df6a57df-f492-47fb-c973-2a58a6f701e5"
      },
      "outputs": [
        {
          "data": {
            "text/html": [
              "\n",
              "  <div id=\"df-2a981de8-1a44-44d8-8660-edcd5ebdc947\" class=\"colab-df-container\">\n",
              "    <div>\n",
              "<style scoped>\n",
              "    .dataframe tbody tr th:only-of-type {\n",
              "        vertical-align: middle;\n",
              "    }\n",
              "\n",
              "    .dataframe tbody tr th {\n",
              "        vertical-align: top;\n",
              "    }\n",
              "\n",
              "    .dataframe thead tr th {\n",
              "        text-align: left;\n",
              "    }\n",
              "\n",
              "    .dataframe thead tr:last-of-type th {\n",
              "        text-align: right;\n",
              "    }\n",
              "</style>\n",
              "<table border=\"1\" class=\"dataframe\">\n",
              "  <thead>\n",
              "    <tr>\n",
              "      <th></th>\n",
              "      <th colspan=\"8\" halign=\"left\">Polarity</th>\n",
              "      <th colspan=\"8\" halign=\"left\">Subjectivity</th>\n",
              "    </tr>\n",
              "    <tr>\n",
              "      <th></th>\n",
              "      <th>count</th>\n",
              "      <th>mean</th>\n",
              "      <th>std</th>\n",
              "      <th>min</th>\n",
              "      <th>25%</th>\n",
              "      <th>50%</th>\n",
              "      <th>75%</th>\n",
              "      <th>max</th>\n",
              "      <th>count</th>\n",
              "      <th>mean</th>\n",
              "      <th>std</th>\n",
              "      <th>min</th>\n",
              "      <th>25%</th>\n",
              "      <th>50%</th>\n",
              "      <th>75%</th>\n",
              "      <th>max</th>\n",
              "    </tr>\n",
              "    <tr>\n",
              "      <th>name</th>\n",
              "      <th></th>\n",
              "      <th></th>\n",
              "      <th></th>\n",
              "      <th></th>\n",
              "      <th></th>\n",
              "      <th></th>\n",
              "      <th></th>\n",
              "      <th></th>\n",
              "      <th></th>\n",
              "      <th></th>\n",
              "      <th></th>\n",
              "      <th></th>\n",
              "      <th></th>\n",
              "      <th></th>\n",
              "      <th></th>\n",
              "      <th></th>\n",
              "    </tr>\n",
              "  </thead>\n",
              "  <tbody>\n",
              "    <tr>\n",
              "      <th>All-New Fire HD 8 Tablet, 8 HD Display, Wi-Fi, 16 GB - Includes Special Offers, Magenta</th>\n",
              "      <td>2814.0</td>\n",
              "      <td>0.378873</td>\n",
              "      <td>0.250968</td>\n",
              "      <td>-0.750000</td>\n",
              "      <td>0.212216</td>\n",
              "      <td>0.377778</td>\n",
              "      <td>0.526250</td>\n",
              "      <td>1.0</td>\n",
              "      <td>2814.0</td>\n",
              "      <td>0.571011</td>\n",
              "      <td>0.214650</td>\n",
              "      <td>0.0</td>\n",
              "      <td>0.462500</td>\n",
              "      <td>0.587500</td>\n",
              "      <td>0.713651</td>\n",
              "      <td>1.0</td>\n",
              "    </tr>\n",
              "    <tr>\n",
              "      <th>Amazon Fire Tv</th>\n",
              "      <td>2527.0</td>\n",
              "      <td>0.360781</td>\n",
              "      <td>0.235949</td>\n",
              "      <td>-0.750000</td>\n",
              "      <td>0.213672</td>\n",
              "      <td>0.366667</td>\n",
              "      <td>0.500000</td>\n",
              "      <td>1.0</td>\n",
              "      <td>2527.0</td>\n",
              "      <td>0.552044</td>\n",
              "      <td>0.202547</td>\n",
              "      <td>0.0</td>\n",
              "      <td>0.450000</td>\n",
              "      <td>0.570204</td>\n",
              "      <td>0.675000</td>\n",
              "      <td>1.0</td>\n",
              "    </tr>\n",
              "    <tr>\n",
              "      <th>Amazon Kindle Paperwhite - eBook reader - 4 GB - 6 monochrome Paperwhite - touchscreen - Wi-Fi - black</th>\n",
              "      <td>3176.0</td>\n",
              "      <td>0.353196</td>\n",
              "      <td>0.230073</td>\n",
              "      <td>-0.500000</td>\n",
              "      <td>0.200000</td>\n",
              "      <td>0.339364</td>\n",
              "      <td>0.500000</td>\n",
              "      <td>1.0</td>\n",
              "      <td>3176.0</td>\n",
              "      <td>0.565277</td>\n",
              "      <td>0.203227</td>\n",
              "      <td>0.0</td>\n",
              "      <td>0.450731</td>\n",
              "      <td>0.573139</td>\n",
              "      <td>0.700000</td>\n",
              "      <td>1.0</td>\n",
              "    </tr>\n",
              "    <tr>\n",
              "      <th>Brand New Amazon Kindle Fire 16gb 7 Ips Display Tablet Wifi 16 Gb Blue</th>\n",
              "      <td>1030.0</td>\n",
              "      <td>0.373289</td>\n",
              "      <td>0.268020</td>\n",
              "      <td>-0.412500</td>\n",
              "      <td>0.182708</td>\n",
              "      <td>0.383333</td>\n",
              "      <td>0.550500</td>\n",
              "      <td>1.0</td>\n",
              "      <td>1030.0</td>\n",
              "      <td>0.567456</td>\n",
              "      <td>0.227811</td>\n",
              "      <td>0.0</td>\n",
              "      <td>0.450000</td>\n",
              "      <td>0.600000</td>\n",
              "      <td>0.716667</td>\n",
              "      <td>1.0</td>\n",
              "    </tr>\n",
              "    <tr>\n",
              "      <th>Echo (White)</th>\n",
              "      <td>3300.0</td>\n",
              "      <td>0.372979</td>\n",
              "      <td>0.236211</td>\n",
              "      <td>-1.000000</td>\n",
              "      <td>0.224760</td>\n",
              "      <td>0.379325</td>\n",
              "      <td>0.500000</td>\n",
              "      <td>1.0</td>\n",
              "      <td>3300.0</td>\n",
              "      <td>0.561077</td>\n",
              "      <td>0.203896</td>\n",
              "      <td>0.0</td>\n",
              "      <td>0.456250</td>\n",
              "      <td>0.575000</td>\n",
              "      <td>0.689808</td>\n",
              "      <td>1.0</td>\n",
              "    </tr>\n",
              "    <tr>\n",
              "      <th>Fire Kids Edition Tablet, 7 Display, Wi-Fi, 16 GB, Green Kid-Proof Case</th>\n",
              "      <td>1679.0</td>\n",
              "      <td>0.342569</td>\n",
              "      <td>0.257991</td>\n",
              "      <td>-0.666667</td>\n",
              "      <td>0.173912</td>\n",
              "      <td>0.348148</td>\n",
              "      <td>0.500000</td>\n",
              "      <td>1.0</td>\n",
              "      <td>1679.0</td>\n",
              "      <td>0.544464</td>\n",
              "      <td>0.214974</td>\n",
              "      <td>0.0</td>\n",
              "      <td>0.433333</td>\n",
              "      <td>0.555556</td>\n",
              "      <td>0.676389</td>\n",
              "      <td>1.0</td>\n",
              "    </tr>\n",
              "    <tr>\n",
              "      <th>Fire Tablet, 7 Display, Wi-Fi, 8 GB - Includes Special Offers, Magenta</th>\n",
              "      <td>10962.0</td>\n",
              "      <td>0.378273</td>\n",
              "      <td>0.264922</td>\n",
              "      <td>-1.000000</td>\n",
              "      <td>0.200000</td>\n",
              "      <td>0.380000</td>\n",
              "      <td>0.550000</td>\n",
              "      <td>1.0</td>\n",
              "      <td>10962.0</td>\n",
              "      <td>0.572717</td>\n",
              "      <td>0.214555</td>\n",
              "      <td>0.0</td>\n",
              "      <td>0.466667</td>\n",
              "      <td>0.597024</td>\n",
              "      <td>0.716667</td>\n",
              "      <td>1.0</td>\n",
              "    </tr>\n",
              "    <tr>\n",
              "      <th>Kindle Voyage E-reader, 6 High-Resolution Display (300 ppi) with Adaptive Built-in Light, PagePress Sensors, Wi-Fi - Includes Special Offers,</th>\n",
              "      <td>580.0</td>\n",
              "      <td>0.326967</td>\n",
              "      <td>0.224000</td>\n",
              "      <td>-0.438889</td>\n",
              "      <td>0.191667</td>\n",
              "      <td>0.322129</td>\n",
              "      <td>0.453068</td>\n",
              "      <td>1.0</td>\n",
              "      <td>580.0</td>\n",
              "      <td>0.544545</td>\n",
              "      <td>0.198110</td>\n",
              "      <td>0.0</td>\n",
              "      <td>0.446966</td>\n",
              "      <td>0.556985</td>\n",
              "      <td>0.666667</td>\n",
              "      <td>1.0</td>\n",
              "    </tr>\n",
              "  </tbody>\n",
              "</table>\n",
              "</div>\n",
              "    <div class=\"colab-df-buttons\">\n",
              "\n",
              "  <div class=\"colab-df-container\">\n",
              "    <button class=\"colab-df-convert\" onclick=\"convertToInteractive('df-2a981de8-1a44-44d8-8660-edcd5ebdc947')\"\n",
              "            title=\"Convert this dataframe to an interactive table.\"\n",
              "            style=\"display:none;\">\n",
              "\n",
              "  <svg xmlns=\"http://www.w3.org/2000/svg\" height=\"24px\" viewBox=\"0 -960 960 960\">\n",
              "    <path d=\"M120-120v-720h720v720H120Zm60-500h600v-160H180v160Zm220 220h160v-160H400v160Zm0 220h160v-160H400v160ZM180-400h160v-160H180v160Zm440 0h160v-160H620v160ZM180-180h160v-160H180v160Zm440 0h160v-160H620v160Z\"/>\n",
              "  </svg>\n",
              "    </button>\n",
              "\n",
              "  <style>\n",
              "    .colab-df-container {\n",
              "      display:flex;\n",
              "      gap: 12px;\n",
              "    }\n",
              "\n",
              "    .colab-df-convert {\n",
              "      background-color: #E8F0FE;\n",
              "      border: none;\n",
              "      border-radius: 50%;\n",
              "      cursor: pointer;\n",
              "      display: none;\n",
              "      fill: #1967D2;\n",
              "      height: 32px;\n",
              "      padding: 0 0 0 0;\n",
              "      width: 32px;\n",
              "    }\n",
              "\n",
              "    .colab-df-convert:hover {\n",
              "      background-color: #E2EBFA;\n",
              "      box-shadow: 0px 1px 2px rgba(60, 64, 67, 0.3), 0px 1px 3px 1px rgba(60, 64, 67, 0.15);\n",
              "      fill: #174EA6;\n",
              "    }\n",
              "\n",
              "    .colab-df-buttons div {\n",
              "      margin-bottom: 4px;\n",
              "    }\n",
              "\n",
              "    [theme=dark] .colab-df-convert {\n",
              "      background-color: #3B4455;\n",
              "      fill: #D2E3FC;\n",
              "    }\n",
              "\n",
              "    [theme=dark] .colab-df-convert:hover {\n",
              "      background-color: #434B5C;\n",
              "      box-shadow: 0px 1px 3px 1px rgba(0, 0, 0, 0.15);\n",
              "      filter: drop-shadow(0px 1px 2px rgba(0, 0, 0, 0.3));\n",
              "      fill: #FFFFFF;\n",
              "    }\n",
              "  </style>\n",
              "\n",
              "    <script>\n",
              "      const buttonEl =\n",
              "        document.querySelector('#df-2a981de8-1a44-44d8-8660-edcd5ebdc947 button.colab-df-convert');\n",
              "      buttonEl.style.display =\n",
              "        google.colab.kernel.accessAllowed ? 'block' : 'none';\n",
              "\n",
              "      async function convertToInteractive(key) {\n",
              "        const element = document.querySelector('#df-2a981de8-1a44-44d8-8660-edcd5ebdc947');\n",
              "        const dataTable =\n",
              "          await google.colab.kernel.invokeFunction('convertToInteractive',\n",
              "                                                    [key], {});\n",
              "        if (!dataTable) return;\n",
              "\n",
              "        const docLinkHtml = 'Like what you see? Visit the ' +\n",
              "          '<a target=\"_blank\" href=https://colab.research.google.com/notebooks/data_table.ipynb>data table notebook</a>'\n",
              "          + ' to learn more about interactive tables.';\n",
              "        element.innerHTML = '';\n",
              "        dataTable['output_type'] = 'display_data';\n",
              "        await google.colab.output.renderOutput(dataTable, element);\n",
              "        const docLink = document.createElement('div');\n",
              "        docLink.innerHTML = docLinkHtml;\n",
              "        element.appendChild(docLink);\n",
              "      }\n",
              "    </script>\n",
              "  </div>\n",
              "\n",
              "\n",
              "<div id=\"df-a12109b5-5f93-4b95-b47b-343394f52a11\">\n",
              "  <button class=\"colab-df-quickchart\" onclick=\"quickchart('df-a12109b5-5f93-4b95-b47b-343394f52a11')\"\n",
              "            title=\"Suggest charts\"\n",
              "            style=\"display:none;\">\n",
              "\n",
              "<svg xmlns=\"http://www.w3.org/2000/svg\" height=\"24px\"viewBox=\"0 0 24 24\"\n",
              "     width=\"24px\">\n",
              "    <g>\n",
              "        <path d=\"M19 3H5c-1.1 0-2 .9-2 2v14c0 1.1.9 2 2 2h14c1.1 0 2-.9 2-2V5c0-1.1-.9-2-2-2zM9 17H7v-7h2v7zm4 0h-2V7h2v10zm4 0h-2v-4h2v4z\"/>\n",
              "    </g>\n",
              "</svg>\n",
              "  </button>\n",
              "\n",
              "<style>\n",
              "  .colab-df-quickchart {\n",
              "      --bg-color: #E8F0FE;\n",
              "      --fill-color: #1967D2;\n",
              "      --hover-bg-color: #E2EBFA;\n",
              "      --hover-fill-color: #174EA6;\n",
              "      --disabled-fill-color: #AAA;\n",
              "      --disabled-bg-color: #DDD;\n",
              "  }\n",
              "\n",
              "  [theme=dark] .colab-df-quickchart {\n",
              "      --bg-color: #3B4455;\n",
              "      --fill-color: #D2E3FC;\n",
              "      --hover-bg-color: #434B5C;\n",
              "      --hover-fill-color: #FFFFFF;\n",
              "      --disabled-bg-color: #3B4455;\n",
              "      --disabled-fill-color: #666;\n",
              "  }\n",
              "\n",
              "  .colab-df-quickchart {\n",
              "    background-color: var(--bg-color);\n",
              "    border: none;\n",
              "    border-radius: 50%;\n",
              "    cursor: pointer;\n",
              "    display: none;\n",
              "    fill: var(--fill-color);\n",
              "    height: 32px;\n",
              "    padding: 0;\n",
              "    width: 32px;\n",
              "  }\n",
              "\n",
              "  .colab-df-quickchart:hover {\n",
              "    background-color: var(--hover-bg-color);\n",
              "    box-shadow: 0 1px 2px rgba(60, 64, 67, 0.3), 0 1px 3px 1px rgba(60, 64, 67, 0.15);\n",
              "    fill: var(--button-hover-fill-color);\n",
              "  }\n",
              "\n",
              "  .colab-df-quickchart-complete:disabled,\n",
              "  .colab-df-quickchart-complete:disabled:hover {\n",
              "    background-color: var(--disabled-bg-color);\n",
              "    fill: var(--disabled-fill-color);\n",
              "    box-shadow: none;\n",
              "  }\n",
              "\n",
              "  .colab-df-spinner {\n",
              "    border: 2px solid var(--fill-color);\n",
              "    border-color: transparent;\n",
              "    border-bottom-color: var(--fill-color);\n",
              "    animation:\n",
              "      spin 1s steps(1) infinite;\n",
              "  }\n",
              "\n",
              "  @keyframes spin {\n",
              "    0% {\n",
              "      border-color: transparent;\n",
              "      border-bottom-color: var(--fill-color);\n",
              "      border-left-color: var(--fill-color);\n",
              "    }\n",
              "    20% {\n",
              "      border-color: transparent;\n",
              "      border-left-color: var(--fill-color);\n",
              "      border-top-color: var(--fill-color);\n",
              "    }\n",
              "    30% {\n",
              "      border-color: transparent;\n",
              "      border-left-color: var(--fill-color);\n",
              "      border-top-color: var(--fill-color);\n",
              "      border-right-color: var(--fill-color);\n",
              "    }\n",
              "    40% {\n",
              "      border-color: transparent;\n",
              "      border-right-color: var(--fill-color);\n",
              "      border-top-color: var(--fill-color);\n",
              "    }\n",
              "    60% {\n",
              "      border-color: transparent;\n",
              "      border-right-color: var(--fill-color);\n",
              "    }\n",
              "    80% {\n",
              "      border-color: transparent;\n",
              "      border-right-color: var(--fill-color);\n",
              "      border-bottom-color: var(--fill-color);\n",
              "    }\n",
              "    90% {\n",
              "      border-color: transparent;\n",
              "      border-bottom-color: var(--fill-color);\n",
              "    }\n",
              "  }\n",
              "</style>\n",
              "\n",
              "  <script>\n",
              "    async function quickchart(key) {\n",
              "      const quickchartButtonEl =\n",
              "        document.querySelector('#' + key + ' button');\n",
              "      quickchartButtonEl.disabled = true;  // To prevent multiple clicks.\n",
              "      quickchartButtonEl.classList.add('colab-df-spinner');\n",
              "      try {\n",
              "        const charts = await google.colab.kernel.invokeFunction(\n",
              "            'suggestCharts', [key], {});\n",
              "      } catch (error) {\n",
              "        console.error('Error during call to suggestCharts:', error);\n",
              "      }\n",
              "      quickchartButtonEl.classList.remove('colab-df-spinner');\n",
              "      quickchartButtonEl.classList.add('colab-df-quickchart-complete');\n",
              "    }\n",
              "    (() => {\n",
              "      let quickchartButtonEl =\n",
              "        document.querySelector('#df-a12109b5-5f93-4b95-b47b-343394f52a11 button');\n",
              "      quickchartButtonEl.style.display =\n",
              "        google.colab.kernel.accessAllowed ? 'block' : 'none';\n",
              "    })();\n",
              "  </script>\n",
              "</div>\n",
              "\n",
              "    </div>\n",
              "  </div>\n"
            ],
            "text/plain": [
              "                                                   Polarity            \\\n",
              "                                                      count      mean   \n",
              "name                                                                    \n",
              "All-New Fire HD 8 Tablet, 8 HD Display, Wi-Fi, ...   2814.0  0.378873   \n",
              "Amazon Fire Tv                                       2527.0  0.360781   \n",
              "Amazon Kindle Paperwhite - eBook reader - 4 GB ...   3176.0  0.353196   \n",
              "Brand New Amazon Kindle Fire 16gb 7 Ips Display...   1030.0  0.373289   \n",
              "Echo (White)                                         3300.0  0.372979   \n",
              "Fire Kids Edition Tablet, 7 Display, Wi-Fi, 16 ...   1679.0  0.342569   \n",
              "Fire Tablet, 7 Display, Wi-Fi, 8 GB - Includes ...  10962.0  0.378273   \n",
              "Kindle Voyage E-reader, 6 High-Resolution Displ...    580.0  0.326967   \n",
              "\n",
              "                                                                        \\\n",
              "                                                         std       min   \n",
              "name                                                                     \n",
              "All-New Fire HD 8 Tablet, 8 HD Display, Wi-Fi, ...  0.250968 -0.750000   \n",
              "Amazon Fire Tv                                      0.235949 -0.750000   \n",
              "Amazon Kindle Paperwhite - eBook reader - 4 GB ...  0.230073 -0.500000   \n",
              "Brand New Amazon Kindle Fire 16gb 7 Ips Display...  0.268020 -0.412500   \n",
              "Echo (White)                                        0.236211 -1.000000   \n",
              "Fire Kids Edition Tablet, 7 Display, Wi-Fi, 16 ...  0.257991 -0.666667   \n",
              "Fire Tablet, 7 Display, Wi-Fi, 8 GB - Includes ...  0.264922 -1.000000   \n",
              "Kindle Voyage E-reader, 6 High-Resolution Displ...  0.224000 -0.438889   \n",
              "\n",
              "                                                                        \\\n",
              "                                                         25%       50%   \n",
              "name                                                                     \n",
              "All-New Fire HD 8 Tablet, 8 HD Display, Wi-Fi, ...  0.212216  0.377778   \n",
              "Amazon Fire Tv                                      0.213672  0.366667   \n",
              "Amazon Kindle Paperwhite - eBook reader - 4 GB ...  0.200000  0.339364   \n",
              "Brand New Amazon Kindle Fire 16gb 7 Ips Display...  0.182708  0.383333   \n",
              "Echo (White)                                        0.224760  0.379325   \n",
              "Fire Kids Edition Tablet, 7 Display, Wi-Fi, 16 ...  0.173912  0.348148   \n",
              "Fire Tablet, 7 Display, Wi-Fi, 8 GB - Includes ...  0.200000  0.380000   \n",
              "Kindle Voyage E-reader, 6 High-Resolution Displ...  0.191667  0.322129   \n",
              "\n",
              "                                                                   \\\n",
              "                                                         75%  max   \n",
              "name                                                                \n",
              "All-New Fire HD 8 Tablet, 8 HD Display, Wi-Fi, ...  0.526250  1.0   \n",
              "Amazon Fire Tv                                      0.500000  1.0   \n",
              "Amazon Kindle Paperwhite - eBook reader - 4 GB ...  0.500000  1.0   \n",
              "Brand New Amazon Kindle Fire 16gb 7 Ips Display...  0.550500  1.0   \n",
              "Echo (White)                                        0.500000  1.0   \n",
              "Fire Kids Edition Tablet, 7 Display, Wi-Fi, 16 ...  0.500000  1.0   \n",
              "Fire Tablet, 7 Display, Wi-Fi, 8 GB - Includes ...  0.550000  1.0   \n",
              "Kindle Voyage E-reader, 6 High-Resolution Displ...  0.453068  1.0   \n",
              "\n",
              "                                                   Subjectivity            \\\n",
              "                                                          count      mean   \n",
              "name                                                                        \n",
              "All-New Fire HD 8 Tablet, 8 HD Display, Wi-Fi, ...       2814.0  0.571011   \n",
              "Amazon Fire Tv                                           2527.0  0.552044   \n",
              "Amazon Kindle Paperwhite - eBook reader - 4 GB ...       3176.0  0.565277   \n",
              "Brand New Amazon Kindle Fire 16gb 7 Ips Display...       1030.0  0.567456   \n",
              "Echo (White)                                             3300.0  0.561077   \n",
              "Fire Kids Edition Tablet, 7 Display, Wi-Fi, 16 ...       1679.0  0.544464   \n",
              "Fire Tablet, 7 Display, Wi-Fi, 8 GB - Includes ...      10962.0  0.572717   \n",
              "Kindle Voyage E-reader, 6 High-Resolution Displ...        580.0  0.544545   \n",
              "\n",
              "                                                                             \\\n",
              "                                                         std  min       25%   \n",
              "name                                                                          \n",
              "All-New Fire HD 8 Tablet, 8 HD Display, Wi-Fi, ...  0.214650  0.0  0.462500   \n",
              "Amazon Fire Tv                                      0.202547  0.0  0.450000   \n",
              "Amazon Kindle Paperwhite - eBook reader - 4 GB ...  0.203227  0.0  0.450731   \n",
              "Brand New Amazon Kindle Fire 16gb 7 Ips Display...  0.227811  0.0  0.450000   \n",
              "Echo (White)                                        0.203896  0.0  0.456250   \n",
              "Fire Kids Edition Tablet, 7 Display, Wi-Fi, 16 ...  0.214974  0.0  0.433333   \n",
              "Fire Tablet, 7 Display, Wi-Fi, 8 GB - Includes ...  0.214555  0.0  0.466667   \n",
              "Kindle Voyage E-reader, 6 High-Resolution Displ...  0.198110  0.0  0.446966   \n",
              "\n",
              "                                                                             \n",
              "                                                         50%       75%  max  \n",
              "name                                                                         \n",
              "All-New Fire HD 8 Tablet, 8 HD Display, Wi-Fi, ...  0.587500  0.713651  1.0  \n",
              "Amazon Fire Tv                                      0.570204  0.675000  1.0  \n",
              "Amazon Kindle Paperwhite - eBook reader - 4 GB ...  0.573139  0.700000  1.0  \n",
              "Brand New Amazon Kindle Fire 16gb 7 Ips Display...  0.600000  0.716667  1.0  \n",
              "Echo (White)                                        0.575000  0.689808  1.0  \n",
              "Fire Kids Edition Tablet, 7 Display, Wi-Fi, 16 ...  0.555556  0.676389  1.0  \n",
              "Fire Tablet, 7 Display, Wi-Fi, 8 GB - Includes ...  0.597024  0.716667  1.0  \n",
              "Kindle Voyage E-reader, 6 High-Resolution Displ...  0.556985  0.666667  1.0  "
            ]
          },
          "execution_count": 78,
          "metadata": {},
          "output_type": "execute_result"
        }
      ],
      "source": [
        "cleaned_review.groupby(\"name\").describe()"
      ]
    },
    {
      "cell_type": "code",
      "execution_count": null,
      "metadata": {
        "colab": {
          "base_uri": "https://localhost:8080/"
        },
        "id": "KzT2PCYrDzf2",
        "outputId": "65c3abed-e016-44d2-def5-d13a60ca89a8"
      },
      "outputs": [
        {
          "data": {
            "text/plain": [
              "name            0\n",
              "cleaned         0\n",
              "Polarity        0\n",
              "Subjectivity    0\n",
              "dtype: int64"
            ]
          },
          "execution_count": 79,
          "metadata": {},
          "output_type": "execute_result"
        }
      ],
      "source": [
        "cleaned_review.isna().sum()"
      ]
    },
    {
      "cell_type": "markdown",
      "metadata": {
        "id": "64ge0vSDD184"
      },
      "source": [
        "### Save as a new csv file"
      ]
    },
    {
      "cell_type": "code",
      "execution_count": null,
      "metadata": {
        "id": "j0GzEFchD6IZ"
      },
      "outputs": [],
      "source": [
        "cleaned_review.to_csv(\"new_sentiment.csv\")"
      ]
    },
    {
      "cell_type": "code",
      "execution_count": null,
      "metadata": {
        "colab": {
          "base_uri": "https://localhost:8080/",
          "height": 397
        },
        "id": "ZbSkNgGLEBU7",
        "outputId": "864762e0-14e1-4c92-ff6a-6ec1ff666c1a"
      },
      "outputs": [
        {
          "data": {
            "text/html": [
              "\n",
              "  <div id=\"df-d17f1601-debd-4712-8c73-eba2bcf01d28\" class=\"colab-df-container\">\n",
              "    <div>\n",
              "<style scoped>\n",
              "    .dataframe tbody tr th:only-of-type {\n",
              "        vertical-align: middle;\n",
              "    }\n",
              "\n",
              "    .dataframe tbody tr th {\n",
              "        vertical-align: top;\n",
              "    }\n",
              "\n",
              "    .dataframe thead th {\n",
              "        text-align: right;\n",
              "    }\n",
              "</style>\n",
              "<table border=\"1\" class=\"dataframe\">\n",
              "  <thead>\n",
              "    <tr style=\"text-align: right;\">\n",
              "      <th></th>\n",
              "      <th>Unnamed: 0</th>\n",
              "      <th>name</th>\n",
              "      <th>cleaned</th>\n",
              "      <th>Polarity</th>\n",
              "      <th>Subjectivity</th>\n",
              "    </tr>\n",
              "  </thead>\n",
              "  <tbody>\n",
              "    <tr>\n",
              "      <th>0</th>\n",
              "      <td>0</td>\n",
              "      <td>All-New Fire HD 8 Tablet, 8 HD Display, Wi-Fi,...</td>\n",
              "      <td>this product so far has not disappointed my ch...</td>\n",
              "      <td>0.325000</td>\n",
              "      <td>0.783333</td>\n",
              "    </tr>\n",
              "    <tr>\n",
              "      <th>1</th>\n",
              "      <td>1</td>\n",
              "      <td>All-New Fire HD 8 Tablet, 8 HD Display, Wi-Fi,...</td>\n",
              "      <td>great for beginner or experienced person bough...</td>\n",
              "      <td>0.800000</td>\n",
              "      <td>0.825000</td>\n",
              "    </tr>\n",
              "    <tr>\n",
              "      <th>2</th>\n",
              "      <td>2</td>\n",
              "      <td>All-New Fire HD 8 Tablet, 8 HD Display, Wi-Fi,...</td>\n",
              "      <td>inexpensive tablet for him to use and learn on...</td>\n",
              "      <td>0.600000</td>\n",
              "      <td>0.700000</td>\n",
              "    </tr>\n",
              "    <tr>\n",
              "      <th>3</th>\n",
              "      <td>3</td>\n",
              "      <td>All-New Fire HD 8 Tablet, 8 HD Display, Wi-Fi,...</td>\n",
              "      <td>i have had my fire hd two weeks now and i love...</td>\n",
              "      <td>0.374583</td>\n",
              "      <td>0.731250</td>\n",
              "    </tr>\n",
              "    <tr>\n",
              "      <th>4</th>\n",
              "      <td>4</td>\n",
              "      <td>All-New Fire HD 8 Tablet, 8 HD Display, Wi-Fi,...</td>\n",
              "      <td>i bought this for my grand daughter when she c...</td>\n",
              "      <td>0.368056</td>\n",
              "      <td>0.616226</td>\n",
              "    </tr>\n",
              "  </tbody>\n",
              "</table>\n",
              "</div>\n",
              "    <div class=\"colab-df-buttons\">\n",
              "\n",
              "  <div class=\"colab-df-container\">\n",
              "    <button class=\"colab-df-convert\" onclick=\"convertToInteractive('df-d17f1601-debd-4712-8c73-eba2bcf01d28')\"\n",
              "            title=\"Convert this dataframe to an interactive table.\"\n",
              "            style=\"display:none;\">\n",
              "\n",
              "  <svg xmlns=\"http://www.w3.org/2000/svg\" height=\"24px\" viewBox=\"0 -960 960 960\">\n",
              "    <path d=\"M120-120v-720h720v720H120Zm60-500h600v-160H180v160Zm220 220h160v-160H400v160Zm0 220h160v-160H400v160ZM180-400h160v-160H180v160Zm440 0h160v-160H620v160ZM180-180h160v-160H180v160Zm440 0h160v-160H620v160Z\"/>\n",
              "  </svg>\n",
              "    </button>\n",
              "\n",
              "  <style>\n",
              "    .colab-df-container {\n",
              "      display:flex;\n",
              "      gap: 12px;\n",
              "    }\n",
              "\n",
              "    .colab-df-convert {\n",
              "      background-color: #E8F0FE;\n",
              "      border: none;\n",
              "      border-radius: 50%;\n",
              "      cursor: pointer;\n",
              "      display: none;\n",
              "      fill: #1967D2;\n",
              "      height: 32px;\n",
              "      padding: 0 0 0 0;\n",
              "      width: 32px;\n",
              "    }\n",
              "\n",
              "    .colab-df-convert:hover {\n",
              "      background-color: #E2EBFA;\n",
              "      box-shadow: 0px 1px 2px rgba(60, 64, 67, 0.3), 0px 1px 3px 1px rgba(60, 64, 67, 0.15);\n",
              "      fill: #174EA6;\n",
              "    }\n",
              "\n",
              "    .colab-df-buttons div {\n",
              "      margin-bottom: 4px;\n",
              "    }\n",
              "\n",
              "    [theme=dark] .colab-df-convert {\n",
              "      background-color: #3B4455;\n",
              "      fill: #D2E3FC;\n",
              "    }\n",
              "\n",
              "    [theme=dark] .colab-df-convert:hover {\n",
              "      background-color: #434B5C;\n",
              "      box-shadow: 0px 1px 3px 1px rgba(0, 0, 0, 0.15);\n",
              "      filter: drop-shadow(0px 1px 2px rgba(0, 0, 0, 0.3));\n",
              "      fill: #FFFFFF;\n",
              "    }\n",
              "  </style>\n",
              "\n",
              "    <script>\n",
              "      const buttonEl =\n",
              "        document.querySelector('#df-d17f1601-debd-4712-8c73-eba2bcf01d28 button.colab-df-convert');\n",
              "      buttonEl.style.display =\n",
              "        google.colab.kernel.accessAllowed ? 'block' : 'none';\n",
              "\n",
              "      async function convertToInteractive(key) {\n",
              "        const element = document.querySelector('#df-d17f1601-debd-4712-8c73-eba2bcf01d28');\n",
              "        const dataTable =\n",
              "          await google.colab.kernel.invokeFunction('convertToInteractive',\n",
              "                                                    [key], {});\n",
              "        if (!dataTable) return;\n",
              "\n",
              "        const docLinkHtml = 'Like what you see? Visit the ' +\n",
              "          '<a target=\"_blank\" href=https://colab.research.google.com/notebooks/data_table.ipynb>data table notebook</a>'\n",
              "          + ' to learn more about interactive tables.';\n",
              "        element.innerHTML = '';\n",
              "        dataTable['output_type'] = 'display_data';\n",
              "        await google.colab.output.renderOutput(dataTable, element);\n",
              "        const docLink = document.createElement('div');\n",
              "        docLink.innerHTML = docLinkHtml;\n",
              "        element.appendChild(docLink);\n",
              "      }\n",
              "    </script>\n",
              "  </div>\n",
              "\n",
              "\n",
              "<div id=\"df-7ae93f58-cf0c-49b9-aa9f-75a17e4617f6\">\n",
              "  <button class=\"colab-df-quickchart\" onclick=\"quickchart('df-7ae93f58-cf0c-49b9-aa9f-75a17e4617f6')\"\n",
              "            title=\"Suggest charts\"\n",
              "            style=\"display:none;\">\n",
              "\n",
              "<svg xmlns=\"http://www.w3.org/2000/svg\" height=\"24px\"viewBox=\"0 0 24 24\"\n",
              "     width=\"24px\">\n",
              "    <g>\n",
              "        <path d=\"M19 3H5c-1.1 0-2 .9-2 2v14c0 1.1.9 2 2 2h14c1.1 0 2-.9 2-2V5c0-1.1-.9-2-2-2zM9 17H7v-7h2v7zm4 0h-2V7h2v10zm4 0h-2v-4h2v4z\"/>\n",
              "    </g>\n",
              "</svg>\n",
              "  </button>\n",
              "\n",
              "<style>\n",
              "  .colab-df-quickchart {\n",
              "      --bg-color: #E8F0FE;\n",
              "      --fill-color: #1967D2;\n",
              "      --hover-bg-color: #E2EBFA;\n",
              "      --hover-fill-color: #174EA6;\n",
              "      --disabled-fill-color: #AAA;\n",
              "      --disabled-bg-color: #DDD;\n",
              "  }\n",
              "\n",
              "  [theme=dark] .colab-df-quickchart {\n",
              "      --bg-color: #3B4455;\n",
              "      --fill-color: #D2E3FC;\n",
              "      --hover-bg-color: #434B5C;\n",
              "      --hover-fill-color: #FFFFFF;\n",
              "      --disabled-bg-color: #3B4455;\n",
              "      --disabled-fill-color: #666;\n",
              "  }\n",
              "\n",
              "  .colab-df-quickchart {\n",
              "    background-color: var(--bg-color);\n",
              "    border: none;\n",
              "    border-radius: 50%;\n",
              "    cursor: pointer;\n",
              "    display: none;\n",
              "    fill: var(--fill-color);\n",
              "    height: 32px;\n",
              "    padding: 0;\n",
              "    width: 32px;\n",
              "  }\n",
              "\n",
              "  .colab-df-quickchart:hover {\n",
              "    background-color: var(--hover-bg-color);\n",
              "    box-shadow: 0 1px 2px rgba(60, 64, 67, 0.3), 0 1px 3px 1px rgba(60, 64, 67, 0.15);\n",
              "    fill: var(--button-hover-fill-color);\n",
              "  }\n",
              "\n",
              "  .colab-df-quickchart-complete:disabled,\n",
              "  .colab-df-quickchart-complete:disabled:hover {\n",
              "    background-color: var(--disabled-bg-color);\n",
              "    fill: var(--disabled-fill-color);\n",
              "    box-shadow: none;\n",
              "  }\n",
              "\n",
              "  .colab-df-spinner {\n",
              "    border: 2px solid var(--fill-color);\n",
              "    border-color: transparent;\n",
              "    border-bottom-color: var(--fill-color);\n",
              "    animation:\n",
              "      spin 1s steps(1) infinite;\n",
              "  }\n",
              "\n",
              "  @keyframes spin {\n",
              "    0% {\n",
              "      border-color: transparent;\n",
              "      border-bottom-color: var(--fill-color);\n",
              "      border-left-color: var(--fill-color);\n",
              "    }\n",
              "    20% {\n",
              "      border-color: transparent;\n",
              "      border-left-color: var(--fill-color);\n",
              "      border-top-color: var(--fill-color);\n",
              "    }\n",
              "    30% {\n",
              "      border-color: transparent;\n",
              "      border-left-color: var(--fill-color);\n",
              "      border-top-color: var(--fill-color);\n",
              "      border-right-color: var(--fill-color);\n",
              "    }\n",
              "    40% {\n",
              "      border-color: transparent;\n",
              "      border-right-color: var(--fill-color);\n",
              "      border-top-color: var(--fill-color);\n",
              "    }\n",
              "    60% {\n",
              "      border-color: transparent;\n",
              "      border-right-color: var(--fill-color);\n",
              "    }\n",
              "    80% {\n",
              "      border-color: transparent;\n",
              "      border-right-color: var(--fill-color);\n",
              "      border-bottom-color: var(--fill-color);\n",
              "    }\n",
              "    90% {\n",
              "      border-color: transparent;\n",
              "      border-bottom-color: var(--fill-color);\n",
              "    }\n",
              "  }\n",
              "</style>\n",
              "\n",
              "  <script>\n",
              "    async function quickchart(key) {\n",
              "      const quickchartButtonEl =\n",
              "        document.querySelector('#' + key + ' button');\n",
              "      quickchartButtonEl.disabled = true;  // To prevent multiple clicks.\n",
              "      quickchartButtonEl.classList.add('colab-df-spinner');\n",
              "      try {\n",
              "        const charts = await google.colab.kernel.invokeFunction(\n",
              "            'suggestCharts', [key], {});\n",
              "      } catch (error) {\n",
              "        console.error('Error during call to suggestCharts:', error);\n",
              "      }\n",
              "      quickchartButtonEl.classList.remove('colab-df-spinner');\n",
              "      quickchartButtonEl.classList.add('colab-df-quickchart-complete');\n",
              "    }\n",
              "    (() => {\n",
              "      let quickchartButtonEl =\n",
              "        document.querySelector('#df-7ae93f58-cf0c-49b9-aa9f-75a17e4617f6 button');\n",
              "      quickchartButtonEl.style.display =\n",
              "        google.colab.kernel.accessAllowed ? 'block' : 'none';\n",
              "    })();\n",
              "  </script>\n",
              "</div>\n",
              "\n",
              "    </div>\n",
              "  </div>\n"
            ],
            "text/plain": [
              "   Unnamed: 0                                               name  \\\n",
              "0           0  All-New Fire HD 8 Tablet, 8 HD Display, Wi-Fi,...   \n",
              "1           1  All-New Fire HD 8 Tablet, 8 HD Display, Wi-Fi,...   \n",
              "2           2  All-New Fire HD 8 Tablet, 8 HD Display, Wi-Fi,...   \n",
              "3           3  All-New Fire HD 8 Tablet, 8 HD Display, Wi-Fi,...   \n",
              "4           4  All-New Fire HD 8 Tablet, 8 HD Display, Wi-Fi,...   \n",
              "\n",
              "                                             cleaned  Polarity  Subjectivity  \n",
              "0  this product so far has not disappointed my ch...  0.325000      0.783333  \n",
              "1  great for beginner or experienced person bough...  0.800000      0.825000  \n",
              "2  inexpensive tablet for him to use and learn on...  0.600000      0.700000  \n",
              "3  i have had my fire hd two weeks now and i love...  0.374583      0.731250  \n",
              "4  i bought this for my grand daughter when she c...  0.368056      0.616226  "
            ]
          },
          "execution_count": 82,
          "metadata": {},
          "output_type": "execute_result"
        }
      ],
      "source": [
        "new_sentiment=pd.read_csv(\"new_sentiment.csv\")\n",
        "new_sentiment.head()"
      ]
    },
    {
      "cell_type": "code",
      "execution_count": null,
      "metadata": {
        "colab": {
          "base_uri": "https://localhost:8080/"
        },
        "id": "gspFdKeBEZ6O",
        "outputId": "bf895a80-946e-458a-f3fe-44065ba35b9e"
      },
      "outputs": [
        {
          "data": {
            "text/plain": [
              "Fire Tablet, 7 Display, Wi-Fi, 8 GB - Includes Special Offers, Magenta                                                                           10962\n",
              "Echo (White)                                                                                                                                      3300\n",
              "Amazon Kindle Paperwhite - eBook reader - 4 GB - 6 monochrome Paperwhite - touchscreen - Wi-Fi - black                                            3176\n",
              "All-New Fire HD 8 Tablet, 8 HD Display, Wi-Fi, 16 GB - Includes Special Offers, Magenta                                                           2814\n",
              "Amazon Fire Tv                                                                                                                                    2527\n",
              "Fire Kids Edition Tablet, 7 Display, Wi-Fi, 16 GB, Green Kid-Proof Case                                                                           1679\n",
              "Brand New Amazon Kindle Fire 16gb 7 Ips Display Tablet Wifi 16 Gb Blue                                                                            1030\n",
              "Kindle Voyage E-reader, 6 High-Resolution Display (300 ppi) with Adaptive Built-in Light, PagePress Sensors, Wi-Fi - Includes Special Offers,      580\n",
              "Name: name, dtype: int64"
            ]
          },
          "execution_count": 83,
          "metadata": {},
          "output_type": "execute_result"
        }
      ],
      "source": [
        "new_sentiment['name'].value_counts()"
      ]
    },
    {
      "cell_type": "code",
      "execution_count": null,
      "metadata": {
        "colab": {
          "base_uri": "https://localhost:8080/",
          "height": 1000
        },
        "id": "-CkXE7VTEpHo",
        "outputId": "1f082166-b01f-49de-aca3-eaa93581de1e"
      },
      "outputs": [
        {
          "data": {
            "text/plain": [
              "<Axes: >"
            ]
          },
          "execution_count": 86,
          "metadata": {},
          "output_type": "execute_result"
        },
        {
          "data": {
            "image/png": "[encoded data removed]",
            "text/plain": [
              "<Figure size 640x480 with 1 Axes>"
            ]
          },
          "metadata": {},
          "output_type": "display_data"
        }
      ],
      "source": [
        "new_sentiment['name'].value_counts().plot(kind='bar')"
      ]
    },
    {
      "cell_type": "markdown",
      "metadata": {},
      "source": [
        "### Labelling the sentiments: Polarity score > 0 is positive, < 0 is negative and the rest is neutral"
      ]
    }
  ],
  "metadata": {
    "colab": {
      "include_colab_link": true,
      "provenance": []
    },
    "kaggle": {
      "accelerator": "none",
      "dataSources": [
        {
          "datasetId": 4431813,
          "sourceId": 7610955,
          "sourceType": "datasetVersion"
        }
      ],
      "dockerImageVersionId": 30646,
      "isGpuEnabled": false,
      "isInternetEnabled": false,
      "language": "python",
      "sourceType": "notebook"
    },
    "kernelspec": {
      "display_name": "Python 3 (ipykernel)",
      "language": "python",
      "name": "python3"
    }
  },
  "nbformat": 4,
  "nbformat_minor": 0
}
